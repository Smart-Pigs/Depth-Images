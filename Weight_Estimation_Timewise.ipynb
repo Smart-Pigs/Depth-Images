{
  "cells": [
    {
      "cell_type": "markdown",
      "metadata": {
        "id": "view-in-github",
        "colab_type": "text"
      },
      "source": [
        "<a href=\"https://colab.research.google.com/github/Smart-Pigs/Depth-Images/blob/main/Weight_Estimation_Timewise.ipynb\" target=\"_parent\"><img src=\"https://colab.research.google.com/assets/colab-badge.svg\" alt=\"Open In Colab\"/></a>"
      ]
    },
    {
      "cell_type": "markdown",
      "metadata": {
        "id": "rt1QiZxD_M2H"
      },
      "source": [
        "Make sure you have this folder as shortcut in your drive - /content/gdrive/MyDrive/Morota-video-data/ "
      ]
    },
    {
      "cell_type": "code",
      "execution_count": null,
      "metadata": {
        "colab": {
          "base_uri": "https://localhost:8080/"
        },
        "id": "wh9Vwean2fOO",
        "outputId": "2ce035c4-4d3c-4953-d7fe-390439a09a84"
      },
      "outputs": [
        {
          "output_type": "stream",
          "name": "stdout",
          "text": [
            "Mounted at /content/gdrive\n"
          ]
        }
      ],
      "source": [
        "#Mount Google Drive \n",
        "from google.colab import drive\n",
        "drive.mount('/content/gdrive',force_remount=True)"
      ]
    },
    {
      "cell_type": "markdown",
      "metadata": {
        "id": "iBa7wLZiP464"
      },
      "source": [
        "### Data Loading"
      ]
    },
    {
      "cell_type": "code",
      "execution_count": null,
      "metadata": {
        "id": "3_wcT30tQdnm"
      },
      "outputs": [],
      "source": [
        "#@markdown Select resolution of input dataset and weeks of data\n",
        "\n",
        "Instantiate_New_Dataset = True #@param {type:\"boolean\"}\n",
        "Refresh_Old_Dataset = False #@param {type:\"boolean\"}\n",
        "\n",
        "if Instantiate_New_Dataset == True:\n",
        "  !rm -rf Week*/\n",
        "\n",
        "Resolution = \"256\"  #@param ['1280', '512', '256', '224', '128']\n",
        "All_Weeks = True #@param {type:\"boolean\"}\n",
        "Weeks_1_2 = False #@param {type:\"boolean\"}\n",
        "Weeks_3_4 = False #@param {type:\"boolean\"}\n",
        "Weeks_5_6 = False #@param {type:\"boolean\"}\n",
        "Weeks_7_8 = False #@param {type:\"boolean\"}\n",
        "Weeks_9_10 = False #@param {type:\"boolean\"}\n",
        "\n",
        "if Refresh_Old_Dataset == False:\n",
        "  if Resolution == \"1280\":\n",
        "    if All_Weeks == True:\n",
        "      !cp /content/gdrive/MyDrive/Morota-video-data/DEPTH_INDIVIDUAL/SQUARE/SQUARE_WEEK1-2.zip .\n",
        "      !unzip -qq *WEEK1-2.zip -d .\n",
        "      !rm -rf *WEEK*.zip\n",
        "      !cp /content/gdrive/MyDrive/Morota-video-data/DEPTH_INDIVIDUAL/SQUARE/SQUARE_WEEK3-4.zip .\n",
        "      !unzip -qq *WEEK3-4.zip -d .\n",
        "      !rm -rf *WEEK*.zip\n",
        "      !cp /content/gdrive/MyDrive/Morota-video-data/DEPTH_INDIVIDUAL/SQUARE/SQUARE_WEEK5-6.zip .\n",
        "      !unzip -qq *WEEK5-6.zip -d .\n",
        "      !rm -rf *WEEK*.zip\n",
        "      !cp /content/gdrive/MyDrive/Morota-video-data/DEPTH_INDIVIDUAL/SQUARE/SQUARE_WEEK7-8.zip .\n",
        "      !unzip -qq *WEEK7-8.zip -d .\n",
        "      !rm -rf *WEEK*.zip\n",
        "      !cp /content/gdrive/MyDrive/Morota-video-data/DEPTH_INDIVIDUAL/SQUARE/SQUARE_WEEK9-10.zip .    \n",
        "      !unzip -qq *WEEK9-10.zip -d .\n",
        "      !rm -rf *WEEK*.zip\n",
        "    if Weeks_1_2 == True:\n",
        "      !cp /content/gdrive/MyDrive/Morota-video-data/DEPTH_INDIVIDUAL/SQUARE/SQUARE_WEEK1-2.zip .\n",
        "      !unzip -qq *WEEK1-2.zip -d .\n",
        "      !rm -rf *WEEK*.zip\n",
        "    if Weeks_3_4 == True:\n",
        "      !cp /content/gdrive/MyDrive/Morota-video-data/DEPTH_INDIVIDUAL/SQUARE/SQUARE_WEEK3-4.zip .\n",
        "      !unzip -qq *WEEK3-4.zip -d .\n",
        "      !rm -rf *WEEK*.zip\n",
        "    if Weeks_5_6 == True:\n",
        "      !cp /content/gdrive/MyDrive/Morota-video-data/DEPTH_INDIVIDUAL/SQUARE/SQUARE_WEEK5-6.zip .\n",
        "      !unzip -qq *WEEK5-6.zip -d .\n",
        "      !rm -rf *WEEK*.zip\n",
        "    if Weeks_7_8 == True:  \n",
        "      !cp /content/gdrive/MyDrive/Morota-video-data/DEPTH_INDIVIDUAL/SQUARE/SQUARE_WEEK7-8.zip .\n",
        "      !unzip -qq *WEEK7-8.zip -d . \n",
        "      !rm -rf *WEEK*.zip \n",
        "    if Weeks_9_10 == True:\n",
        "      !cp /content/gdrive/MyDrive/Morota-video-data/DEPTH_INDIVIDUAL/SQUARE/SQUARE_WEEK9-10.zip .\n",
        "      !unzip -qq *WEEK9-10.zip -d .\n",
        "      !rm -rf *WEEK*.zip\n",
        "\n",
        "  if Resolution == \"512\":\n",
        "    !cp /content/gdrive/MyDrive/Morota-video-data/DEPTH_INDIVIDUAL/SQUARE/SQUARE_WEEK1-10_512.zip .\n",
        "    !unzip -qq SQUARE_WEEK1-10_512.zip -d .\n",
        "    !rm -rf *WEEK*.zip\n",
        "\n",
        "  if Resolution == \"256\":\n",
        "    !cp /content/gdrive/MyDrive/Morota-video-data/DEPTH_INDIVIDUAL/SQUARE/SQUARE_WEEK1-10_256.zip .\n",
        "    !unzip -qq SQUARE_WEEK1-10_256.zip -d .\n",
        "    !rm -rf *WEEK*.zip\n",
        "\n",
        "  if Resolution == \"224\":\n",
        "    !cp /content/gdrive/MyDrive/Morota-video-data/DEPTH_INDIVIDUAL/SQUARE/SQUARE_WEEK1-10_224.zip .\n",
        "    !unzip -qq SQUARE_WEEK1-10_224.zip -d .\n",
        "    !rm -rf *WEEK*.zip    \n",
        "\n",
        "  if Resolution == \"128\":\n",
        "    !cp /content/gdrive/MyDrive/Morota-video-data/DEPTH_INDIVIDUAL/SQUARE/SQUARE_WEEK1-10_128.zip .\n",
        "    !unzip -qq SQUARE_WEEK1-10_128.zip -d .\n",
        "    !rm -rf *WEEK*.zip"
      ]
    },
    {
      "cell_type": "markdown",
      "metadata": {
        "id": "qrG6Sd2wPhR9"
      },
      "source": [
        "### Mapping Table Input"
      ]
    },
    {
      "cell_type": "code",
      "execution_count": null,
      "metadata": {
        "id": "GZJc0qPKSlUe"
      },
      "outputs": [],
      "source": [
        "import pandas as pd"
      ]
    },
    {
      "cell_type": "code",
      "execution_count": null,
      "metadata": {
        "id": "WuRbcfmGVHWh"
      },
      "outputs": [],
      "source": [
        "final_map = pd.read_csv(\"/content/gdrive/MyDrive/Morota-video-data/final_mapping.csv\")"
      ]
    },
    {
      "cell_type": "code",
      "execution_count": null,
      "metadata": {
        "id": "Jk-bYshSK9qz"
      },
      "outputs": [],
      "source": [
        "#@markdown #####Run this cell to load the mapping table\n",
        "\n",
        "if All_Weeks == True:\n",
        "  weeks = final_map\n",
        "if Weeks_1_2 == True:\n",
        "  weeks = final_map[(final_map['Week']==1) | (final_map['Week']==2)]\n",
        "if Weeks_1_2 == True and Weeks_3_4 == True:  \n",
        "  weeks = final_map[(final_map['Week']==1) | (final_map['Week']==2) | (final_map['Week']==3) | (final_map['Week']==4)]\n",
        "if Weeks_1_2 == True and Weeks_3_4 == True and Weeks_5_6 == True:  \n",
        "  weeks = final_map[(final_map['Week']==1) | (final_map['Week']==2) | (final_map['Week']==3) | (final_map['Week']==4) | (final_map['Week']==5) | (final_map['Week']==6)]\n",
        "if Weeks_1_2 == True and Weeks_3_4 == True and Weeks_5_6 == True and Weeks_7_8 == True:  \n",
        "  weeks = final_map[(final_map['Week']==1) | (final_map['Week']==2) | (final_map['Week']==3) | (final_map['Week']==4) | (final_map['Week']==5) | (final_map['Week']==6) | (final_map['Week']==7) | (final_map['Week']==8)]\n",
        "if Weeks_1_2 == True and Weeks_3_4 == True and Weeks_5_6 == True and Weeks_7_8 == True and Weeks_9_10 == True:  \n",
        "  weeks = final_map[(final_map['Week']==1) | (final_map['Week']==2) | (final_map['Week']==3) | (final_map['Week']==4) | (final_map['Week']==5) | (final_map['Week']==6) | (final_map['Week']==7) | (final_map['Week']==8) | (final_map['Week']==9) | (final_map['Week']==10)]"
      ]
    },
    {
      "cell_type": "code",
      "execution_count": null,
      "metadata": {
        "colab": {
          "base_uri": "https://localhost:8080/",
          "height": 424
        },
        "id": "Ya5yII3HPhbr",
        "outputId": "a880b0f1-60a4-4ed3-acd6-402ccb71c524"
      },
      "outputs": [
        {
          "output_type": "execute_result",
          "data": {
            "text/plain": [
              "                                           image_path      Date   Pig  weight  \\\n",
              "0      Week1/20210922/20210922_3330_b/_Depth_4683.jpg  20210922  3330    15.5   \n",
              "1      Week1/20210922/20210922_3330_b/_Depth_4778.jpg  20210922  3330    15.5   \n",
              "2      Week1/20210922/20210922_3330_b/_Depth_4579.jpg  20210922  3330    15.5   \n",
              "3      Week1/20210922/20210922_3330_b/_Depth_4578.jpg  20210922  3330    15.5   \n",
              "4      Week1/20210922/20210922_3330_b/_Depth_4584.jpg  20210922  3330    15.5   \n",
              "...                                               ...       ...   ...     ...   \n",
              "96220   Week10/20211119/20211119_3342/_Depth_3504.jpg  20211119  3342    56.6   \n",
              "96221   Week10/20211119/20211119_3342/_Depth_3318.jpg  20211119  3342    56.6   \n",
              "96222   Week10/20211119/20211119_3342/_Depth_3476.jpg  20211119  3342    56.6   \n",
              "96223   Week10/20211119/20211119_3342/_Depth_3169.jpg  20211119  3342    56.6   \n",
              "96224   Week10/20211119/20211119_3342/_Depth_3022.jpg  20211119  3342    56.6   \n",
              "\n",
              "       Week  \n",
              "0         1  \n",
              "1         1  \n",
              "2         1  \n",
              "3         1  \n",
              "4         1  \n",
              "...     ...  \n",
              "96220    10  \n",
              "96221    10  \n",
              "96222    10  \n",
              "96223    10  \n",
              "96224    10  \n",
              "\n",
              "[96225 rows x 5 columns]"
            ],
            "text/html": [
              "\n",
              "  <div id=\"df-f54003ab-1435-43ed-bca3-591fecaea2fa\">\n",
              "    <div class=\"colab-df-container\">\n",
              "      <div>\n",
              "<style scoped>\n",
              "    .dataframe tbody tr th:only-of-type {\n",
              "        vertical-align: middle;\n",
              "    }\n",
              "\n",
              "    .dataframe tbody tr th {\n",
              "        vertical-align: top;\n",
              "    }\n",
              "\n",
              "    .dataframe thead th {\n",
              "        text-align: right;\n",
              "    }\n",
              "</style>\n",
              "<table border=\"1\" class=\"dataframe\">\n",
              "  <thead>\n",
              "    <tr style=\"text-align: right;\">\n",
              "      <th></th>\n",
              "      <th>image_path</th>\n",
              "      <th>Date</th>\n",
              "      <th>Pig</th>\n",
              "      <th>weight</th>\n",
              "      <th>Week</th>\n",
              "    </tr>\n",
              "  </thead>\n",
              "  <tbody>\n",
              "    <tr>\n",
              "      <th>0</th>\n",
              "      <td>Week1/20210922/20210922_3330_b/_Depth_4683.jpg</td>\n",
              "      <td>20210922</td>\n",
              "      <td>3330</td>\n",
              "      <td>15.5</td>\n",
              "      <td>1</td>\n",
              "    </tr>\n",
              "    <tr>\n",
              "      <th>1</th>\n",
              "      <td>Week1/20210922/20210922_3330_b/_Depth_4778.jpg</td>\n",
              "      <td>20210922</td>\n",
              "      <td>3330</td>\n",
              "      <td>15.5</td>\n",
              "      <td>1</td>\n",
              "    </tr>\n",
              "    <tr>\n",
              "      <th>2</th>\n",
              "      <td>Week1/20210922/20210922_3330_b/_Depth_4579.jpg</td>\n",
              "      <td>20210922</td>\n",
              "      <td>3330</td>\n",
              "      <td>15.5</td>\n",
              "      <td>1</td>\n",
              "    </tr>\n",
              "    <tr>\n",
              "      <th>3</th>\n",
              "      <td>Week1/20210922/20210922_3330_b/_Depth_4578.jpg</td>\n",
              "      <td>20210922</td>\n",
              "      <td>3330</td>\n",
              "      <td>15.5</td>\n",
              "      <td>1</td>\n",
              "    </tr>\n",
              "    <tr>\n",
              "      <th>4</th>\n",
              "      <td>Week1/20210922/20210922_3330_b/_Depth_4584.jpg</td>\n",
              "      <td>20210922</td>\n",
              "      <td>3330</td>\n",
              "      <td>15.5</td>\n",
              "      <td>1</td>\n",
              "    </tr>\n",
              "    <tr>\n",
              "      <th>...</th>\n",
              "      <td>...</td>\n",
              "      <td>...</td>\n",
              "      <td>...</td>\n",
              "      <td>...</td>\n",
              "      <td>...</td>\n",
              "    </tr>\n",
              "    <tr>\n",
              "      <th>96220</th>\n",
              "      <td>Week10/20211119/20211119_3342/_Depth_3504.jpg</td>\n",
              "      <td>20211119</td>\n",
              "      <td>3342</td>\n",
              "      <td>56.6</td>\n",
              "      <td>10</td>\n",
              "    </tr>\n",
              "    <tr>\n",
              "      <th>96221</th>\n",
              "      <td>Week10/20211119/20211119_3342/_Depth_3318.jpg</td>\n",
              "      <td>20211119</td>\n",
              "      <td>3342</td>\n",
              "      <td>56.6</td>\n",
              "      <td>10</td>\n",
              "    </tr>\n",
              "    <tr>\n",
              "      <th>96222</th>\n",
              "      <td>Week10/20211119/20211119_3342/_Depth_3476.jpg</td>\n",
              "      <td>20211119</td>\n",
              "      <td>3342</td>\n",
              "      <td>56.6</td>\n",
              "      <td>10</td>\n",
              "    </tr>\n",
              "    <tr>\n",
              "      <th>96223</th>\n",
              "      <td>Week10/20211119/20211119_3342/_Depth_3169.jpg</td>\n",
              "      <td>20211119</td>\n",
              "      <td>3342</td>\n",
              "      <td>56.6</td>\n",
              "      <td>10</td>\n",
              "    </tr>\n",
              "    <tr>\n",
              "      <th>96224</th>\n",
              "      <td>Week10/20211119/20211119_3342/_Depth_3022.jpg</td>\n",
              "      <td>20211119</td>\n",
              "      <td>3342</td>\n",
              "      <td>56.6</td>\n",
              "      <td>10</td>\n",
              "    </tr>\n",
              "  </tbody>\n",
              "</table>\n",
              "<p>96225 rows × 5 columns</p>\n",
              "</div>\n",
              "      <button class=\"colab-df-convert\" onclick=\"convertToInteractive('df-f54003ab-1435-43ed-bca3-591fecaea2fa')\"\n",
              "              title=\"Convert this dataframe to an interactive table.\"\n",
              "              style=\"display:none;\">\n",
              "        \n",
              "  <svg xmlns=\"http://www.w3.org/2000/svg\" height=\"24px\"viewBox=\"0 0 24 24\"\n",
              "       width=\"24px\">\n",
              "    <path d=\"M0 0h24v24H0V0z\" fill=\"none\"/>\n",
              "    <path d=\"M18.56 5.44l.94 2.06.94-2.06 2.06-.94-2.06-.94-.94-2.06-.94 2.06-2.06.94zm-11 1L8.5 8.5l.94-2.06 2.06-.94-2.06-.94L8.5 2.5l-.94 2.06-2.06.94zm10 10l.94 2.06.94-2.06 2.06-.94-2.06-.94-.94-2.06-.94 2.06-2.06.94z\"/><path d=\"M17.41 7.96l-1.37-1.37c-.4-.4-.92-.59-1.43-.59-.52 0-1.04.2-1.43.59L10.3 9.45l-7.72 7.72c-.78.78-.78 2.05 0 2.83L4 21.41c.39.39.9.59 1.41.59.51 0 1.02-.2 1.41-.59l7.78-7.78 2.81-2.81c.8-.78.8-2.07 0-2.86zM5.41 20L4 18.59l7.72-7.72 1.47 1.35L5.41 20z\"/>\n",
              "  </svg>\n",
              "      </button>\n",
              "      \n",
              "  <style>\n",
              "    .colab-df-container {\n",
              "      display:flex;\n",
              "      flex-wrap:wrap;\n",
              "      gap: 12px;\n",
              "    }\n",
              "\n",
              "    .colab-df-convert {\n",
              "      background-color: #E8F0FE;\n",
              "      border: none;\n",
              "      border-radius: 50%;\n",
              "      cursor: pointer;\n",
              "      display: none;\n",
              "      fill: #1967D2;\n",
              "      height: 32px;\n",
              "      padding: 0 0 0 0;\n",
              "      width: 32px;\n",
              "    }\n",
              "\n",
              "    .colab-df-convert:hover {\n",
              "      background-color: #E2EBFA;\n",
              "      box-shadow: 0px 1px 2px rgba(60, 64, 67, 0.3), 0px 1px 3px 1px rgba(60, 64, 67, 0.15);\n",
              "      fill: #174EA6;\n",
              "    }\n",
              "\n",
              "    [theme=dark] .colab-df-convert {\n",
              "      background-color: #3B4455;\n",
              "      fill: #D2E3FC;\n",
              "    }\n",
              "\n",
              "    [theme=dark] .colab-df-convert:hover {\n",
              "      background-color: #434B5C;\n",
              "      box-shadow: 0px 1px 3px 1px rgba(0, 0, 0, 0.15);\n",
              "      filter: drop-shadow(0px 1px 2px rgba(0, 0, 0, 0.3));\n",
              "      fill: #FFFFFF;\n",
              "    }\n",
              "  </style>\n",
              "\n",
              "      <script>\n",
              "        const buttonEl =\n",
              "          document.querySelector('#df-f54003ab-1435-43ed-bca3-591fecaea2fa button.colab-df-convert');\n",
              "        buttonEl.style.display =\n",
              "          google.colab.kernel.accessAllowed ? 'block' : 'none';\n",
              "\n",
              "        async function convertToInteractive(key) {\n",
              "          const element = document.querySelector('#df-f54003ab-1435-43ed-bca3-591fecaea2fa');\n",
              "          const dataTable =\n",
              "            await google.colab.kernel.invokeFunction('convertToInteractive',\n",
              "                                                     [key], {});\n",
              "          if (!dataTable) return;\n",
              "\n",
              "          const docLinkHtml = 'Like what you see? Visit the ' +\n",
              "            '<a target=\"_blank\" href=https://colab.research.google.com/notebooks/data_table.ipynb>data table notebook</a>'\n",
              "            + ' to learn more about interactive tables.';\n",
              "          element.innerHTML = '';\n",
              "          dataTable['output_type'] = 'display_data';\n",
              "          await google.colab.output.renderOutput(dataTable, element);\n",
              "          const docLink = document.createElement('div');\n",
              "          docLink.innerHTML = docLinkHtml;\n",
              "          element.appendChild(docLink);\n",
              "        }\n",
              "      </script>\n",
              "    </div>\n",
              "  </div>\n",
              "  "
            ]
          },
          "metadata": {},
          "execution_count": 128
        }
      ],
      "source": [
        "weeks"
      ]
    },
    {
      "cell_type": "code",
      "execution_count": null,
      "metadata": {
        "id": "oY-FHnPO1CW8"
      },
      "outputs": [],
      "source": [
        "#weeks_train = weeks[weeks[\"image_path\"] != 3384]\n",
        "weeks_test = weeks[weeks['image_path'].str.contains('Week9|Week10')]"
      ]
    },
    {
      "cell_type": "code",
      "execution_count": null,
      "metadata": {
        "id": "k-OZqlmN1ID1"
      },
      "outputs": [],
      "source": [
        "#weeks_test = weeks[weeks[\"Pig\"] == 3384]\n",
        "weeks_train = weeks[~weeks['image_path'].str.contains('Week9|Week10')]"
      ]
    },
    {
      "cell_type": "code",
      "execution_count": null,
      "metadata": {
        "id": "_w8TON8mm_Ls"
      },
      "outputs": [],
      "source": [
        "#rd_train=weeks.sample(frac=0.8,random_state=200)\n",
        "#rd_test=weeks.drop(rd_train.index)"
      ]
    },
    {
      "cell_type": "code",
      "execution_count": null,
      "metadata": {
        "id": "LjVpFQBTOwrI"
      },
      "outputs": [],
      "source": [
        "image_paths_train = weeks_train['image_path'].values\n",
        "labels_train = weeks_train['weight'].values\n",
        "image_paths_test = weeks_test['image_path'].values\n",
        "labels_test = weeks_test['weight'].values"
      ]
    },
    {
      "cell_type": "markdown",
      "metadata": {
        "id": "0qMZ4X2ePp7-"
      },
      "source": [
        "### Dataset"
      ]
    },
    {
      "cell_type": "code",
      "execution_count": null,
      "metadata": {
        "id": "tGTOXS_mPc68"
      },
      "outputs": [],
      "source": [
        "import tensorflow as tf\n",
        "import pandas as pd\n",
        "import cv2\n",
        "import numpy as np\n",
        "import matplotlib.pyplot as plt"
      ]
    },
    {
      "cell_type": "code",
      "execution_count": null,
      "metadata": {
        "id": "-RJS1kzIPmeU"
      },
      "outputs": [],
      "source": [
        "train_dataset = tf.data.Dataset.from_tensor_slices((image_paths_train, labels_train))\n",
        "test_dataset = tf.data.Dataset.from_tensor_slices((image_paths_test, labels_test))"
      ]
    },
    {
      "cell_type": "code",
      "execution_count": null,
      "metadata": {
        "id": "MatpkQ8_PoTY"
      },
      "outputs": [],
      "source": [
        "IMG_SIZE = int(Resolution)\n",
        "channels = 1\n",
        "\n",
        "def preprocess_image(image_path, label):\n",
        "    img = tf.io.read_file(image_path)\n",
        "    img = tf.image.decode_jpeg(img, channels=3)\n",
        "#----------change gray scale and rgb----------------------------\n",
        "    #img = tf.image.rgb_to_grayscale(img)\n",
        "#-------------------------------------------------------------------\n",
        "    if int(Resolution) > IMG_SIZE:\n",
        "      img = tf.image.resize(img, [IMG_SIZE, IMG_SIZE])\n",
        "    img = tf.cast(img, tf.float32) / 255.0\n",
        "    return img, label"
      ]
    },
    {
      "cell_type": "code",
      "execution_count": null,
      "metadata": {
        "colab": {
          "base_uri": "https://localhost:8080/"
        },
        "id": "CZt3CGw6Q_gr",
        "outputId": "a7372498-3099-492e-f038-a0927ea7b784"
      },
      "outputs": [
        {
          "output_type": "stream",
          "name": "stdout",
          "text": [
            "Number of elements in the train dataset: 70297\n",
            "Number of elements in the test dataset: 25928\n"
          ]
        }
      ],
      "source": [
        "print(\"Number of elements in the train dataset:\", tf.data.experimental.cardinality(train_dataset).numpy())\n",
        "print(\"Number of elements in the test dataset:\", tf.data.experimental.cardinality(test_dataset).numpy())"
      ]
    },
    {
      "cell_type": "code",
      "execution_count": null,
      "metadata": {
        "id": "4oGiaV36buU8"
      },
      "outputs": [],
      "source": [
        "#---------------------for size 512, use batch size 64, if smaller, could change to 128--------------------------\n",
        "batch_size = 64\n",
        "#---------------------------------------------------------------------------------------------------------------------------\n",
        "train_dataset = train_dataset.shuffle(len(labels_train))\n",
        "train_dataset = train_dataset.map(preprocess_image)\n",
        "train_dataset = train_dataset.batch(batch_size)\n",
        "train_dataset = train_dataset.prefetch(tf.data.AUTOTUNE)\n",
        "\n",
        "test_dataset = test_dataset.map(preprocess_image)\n",
        "test_dataset = test_dataset.batch(batch_size)\n",
        "test_dataset = test_dataset.prefetch(tf.data.AUTOTUNE)"
      ]
    },
    {
      "cell_type": "markdown",
      "metadata": {
        "id": "eXKjNY9QPuxP"
      },
      "source": [
        "### Model Config and Training"
      ]
    },
    {
      "cell_type": "code",
      "execution_count": null,
      "metadata": {
        "id": "G7huVLqrbwUY"
      },
      "outputs": [],
      "source": [
        "model = tf.keras.Sequential([\n",
        "#change shape 1/3----------------------------------------------------------------------------------------------\n",
        "    tf.keras.layers.Conv2D(32, (3, 3), activation='relu', input_shape=(IMG_SIZE, IMG_SIZE, 3)),\n",
        "#----------------------------------------------------------------------------------------------------------------\n",
        "    tf.keras.layers.MaxPooling2D((2, 2)),\n",
        "    tf.keras.layers.Conv2D(64, (3, 3), activation='relu'),\n",
        "    tf.keras.layers.MaxPooling2D((2, 2)),\n",
        "#-------------------------------Add 1 conv layer for rgb image------------------\n",
        "    #tf.keras.layers.Conv2D(128, (3, 3), activation='relu'),\n",
        "    #tf.keras.layers.MaxPooling2D((2, 2)),\n",
        "#--------------------------------------------------------------------------------------\n",
        "    tf.keras.layers.Flatten(),\n",
        "    tf.keras.layers.Dense(64, activation='relu'),\n",
        "    tf.keras.layers.Dropout(0.5),\n",
        "    tf.keras.layers.Dense(1)\n",
        "])"
      ]
    },
    {
      "cell_type": "code",
      "execution_count": null,
      "metadata": {
        "id": "rxcrQtBcbyLZ"
      },
      "outputs": [],
      "source": [
        "model.compile(optimizer='adam', loss='mse', metrics=['mae','mape'])"
      ]
    },
    {
      "cell_type": "code",
      "execution_count": null,
      "metadata": {
        "colab": {
          "base_uri": "https://localhost:8080/"
        },
        "id": "J61WciyFvmVP",
        "outputId": "b178f73e-5099-4c92-d5ae-96eb2d3dfaa7"
      },
      "outputs": [
        {
          "output_type": "stream",
          "name": "stdout",
          "text": [
            "Fri Mar 24 09:05:10 2023       \n",
            "+-----------------------------------------------------------------------------+\n",
            "| NVIDIA-SMI 525.85.12    Driver Version: 525.85.12    CUDA Version: 12.0     |\n",
            "|-------------------------------+----------------------+----------------------+\n",
            "| GPU  Name        Persistence-M| Bus-Id        Disp.A | Volatile Uncorr. ECC |\n",
            "| Fan  Temp  Perf  Pwr:Usage/Cap|         Memory-Usage | GPU-Util  Compute M. |\n",
            "|                               |                      |               MIG M. |\n",
            "|===============================+======================+======================|\n",
            "|   0  Tesla T4            Off  | 00000000:00:04.0 Off |                    0 |\n",
            "| N/A   71C    P0    32W /  70W |  14549MiB / 15360MiB |      0%      Default |\n",
            "|                               |                      |                  N/A |\n",
            "+-------------------------------+----------------------+----------------------+\n",
            "                                                                               \n",
            "+-----------------------------------------------------------------------------+\n",
            "| Processes:                                                                  |\n",
            "|  GPU   GI   CI        PID   Type   Process name                  GPU Memory |\n",
            "|        ID   ID                                                   Usage      |\n",
            "|=============================================================================|\n",
            "+-----------------------------------------------------------------------------+\n"
          ]
        }
      ],
      "source": [
        "!nvidia-smi"
      ]
    },
    {
      "cell_type": "code",
      "execution_count": null,
      "metadata": {
        "colab": {
          "base_uri": "https://localhost:8080/",
          "height": 1000
        },
        "id": "ISZFminJb6iZ",
        "outputId": "2077e552-a5b1-44b0-ff48-8296ac9c3eeb"
      },
      "outputs": [
        {
          "output_type": "stream",
          "name": "stdout",
          "text": [
            "Model: \"sequential_8\"\n",
            "_________________________________________________________________\n",
            " Layer (type)                Output Shape              Param #   \n",
            "=================================================================\n",
            " conv2d_19 (Conv2D)          (None, 254, 254, 32)      896       \n",
            "                                                                 \n",
            " max_pooling2d_19 (MaxPoolin  (None, 127, 127, 32)     0         \n",
            " g2D)                                                            \n",
            "                                                                 \n",
            " conv2d_20 (Conv2D)          (None, 125, 125, 64)      18496     \n",
            "                                                                 \n",
            " max_pooling2d_20 (MaxPoolin  (None, 62, 62, 64)       0         \n",
            " g2D)                                                            \n",
            "                                                                 \n",
            " flatten_8 (Flatten)         (None, 246016)            0         \n",
            "                                                                 \n",
            " dense_16 (Dense)            (None, 64)                15745088  \n",
            "                                                                 \n",
            " dropout_8 (Dropout)         (None, 64)                0         \n",
            "                                                                 \n",
            " dense_17 (Dense)            (None, 1)                 65        \n",
            "                                                                 \n",
            "=================================================================\n",
            "Total params: 15,764,545\n",
            "Trainable params: 15,764,545\n",
            "Non-trainable params: 0\n",
            "_________________________________________________________________\n",
            "Epoch 1/50\n",
            "1099/1099 [==============================] - 105s 94ms/step - loss: 50.6975 - mae: 5.5116 - mape: 20.5944 - val_loss: 214.7468 - val_mae: 11.2129 - val_mape: 23.4745\n",
            "Epoch 2/50\n",
            "1099/1099 [==============================] - 103s 93ms/step - loss: 41.9788 - mae: 5.0145 - mape: 18.6232 - val_loss: 233.1817 - val_mae: 11.7482 - val_mape: 24.6484\n",
            "Epoch 3/50\n",
            "1099/1099 [==============================] - 103s 93ms/step - loss: 38.8911 - mae: 4.8174 - mape: 17.8675 - val_loss: 263.8890 - val_mae: 12.6801 - val_mape: 26.8427\n",
            "Epoch 4/50\n",
            "1099/1099 [==============================] - 103s 93ms/step - loss: 36.4943 - mae: 4.6636 - mape: 17.2411 - val_loss: 242.5545 - val_mae: 11.8729 - val_mape: 24.7477\n",
            "Epoch 5/50\n",
            "1099/1099 [==============================] - 102s 93ms/step - loss: 33.9660 - mae: 4.4818 - mape: 16.5338 - val_loss: 250.9906 - val_mae: 12.0284 - val_mape: 24.9878\n",
            "Epoch 6/50\n",
            "1099/1099 [==============================] - 102s 92ms/step - loss: 31.5361 - mae: 4.3069 - mape: 15.8759 - val_loss: 260.9169 - val_mae: 12.3251 - val_mape: 25.6967\n",
            "Epoch 7/50\n",
            "1099/1099 [==============================] - 102s 93ms/step - loss: 29.8436 - mae: 4.1816 - mape: 15.3284 - val_loss: 265.3152 - val_mae: 12.4927 - val_mape: 26.1263\n",
            "Epoch 8/50\n",
            "1099/1099 [==============================] - 102s 93ms/step - loss: 27.6392 - mae: 3.9865 - mape: 14.5728 - val_loss: 284.6762 - val_mae: 13.0625 - val_mape: 27.4765\n",
            "Epoch 9/50\n",
            "1099/1099 [==============================] - 102s 93ms/step - loss: 25.8476 - mae: 3.8460 - mape: 14.0274 - val_loss: 271.7116 - val_mae: 12.6048 - val_mape: 26.3005\n",
            "Epoch 10/50\n",
            "1099/1099 [==============================] - 101s 92ms/step - loss: 24.0087 - mae: 3.6823 - mape: 13.3569 - val_loss: 243.5362 - val_mae: 11.6398 - val_mape: 23.9266\n",
            "Epoch 11/50\n",
            "1099/1099 [==============================] - 101s 92ms/step - loss: 21.9216 - mae: 3.5072 - mape: 12.6877 - val_loss: 260.1918 - val_mae: 12.1877 - val_mape: 25.2307\n",
            "Epoch 12/50\n",
            "1099/1099 [==============================] - 101s 92ms/step - loss: 20.0839 - mae: 3.3466 - mape: 12.0526 - val_loss: 270.0605 - val_mae: 12.5056 - val_mape: 26.0073\n",
            "Epoch 13/50\n",
            "1099/1099 [==============================] - 102s 92ms/step - loss: 18.7574 - mae: 3.2042 - mape: 11.4810 - val_loss: 244.5887 - val_mae: 11.6439 - val_mape: 23.8767\n",
            "Epoch 14/50\n",
            "1099/1099 [==============================] - 101s 92ms/step - loss: 17.0276 - mae: 3.0389 - mape: 10.8622 - val_loss: 241.6163 - val_mae: 11.5658 - val_mape: 23.7159\n",
            "Epoch 15/50\n",
            "1099/1099 [==============================] - 101s 92ms/step - loss: 15.7043 - mae: 2.8941 - mape: 10.2656 - val_loss: 244.4568 - val_mae: 11.6766 - val_mape: 24.0001\n",
            "Epoch 16/50\n",
            "1099/1099 [==============================] - 101s 92ms/step - loss: 14.4451 - mae: 2.7367 - mape: 9.6366 - val_loss: 259.9657 - val_mae: 12.1438 - val_mape: 25.0833\n",
            "Epoch 17/50\n",
            "1099/1099 [==============================] - 101s 92ms/step - loss: 13.1195 - mae: 2.5845 - mape: 9.0379 - val_loss: 242.3638 - val_mae: 11.5121 - val_mape: 23.5138\n",
            "Epoch 18/50\n",
            "1099/1099 [==============================] - 110s 100ms/step - loss: 11.9489 - mae: 2.4371 - mape: 8.4708 - val_loss: 236.9757 - val_mae: 11.3913 - val_mape: 23.2847\n",
            "Epoch 19/50\n",
            "1099/1099 [==============================] - 102s 92ms/step - loss: 10.8570 - mae: 2.2961 - mape: 7.9139 - val_loss: 243.9268 - val_mae: 11.5959 - val_mape: 23.7424\n",
            "Epoch 20/50\n",
            "1099/1099 [==============================] - 101s 92ms/step - loss: 9.6874 - mae: 2.1371 - mape: 7.2964 - val_loss: 249.0690 - val_mae: 11.7718 - val_mape: 24.1699\n",
            "Epoch 21/50\n",
            "1099/1099 [==============================] - 100s 91ms/step - loss: 8.9128 - mae: 2.0142 - mape: 6.8266 - val_loss: 236.8453 - val_mae: 11.4031 - val_mape: 23.3377\n",
            "Epoch 22/50\n",
            " 111/1099 [==>...........................] - ETA: 1:20 - loss: 8.5516 - mae: 1.9520 - mape: 6.5836"
          ]
        },
        {
          "output_type": "error",
          "ename": "KeyboardInterrupt",
          "evalue": "ignored",
          "traceback": [
            "\u001b[0;31m---------------------------------------------------------------------------\u001b[0m",
            "\u001b[0;31mKeyboardInterrupt\u001b[0m                         Traceback (most recent call last)",
            "\u001b[0;32m<ipython-input-141-52ec6855abba>\u001b[0m in \u001b[0;36m<module>\u001b[0;34m\u001b[0m\n\u001b[1;32m      1\u001b[0m \u001b[0mmodel\u001b[0m\u001b[0;34m.\u001b[0m\u001b[0msummary\u001b[0m\u001b[0;34m(\u001b[0m\u001b[0;34m)\u001b[0m\u001b[0;34m\u001b[0m\u001b[0;34m\u001b[0m\u001b[0m\n\u001b[0;32m----> 2\u001b[0;31m \u001b[0mhistory\u001b[0m \u001b[0;34m=\u001b[0m \u001b[0mmodel\u001b[0m\u001b[0;34m.\u001b[0m\u001b[0mfit\u001b[0m\u001b[0;34m(\u001b[0m\u001b[0mtrain_dataset\u001b[0m\u001b[0;34m,\u001b[0m \u001b[0mepochs\u001b[0m\u001b[0;34m=\u001b[0m\u001b[0;36m50\u001b[0m\u001b[0;34m,\u001b[0m \u001b[0mvalidation_data\u001b[0m\u001b[0;34m=\u001b[0m\u001b[0mtest_dataset\u001b[0m\u001b[0;34m)\u001b[0m\u001b[0;34m\u001b[0m\u001b[0;34m\u001b[0m\u001b[0m\n\u001b[0m",
            "\u001b[0;32m/usr/local/lib/python3.9/dist-packages/keras/utils/traceback_utils.py\u001b[0m in \u001b[0;36merror_handler\u001b[0;34m(*args, **kwargs)\u001b[0m\n\u001b[1;32m     63\u001b[0m         \u001b[0mfiltered_tb\u001b[0m \u001b[0;34m=\u001b[0m \u001b[0;32mNone\u001b[0m\u001b[0;34m\u001b[0m\u001b[0;34m\u001b[0m\u001b[0m\n\u001b[1;32m     64\u001b[0m         \u001b[0;32mtry\u001b[0m\u001b[0;34m:\u001b[0m\u001b[0;34m\u001b[0m\u001b[0;34m\u001b[0m\u001b[0m\n\u001b[0;32m---> 65\u001b[0;31m             \u001b[0;32mreturn\u001b[0m \u001b[0mfn\u001b[0m\u001b[0;34m(\u001b[0m\u001b[0;34m*\u001b[0m\u001b[0margs\u001b[0m\u001b[0;34m,\u001b[0m \u001b[0;34m**\u001b[0m\u001b[0mkwargs\u001b[0m\u001b[0;34m)\u001b[0m\u001b[0;34m\u001b[0m\u001b[0;34m\u001b[0m\u001b[0m\n\u001b[0m\u001b[1;32m     66\u001b[0m         \u001b[0;32mexcept\u001b[0m \u001b[0mException\u001b[0m \u001b[0;32mas\u001b[0m \u001b[0me\u001b[0m\u001b[0;34m:\u001b[0m\u001b[0;34m\u001b[0m\u001b[0;34m\u001b[0m\u001b[0m\n\u001b[1;32m     67\u001b[0m             \u001b[0mfiltered_tb\u001b[0m \u001b[0;34m=\u001b[0m \u001b[0m_process_traceback_frames\u001b[0m\u001b[0;34m(\u001b[0m\u001b[0me\u001b[0m\u001b[0;34m.\u001b[0m\u001b[0m__traceback__\u001b[0m\u001b[0;34m)\u001b[0m\u001b[0;34m\u001b[0m\u001b[0;34m\u001b[0m\u001b[0m\n",
            "\u001b[0;32m/usr/local/lib/python3.9/dist-packages/keras/engine/training.py\u001b[0m in \u001b[0;36mfit\u001b[0;34m(self, x, y, batch_size, epochs, verbose, callbacks, validation_split, validation_data, shuffle, class_weight, sample_weight, initial_epoch, steps_per_epoch, validation_steps, validation_batch_size, validation_freq, max_queue_size, workers, use_multiprocessing)\u001b[0m\n\u001b[1;32m   1648\u001b[0m                         ):\n\u001b[1;32m   1649\u001b[0m                             \u001b[0mcallbacks\u001b[0m\u001b[0;34m.\u001b[0m\u001b[0mon_train_batch_begin\u001b[0m\u001b[0;34m(\u001b[0m\u001b[0mstep\u001b[0m\u001b[0;34m)\u001b[0m\u001b[0;34m\u001b[0m\u001b[0;34m\u001b[0m\u001b[0m\n\u001b[0;32m-> 1650\u001b[0;31m                             \u001b[0mtmp_logs\u001b[0m \u001b[0;34m=\u001b[0m \u001b[0mself\u001b[0m\u001b[0;34m.\u001b[0m\u001b[0mtrain_function\u001b[0m\u001b[0;34m(\u001b[0m\u001b[0miterator\u001b[0m\u001b[0;34m)\u001b[0m\u001b[0;34m\u001b[0m\u001b[0;34m\u001b[0m\u001b[0m\n\u001b[0m\u001b[1;32m   1651\u001b[0m                             \u001b[0;32mif\u001b[0m \u001b[0mdata_handler\u001b[0m\u001b[0;34m.\u001b[0m\u001b[0mshould_sync\u001b[0m\u001b[0;34m:\u001b[0m\u001b[0;34m\u001b[0m\u001b[0;34m\u001b[0m\u001b[0m\n\u001b[1;32m   1652\u001b[0m                                 \u001b[0mcontext\u001b[0m\u001b[0;34m.\u001b[0m\u001b[0masync_wait\u001b[0m\u001b[0;34m(\u001b[0m\u001b[0;34m)\u001b[0m\u001b[0;34m\u001b[0m\u001b[0;34m\u001b[0m\u001b[0m\n",
            "\u001b[0;32m/usr/local/lib/python3.9/dist-packages/tensorflow/python/util/traceback_utils.py\u001b[0m in \u001b[0;36merror_handler\u001b[0;34m(*args, **kwargs)\u001b[0m\n\u001b[1;32m    148\u001b[0m     \u001b[0mfiltered_tb\u001b[0m \u001b[0;34m=\u001b[0m \u001b[0;32mNone\u001b[0m\u001b[0;34m\u001b[0m\u001b[0;34m\u001b[0m\u001b[0m\n\u001b[1;32m    149\u001b[0m     \u001b[0;32mtry\u001b[0m\u001b[0;34m:\u001b[0m\u001b[0;34m\u001b[0m\u001b[0;34m\u001b[0m\u001b[0m\n\u001b[0;32m--> 150\u001b[0;31m       \u001b[0;32mreturn\u001b[0m \u001b[0mfn\u001b[0m\u001b[0;34m(\u001b[0m\u001b[0;34m*\u001b[0m\u001b[0margs\u001b[0m\u001b[0;34m,\u001b[0m \u001b[0;34m**\u001b[0m\u001b[0mkwargs\u001b[0m\u001b[0;34m)\u001b[0m\u001b[0;34m\u001b[0m\u001b[0;34m\u001b[0m\u001b[0m\n\u001b[0m\u001b[1;32m    151\u001b[0m     \u001b[0;32mexcept\u001b[0m \u001b[0mException\u001b[0m \u001b[0;32mas\u001b[0m \u001b[0me\u001b[0m\u001b[0;34m:\u001b[0m\u001b[0;34m\u001b[0m\u001b[0;34m\u001b[0m\u001b[0m\n\u001b[1;32m    152\u001b[0m       \u001b[0mfiltered_tb\u001b[0m \u001b[0;34m=\u001b[0m \u001b[0m_process_traceback_frames\u001b[0m\u001b[0;34m(\u001b[0m\u001b[0me\u001b[0m\u001b[0;34m.\u001b[0m\u001b[0m__traceback__\u001b[0m\u001b[0;34m)\u001b[0m\u001b[0;34m\u001b[0m\u001b[0;34m\u001b[0m\u001b[0m\n",
            "\u001b[0;32m/usr/local/lib/python3.9/dist-packages/tensorflow/python/eager/polymorphic_function/polymorphic_function.py\u001b[0m in \u001b[0;36m__call__\u001b[0;34m(self, *args, **kwds)\u001b[0m\n\u001b[1;32m    878\u001b[0m \u001b[0;34m\u001b[0m\u001b[0m\n\u001b[1;32m    879\u001b[0m       \u001b[0;32mwith\u001b[0m \u001b[0mOptionalXlaContext\u001b[0m\u001b[0;34m(\u001b[0m\u001b[0mself\u001b[0m\u001b[0;34m.\u001b[0m\u001b[0m_jit_compile\u001b[0m\u001b[0;34m)\u001b[0m\u001b[0;34m:\u001b[0m\u001b[0;34m\u001b[0m\u001b[0;34m\u001b[0m\u001b[0m\n\u001b[0;32m--> 880\u001b[0;31m         \u001b[0mresult\u001b[0m \u001b[0;34m=\u001b[0m \u001b[0mself\u001b[0m\u001b[0;34m.\u001b[0m\u001b[0m_call\u001b[0m\u001b[0;34m(\u001b[0m\u001b[0;34m*\u001b[0m\u001b[0margs\u001b[0m\u001b[0;34m,\u001b[0m \u001b[0;34m**\u001b[0m\u001b[0mkwds\u001b[0m\u001b[0;34m)\u001b[0m\u001b[0;34m\u001b[0m\u001b[0;34m\u001b[0m\u001b[0m\n\u001b[0m\u001b[1;32m    881\u001b[0m \u001b[0;34m\u001b[0m\u001b[0m\n\u001b[1;32m    882\u001b[0m       \u001b[0mnew_tracing_count\u001b[0m \u001b[0;34m=\u001b[0m \u001b[0mself\u001b[0m\u001b[0;34m.\u001b[0m\u001b[0mexperimental_get_tracing_count\u001b[0m\u001b[0;34m(\u001b[0m\u001b[0;34m)\u001b[0m\u001b[0;34m\u001b[0m\u001b[0;34m\u001b[0m\u001b[0m\n",
            "\u001b[0;32m/usr/local/lib/python3.9/dist-packages/tensorflow/python/eager/polymorphic_function/polymorphic_function.py\u001b[0m in \u001b[0;36m_call\u001b[0;34m(self, *args, **kwds)\u001b[0m\n\u001b[1;32m    910\u001b[0m       \u001b[0;31m# In this case we have created variables on the first call, so we run the\u001b[0m\u001b[0;34m\u001b[0m\u001b[0;34m\u001b[0m\u001b[0m\n\u001b[1;32m    911\u001b[0m       \u001b[0;31m# defunned version which is guaranteed to never create variables.\u001b[0m\u001b[0;34m\u001b[0m\u001b[0;34m\u001b[0m\u001b[0m\n\u001b[0;32m--> 912\u001b[0;31m       \u001b[0;32mreturn\u001b[0m \u001b[0mself\u001b[0m\u001b[0;34m.\u001b[0m\u001b[0m_no_variable_creation_fn\u001b[0m\u001b[0;34m(\u001b[0m\u001b[0;34m*\u001b[0m\u001b[0margs\u001b[0m\u001b[0;34m,\u001b[0m \u001b[0;34m**\u001b[0m\u001b[0mkwds\u001b[0m\u001b[0;34m)\u001b[0m  \u001b[0;31m# pylint: disable=not-callable\u001b[0m\u001b[0;34m\u001b[0m\u001b[0;34m\u001b[0m\u001b[0m\n\u001b[0m\u001b[1;32m    913\u001b[0m     \u001b[0;32melif\u001b[0m \u001b[0mself\u001b[0m\u001b[0;34m.\u001b[0m\u001b[0m_variable_creation_fn\u001b[0m \u001b[0;32mis\u001b[0m \u001b[0;32mnot\u001b[0m \u001b[0;32mNone\u001b[0m\u001b[0;34m:\u001b[0m\u001b[0;34m\u001b[0m\u001b[0;34m\u001b[0m\u001b[0m\n\u001b[1;32m    914\u001b[0m       \u001b[0;31m# Release the lock early so that multiple threads can perform the call\u001b[0m\u001b[0;34m\u001b[0m\u001b[0;34m\u001b[0m\u001b[0m\n",
            "\u001b[0;32m/usr/local/lib/python3.9/dist-packages/tensorflow/python/eager/polymorphic_function/tracing_compiler.py\u001b[0m in \u001b[0;36m__call__\u001b[0;34m(self, *args, **kwargs)\u001b[0m\n\u001b[1;32m    132\u001b[0m       (concrete_function,\n\u001b[1;32m    133\u001b[0m        filtered_flat_args) = self._maybe_define_function(args, kwargs)\n\u001b[0;32m--> 134\u001b[0;31m     return concrete_function._call_flat(\n\u001b[0m\u001b[1;32m    135\u001b[0m         filtered_flat_args, captured_inputs=concrete_function.captured_inputs)  # pylint: disable=protected-access\n\u001b[1;32m    136\u001b[0m \u001b[0;34m\u001b[0m\u001b[0m\n",
            "\u001b[0;32m/usr/local/lib/python3.9/dist-packages/tensorflow/python/eager/polymorphic_function/monomorphic_function.py\u001b[0m in \u001b[0;36m_call_flat\u001b[0;34m(self, args, captured_inputs, cancellation_manager)\u001b[0m\n\u001b[1;32m   1743\u001b[0m         and executing_eagerly):\n\u001b[1;32m   1744\u001b[0m       \u001b[0;31m# No tape is watching; skip to running the function.\u001b[0m\u001b[0;34m\u001b[0m\u001b[0;34m\u001b[0m\u001b[0m\n\u001b[0;32m-> 1745\u001b[0;31m       return self._build_call_outputs(self._inference_function.call(\n\u001b[0m\u001b[1;32m   1746\u001b[0m           ctx, args, cancellation_manager=cancellation_manager))\n\u001b[1;32m   1747\u001b[0m     forward_backward = self._select_forward_and_backward_functions(\n",
            "\u001b[0;32m/usr/local/lib/python3.9/dist-packages/tensorflow/python/eager/polymorphic_function/monomorphic_function.py\u001b[0m in \u001b[0;36mcall\u001b[0;34m(self, ctx, args, cancellation_manager)\u001b[0m\n\u001b[1;32m    376\u001b[0m       \u001b[0;32mwith\u001b[0m \u001b[0m_InterpolateFunctionError\u001b[0m\u001b[0;34m(\u001b[0m\u001b[0mself\u001b[0m\u001b[0;34m)\u001b[0m\u001b[0;34m:\u001b[0m\u001b[0;34m\u001b[0m\u001b[0;34m\u001b[0m\u001b[0m\n\u001b[1;32m    377\u001b[0m         \u001b[0;32mif\u001b[0m \u001b[0mcancellation_manager\u001b[0m \u001b[0;32mis\u001b[0m \u001b[0;32mNone\u001b[0m\u001b[0;34m:\u001b[0m\u001b[0;34m\u001b[0m\u001b[0;34m\u001b[0m\u001b[0m\n\u001b[0;32m--> 378\u001b[0;31m           outputs = execute.execute(\n\u001b[0m\u001b[1;32m    379\u001b[0m               \u001b[0mstr\u001b[0m\u001b[0;34m(\u001b[0m\u001b[0mself\u001b[0m\u001b[0;34m.\u001b[0m\u001b[0msignature\u001b[0m\u001b[0;34m.\u001b[0m\u001b[0mname\u001b[0m\u001b[0;34m)\u001b[0m\u001b[0;34m,\u001b[0m\u001b[0;34m\u001b[0m\u001b[0;34m\u001b[0m\u001b[0m\n\u001b[1;32m    380\u001b[0m               \u001b[0mnum_outputs\u001b[0m\u001b[0;34m=\u001b[0m\u001b[0mself\u001b[0m\u001b[0;34m.\u001b[0m\u001b[0m_num_outputs\u001b[0m\u001b[0;34m,\u001b[0m\u001b[0;34m\u001b[0m\u001b[0;34m\u001b[0m\u001b[0m\n",
            "\u001b[0;32m/usr/local/lib/python3.9/dist-packages/tensorflow/python/eager/execute.py\u001b[0m in \u001b[0;36mquick_execute\u001b[0;34m(op_name, num_outputs, inputs, attrs, ctx, name)\u001b[0m\n\u001b[1;32m     50\u001b[0m   \u001b[0;32mtry\u001b[0m\u001b[0;34m:\u001b[0m\u001b[0;34m\u001b[0m\u001b[0;34m\u001b[0m\u001b[0m\n\u001b[1;32m     51\u001b[0m     \u001b[0mctx\u001b[0m\u001b[0;34m.\u001b[0m\u001b[0mensure_initialized\u001b[0m\u001b[0;34m(\u001b[0m\u001b[0;34m)\u001b[0m\u001b[0;34m\u001b[0m\u001b[0;34m\u001b[0m\u001b[0m\n\u001b[0;32m---> 52\u001b[0;31m     tensors = pywrap_tfe.TFE_Py_Execute(ctx._handle, device_name, op_name,\n\u001b[0m\u001b[1;32m     53\u001b[0m                                         inputs, attrs, num_outputs)\n\u001b[1;32m     54\u001b[0m   \u001b[0;32mexcept\u001b[0m \u001b[0mcore\u001b[0m\u001b[0;34m.\u001b[0m\u001b[0m_NotOkStatusException\u001b[0m \u001b[0;32mas\u001b[0m \u001b[0me\u001b[0m\u001b[0;34m:\u001b[0m\u001b[0;34m\u001b[0m\u001b[0;34m\u001b[0m\u001b[0m\n",
            "\u001b[0;31mKeyboardInterrupt\u001b[0m: "
          ]
        }
      ],
      "source": [
        "model.summary()\n",
        "history = model.fit(train_dataset, epochs=50, validation_data=test_dataset)"
      ]
    },
    {
      "cell_type": "code",
      "execution_count": null,
      "metadata": {
        "id": "l0rGvc7vb4bT"
      },
      "outputs": [],
      "source": [
        "test_loss, test_mae, test_mape = model.evaluate(test_dataset)\n",
        "print('Test loss:', test_loss)\n",
        "print('Test mean absolute error:', test_mae)\n",
        "print('Test mean absolute percentage error:', test_mape)"
      ]
    }
  ],
  "metadata": {
    "accelerator": "GPU",
    "colab": {
      "machine_shape": "hm",
      "provenance": [],
      "include_colab_link": true
    },
    "gpuClass": "standard",
    "kernelspec": {
      "display_name": "Python 3",
      "name": "python3"
    },
    "language_info": {
      "name": "python"
    }
  },
  "nbformat": 4,
  "nbformat_minor": 0
}