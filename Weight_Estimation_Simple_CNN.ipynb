{
  "cells": [
    {
      "cell_type": "markdown",
      "metadata": {
        "id": "view-in-github",
        "colab_type": "text"
      },
      "source": [
        "<a href=\"https://colab.research.google.com/github/Smart-Pigs/Depth-Images/blob/main/Weight_Estimation_Simple_CNN.ipynb\" target=\"_parent\"><img src=\"https://colab.research.google.com/assets/colab-badge.svg\" alt=\"Open In Colab\"/></a>"
      ]
    },
    {
      "cell_type": "markdown",
      "source": [
        "Make sure you have this folder as shortcut in your drive - /content/gdrive/MyDrive/Morota-video-data/ "
      ],
      "metadata": {
        "id": "rt1QiZxD_M2H"
      }
    },
    {
      "cell_type": "code",
      "execution_count": 1,
      "metadata": {
        "id": "wh9Vwean2fOO",
        "colab": {
          "base_uri": "https://localhost:8080/"
        },
        "outputId": "5475ed8b-ecaa-4c18-d1d4-6c5ed6877410"
      },
      "outputs": [
        {
          "output_type": "stream",
          "name": "stdout",
          "text": [
            "Mounted at /content/gdrive\n"
          ]
        }
      ],
      "source": [
        "#Mount Google Drive \n",
        "from google.colab import drive\n",
        "drive.mount('/content/gdrive',force_remount=True)"
      ]
    },
    {
      "cell_type": "markdown",
      "source": [
        "### Data Loading"
      ],
      "metadata": {
        "id": "iBa7wLZiP464"
      }
    },
    {
      "cell_type": "code",
      "source": [
        "#@markdown Select resolution of input dataset and weeks of data\n",
        "\n",
        "Instantiate_New_Dataset = True #@param {type:\"boolean\"}\n",
        "Refresh_Old_Dataset = False #@param {type:\"boolean\"}\n",
        "\n",
        "if Instantiate_New_Dataset == True:\n",
        "  !rm -rf Week*/\n",
        "\n",
        "Resolution = \"256\"  #@param ['1280', '512', '256', '224', '128']\n",
        "All_Weeks = True #@param {type:\"boolean\"}\n",
        "Weeks_1_2 = False #@param {type:\"boolean\"}\n",
        "Weeks_3_4 = False #@param {type:\"boolean\"}\n",
        "Weeks_5_6 = False #@param {type:\"boolean\"}\n",
        "Weeks_7_8 = False #@param {type:\"boolean\"}\n",
        "Weeks_9_10 = False #@param {type:\"boolean\"}\n",
        "\n",
        "if Refresh_Old_Dataset == False:\n",
        "  if Resolution == \"1280\":\n",
        "    if All_Weeks == True:\n",
        "      !cp /content/gdrive/MyDrive/Morota-video-data/DEPTH_INDIVIDUAL/SQUARE/SQUARE_WEEK1-2.zip .\n",
        "      !unzip -qq *WEEK1-2.zip -d .\n",
        "      !rm -rf *WEEK*.zip\n",
        "      !cp /content/gdrive/MyDrive/Morota-video-data/DEPTH_INDIVIDUAL/SQUARE/SQUARE_WEEK3-4.zip .\n",
        "      !unzip -qq *WEEK3-4.zip -d .\n",
        "      !rm -rf *WEEK*.zip\n",
        "      !cp /content/gdrive/MyDrive/Morota-video-data/DEPTH_INDIVIDUAL/SQUARE/SQUARE_WEEK5-6.zip .\n",
        "      !unzip -qq *WEEK5-6.zip -d .\n",
        "      !rm -rf *WEEK*.zip\n",
        "      !cp /content/gdrive/MyDrive/Morota-video-data/DEPTH_INDIVIDUAL/SQUARE/SQUARE_WEEK7-8.zip .\n",
        "      !unzip -qq *WEEK7-8.zip -d .\n",
        "      !rm -rf *WEEK*.zip\n",
        "      !cp /content/gdrive/MyDrive/Morota-video-data/DEPTH_INDIVIDUAL/SQUARE/SQUARE_WEEK9-10.zip .    \n",
        "      !unzip -qq *WEEK9-10.zip -d .\n",
        "      !rm -rf *WEEK*.zip\n",
        "    if Weeks_1_2 == True:\n",
        "      !cp /content/gdrive/MyDrive/Morota-video-data/DEPTH_INDIVIDUAL/SQUARE/SQUARE_WEEK1-2.zip .\n",
        "      !unzip -qq *WEEK1-2.zip -d .\n",
        "      !rm -rf *WEEK*.zip\n",
        "    if Weeks_3_4 == True:\n",
        "      !cp /content/gdrive/MyDrive/Morota-video-data/DEPTH_INDIVIDUAL/SQUARE/SQUARE_WEEK3-4.zip .\n",
        "      !unzip -qq *WEEK3-4.zip -d .\n",
        "      !rm -rf *WEEK*.zip\n",
        "    if Weeks_5_6 == True:\n",
        "      !cp /content/gdrive/MyDrive/Morota-video-data/DEPTH_INDIVIDUAL/SQUARE/SQUARE_WEEK5-6.zip .\n",
        "      !unzip -qq *WEEK5-6.zip -d .\n",
        "      !rm -rf *WEEK*.zip\n",
        "    if Weeks_7_8 == True:  \n",
        "      !cp /content/gdrive/MyDrive/Morota-video-data/DEPTH_INDIVIDUAL/SQUARE/SQUARE_WEEK7-8.zip .\n",
        "      !unzip -qq *WEEK7-8.zip -d . \n",
        "      !rm -rf *WEEK*.zip \n",
        "    if Weeks_9_10 == True:\n",
        "      !cp /content/gdrive/MyDrive/Morota-video-data/DEPTH_INDIVIDUAL/SQUARE/SQUARE_WEEK9-10.zip .\n",
        "      !unzip -qq *WEEK9-10.zip -d .\n",
        "      !rm -rf *WEEK*.zip\n",
        "\n",
        "  if Resolution == \"512\":\n",
        "    !cp /content/gdrive/MyDrive/Morota-video-data/DEPTH_INDIVIDUAL/SQUARE/SQUARE_WEEK1-10_512.zip .\n",
        "    !unzip -qq SQUARE_WEEK1-10_512.zip -d .\n",
        "    !rm -rf *WEEK*.zip\n",
        "\n",
        "  if Resolution == \"256\":\n",
        "    !cp /content/gdrive/MyDrive/Morota-video-data/DEPTH_INDIVIDUAL/SQUARE/SQUARE_WEEK1-10_256.zip .\n",
        "    !unzip -qq SQUARE_WEEK1-10_256.zip -d .\n",
        "    !rm -rf *WEEK*.zip\n",
        "\n",
        "  if Resolution == \"224\":\n",
        "    !cp /content/gdrive/MyDrive/Morota-video-data/DEPTH_INDIVIDUAL/SQUARE/SQUARE_WEEK1-10_224.zip .\n",
        "    !unzip -qq SQUARE_WEEK1-10_224.zip -d .\n",
        "    !rm -rf *WEEK*.zip    \n",
        "\n",
        "  if Resolution == \"128\":\n",
        "    !cp /content/gdrive/MyDrive/Morota-video-data/DEPTH_INDIVIDUAL/SQUARE/SQUARE_WEEK1-10_128.zip .\n",
        "    !unzip -qq SQUARE_WEEK1-10_128.zip -d .\n",
        "    !rm -rf *WEEK*.zip"
      ],
      "metadata": {
        "cellView": "form",
        "id": "3_wcT30tQdnm"
      },
      "execution_count": 2,
      "outputs": []
    },
    {
      "cell_type": "markdown",
      "source": [
        "### Mapping Table Input"
      ],
      "metadata": {
        "id": "qrG6Sd2wPhR9"
      }
    },
    {
      "cell_type": "code",
      "execution_count": 3,
      "metadata": {
        "id": "GZJc0qPKSlUe"
      },
      "outputs": [],
      "source": [
        "import pandas as pd"
      ]
    },
    {
      "cell_type": "code",
      "execution_count": 4,
      "metadata": {
        "id": "WuRbcfmGVHWh"
      },
      "outputs": [],
      "source": [
        "final_map = pd.read_csv(\"/content/gdrive/MyDrive/Morota-video-data/final_mapping.csv\")"
      ]
    },
    {
      "cell_type": "code",
      "execution_count": 5,
      "metadata": {
        "id": "Jk-bYshSK9qz",
        "cellView": "form"
      },
      "outputs": [],
      "source": [
        "#@markdown #####Run this cell to load the mapping table\n",
        "\n",
        "if All_Weeks == True:\n",
        "  weeks = final_map\n",
        "if Weeks_1_2 == True:\n",
        "  weeks = final_map[(final_map['Week']==1) | (final_map['Week']==2)]\n",
        "if Weeks_1_2 == True and Weeks_3_4 == True:  \n",
        "  weeks = final_map[(final_map['Week']==1) | (final_map['Week']==2) | (final_map['Week']==3) | (final_map['Week']==4)]\n",
        "if Weeks_1_2 == True and Weeks_3_4 == True and Weeks_5_6 == True:  \n",
        "  weeks = final_map[(final_map['Week']==1) | (final_map['Week']==2) | (final_map['Week']==3) | (final_map['Week']==4) | (final_map['Week']==5) | (final_map['Week']==6)]\n",
        "if Weeks_1_2 == True and Weeks_3_4 == True and Weeks_5_6 == True and Weeks_7_8 == True:  \n",
        "  weeks = final_map[(final_map['Week']==1) | (final_map['Week']==2) | (final_map['Week']==3) | (final_map['Week']==4) | (final_map['Week']==5) | (final_map['Week']==6) | (final_map['Week']==7) | (final_map['Week']==8)]\n",
        "if Weeks_1_2 == True and Weeks_3_4 == True and Weeks_5_6 == True and Weeks_7_8 == True and Weeks_9_10 == True:  \n",
        "  weeks = final_map[(final_map['Week']==1) | (final_map['Week']==2) | (final_map['Week']==3) | (final_map['Week']==4) | (final_map['Week']==5) | (final_map['Week']==6) | (final_map['Week']==7) | (final_map['Week']==8) | (final_map['Week']==9) | (final_map['Week']==10)]"
      ]
    },
    {
      "cell_type": "code",
      "execution_count": 6,
      "metadata": {
        "id": "Ya5yII3HPhbr",
        "colab": {
          "base_uri": "https://localhost:8080/",
          "height": 423
        },
        "outputId": "e8b12ee8-278a-4b51-9f48-1382279cd750"
      },
      "outputs": [
        {
          "output_type": "execute_result",
          "data": {
            "text/plain": [
              "                                           image_path      Date   Pig  weight  \\\n",
              "0      Week1/20210922/20210922_3330_b/_Depth_4683.jpg  20210922  3330    15.5   \n",
              "1      Week1/20210922/20210922_3330_b/_Depth_4778.jpg  20210922  3330    15.5   \n",
              "2      Week1/20210922/20210922_3330_b/_Depth_4579.jpg  20210922  3330    15.5   \n",
              "3      Week1/20210922/20210922_3330_b/_Depth_4578.jpg  20210922  3330    15.5   \n",
              "4      Week1/20210922/20210922_3330_b/_Depth_4584.jpg  20210922  3330    15.5   \n",
              "...                                               ...       ...   ...     ...   \n",
              "96220   Week10/20211119/20211119_3342/_Depth_3504.jpg  20211119  3342    56.6   \n",
              "96221   Week10/20211119/20211119_3342/_Depth_3318.jpg  20211119  3342    56.6   \n",
              "96222   Week10/20211119/20211119_3342/_Depth_3476.jpg  20211119  3342    56.6   \n",
              "96223   Week10/20211119/20211119_3342/_Depth_3169.jpg  20211119  3342    56.6   \n",
              "96224   Week10/20211119/20211119_3342/_Depth_3022.jpg  20211119  3342    56.6   \n",
              "\n",
              "       Week  \n",
              "0         1  \n",
              "1         1  \n",
              "2         1  \n",
              "3         1  \n",
              "4         1  \n",
              "...     ...  \n",
              "96220    10  \n",
              "96221    10  \n",
              "96222    10  \n",
              "96223    10  \n",
              "96224    10  \n",
              "\n",
              "[96225 rows x 5 columns]"
            ],
            "text/html": [
              "\n",
              "  <div id=\"df-bb2c7fbe-1e0d-41f1-85cd-1a5e5e73899b\">\n",
              "    <div class=\"colab-df-container\">\n",
              "      <div>\n",
              "<style scoped>\n",
              "    .dataframe tbody tr th:only-of-type {\n",
              "        vertical-align: middle;\n",
              "    }\n",
              "\n",
              "    .dataframe tbody tr th {\n",
              "        vertical-align: top;\n",
              "    }\n",
              "\n",
              "    .dataframe thead th {\n",
              "        text-align: right;\n",
              "    }\n",
              "</style>\n",
              "<table border=\"1\" class=\"dataframe\">\n",
              "  <thead>\n",
              "    <tr style=\"text-align: right;\">\n",
              "      <th></th>\n",
              "      <th>image_path</th>\n",
              "      <th>Date</th>\n",
              "      <th>Pig</th>\n",
              "      <th>weight</th>\n",
              "      <th>Week</th>\n",
              "    </tr>\n",
              "  </thead>\n",
              "  <tbody>\n",
              "    <tr>\n",
              "      <th>0</th>\n",
              "      <td>Week1/20210922/20210922_3330_b/_Depth_4683.jpg</td>\n",
              "      <td>20210922</td>\n",
              "      <td>3330</td>\n",
              "      <td>15.5</td>\n",
              "      <td>1</td>\n",
              "    </tr>\n",
              "    <tr>\n",
              "      <th>1</th>\n",
              "      <td>Week1/20210922/20210922_3330_b/_Depth_4778.jpg</td>\n",
              "      <td>20210922</td>\n",
              "      <td>3330</td>\n",
              "      <td>15.5</td>\n",
              "      <td>1</td>\n",
              "    </tr>\n",
              "    <tr>\n",
              "      <th>2</th>\n",
              "      <td>Week1/20210922/20210922_3330_b/_Depth_4579.jpg</td>\n",
              "      <td>20210922</td>\n",
              "      <td>3330</td>\n",
              "      <td>15.5</td>\n",
              "      <td>1</td>\n",
              "    </tr>\n",
              "    <tr>\n",
              "      <th>3</th>\n",
              "      <td>Week1/20210922/20210922_3330_b/_Depth_4578.jpg</td>\n",
              "      <td>20210922</td>\n",
              "      <td>3330</td>\n",
              "      <td>15.5</td>\n",
              "      <td>1</td>\n",
              "    </tr>\n",
              "    <tr>\n",
              "      <th>4</th>\n",
              "      <td>Week1/20210922/20210922_3330_b/_Depth_4584.jpg</td>\n",
              "      <td>20210922</td>\n",
              "      <td>3330</td>\n",
              "      <td>15.5</td>\n",
              "      <td>1</td>\n",
              "    </tr>\n",
              "    <tr>\n",
              "      <th>...</th>\n",
              "      <td>...</td>\n",
              "      <td>...</td>\n",
              "      <td>...</td>\n",
              "      <td>...</td>\n",
              "      <td>...</td>\n",
              "    </tr>\n",
              "    <tr>\n",
              "      <th>96220</th>\n",
              "      <td>Week10/20211119/20211119_3342/_Depth_3504.jpg</td>\n",
              "      <td>20211119</td>\n",
              "      <td>3342</td>\n",
              "      <td>56.6</td>\n",
              "      <td>10</td>\n",
              "    </tr>\n",
              "    <tr>\n",
              "      <th>96221</th>\n",
              "      <td>Week10/20211119/20211119_3342/_Depth_3318.jpg</td>\n",
              "      <td>20211119</td>\n",
              "      <td>3342</td>\n",
              "      <td>56.6</td>\n",
              "      <td>10</td>\n",
              "    </tr>\n",
              "    <tr>\n",
              "      <th>96222</th>\n",
              "      <td>Week10/20211119/20211119_3342/_Depth_3476.jpg</td>\n",
              "      <td>20211119</td>\n",
              "      <td>3342</td>\n",
              "      <td>56.6</td>\n",
              "      <td>10</td>\n",
              "    </tr>\n",
              "    <tr>\n",
              "      <th>96223</th>\n",
              "      <td>Week10/20211119/20211119_3342/_Depth_3169.jpg</td>\n",
              "      <td>20211119</td>\n",
              "      <td>3342</td>\n",
              "      <td>56.6</td>\n",
              "      <td>10</td>\n",
              "    </tr>\n",
              "    <tr>\n",
              "      <th>96224</th>\n",
              "      <td>Week10/20211119/20211119_3342/_Depth_3022.jpg</td>\n",
              "      <td>20211119</td>\n",
              "      <td>3342</td>\n",
              "      <td>56.6</td>\n",
              "      <td>10</td>\n",
              "    </tr>\n",
              "  </tbody>\n",
              "</table>\n",
              "<p>96225 rows × 5 columns</p>\n",
              "</div>\n",
              "      <button class=\"colab-df-convert\" onclick=\"convertToInteractive('df-bb2c7fbe-1e0d-41f1-85cd-1a5e5e73899b')\"\n",
              "              title=\"Convert this dataframe to an interactive table.\"\n",
              "              style=\"display:none;\">\n",
              "        \n",
              "  <svg xmlns=\"http://www.w3.org/2000/svg\" height=\"24px\"viewBox=\"0 0 24 24\"\n",
              "       width=\"24px\">\n",
              "    <path d=\"M0 0h24v24H0V0z\" fill=\"none\"/>\n",
              "    <path d=\"M18.56 5.44l.94 2.06.94-2.06 2.06-.94-2.06-.94-.94-2.06-.94 2.06-2.06.94zm-11 1L8.5 8.5l.94-2.06 2.06-.94-2.06-.94L8.5 2.5l-.94 2.06-2.06.94zm10 10l.94 2.06.94-2.06 2.06-.94-2.06-.94-.94-2.06-.94 2.06-2.06.94z\"/><path d=\"M17.41 7.96l-1.37-1.37c-.4-.4-.92-.59-1.43-.59-.52 0-1.04.2-1.43.59L10.3 9.45l-7.72 7.72c-.78.78-.78 2.05 0 2.83L4 21.41c.39.39.9.59 1.41.59.51 0 1.02-.2 1.41-.59l7.78-7.78 2.81-2.81c.8-.78.8-2.07 0-2.86zM5.41 20L4 18.59l7.72-7.72 1.47 1.35L5.41 20z\"/>\n",
              "  </svg>\n",
              "      </button>\n",
              "      \n",
              "  <style>\n",
              "    .colab-df-container {\n",
              "      display:flex;\n",
              "      flex-wrap:wrap;\n",
              "      gap: 12px;\n",
              "    }\n",
              "\n",
              "    .colab-df-convert {\n",
              "      background-color: #E8F0FE;\n",
              "      border: none;\n",
              "      border-radius: 50%;\n",
              "      cursor: pointer;\n",
              "      display: none;\n",
              "      fill: #1967D2;\n",
              "      height: 32px;\n",
              "      padding: 0 0 0 0;\n",
              "      width: 32px;\n",
              "    }\n",
              "\n",
              "    .colab-df-convert:hover {\n",
              "      background-color: #E2EBFA;\n",
              "      box-shadow: 0px 1px 2px rgba(60, 64, 67, 0.3), 0px 1px 3px 1px rgba(60, 64, 67, 0.15);\n",
              "      fill: #174EA6;\n",
              "    }\n",
              "\n",
              "    [theme=dark] .colab-df-convert {\n",
              "      background-color: #3B4455;\n",
              "      fill: #D2E3FC;\n",
              "    }\n",
              "\n",
              "    [theme=dark] .colab-df-convert:hover {\n",
              "      background-color: #434B5C;\n",
              "      box-shadow: 0px 1px 3px 1px rgba(0, 0, 0, 0.15);\n",
              "      filter: drop-shadow(0px 1px 2px rgba(0, 0, 0, 0.3));\n",
              "      fill: #FFFFFF;\n",
              "    }\n",
              "  </style>\n",
              "\n",
              "      <script>\n",
              "        const buttonEl =\n",
              "          document.querySelector('#df-bb2c7fbe-1e0d-41f1-85cd-1a5e5e73899b button.colab-df-convert');\n",
              "        buttonEl.style.display =\n",
              "          google.colab.kernel.accessAllowed ? 'block' : 'none';\n",
              "\n",
              "        async function convertToInteractive(key) {\n",
              "          const element = document.querySelector('#df-bb2c7fbe-1e0d-41f1-85cd-1a5e5e73899b');\n",
              "          const dataTable =\n",
              "            await google.colab.kernel.invokeFunction('convertToInteractive',\n",
              "                                                     [key], {});\n",
              "          if (!dataTable) return;\n",
              "\n",
              "          const docLinkHtml = 'Like what you see? Visit the ' +\n",
              "            '<a target=\"_blank\" href=https://colab.research.google.com/notebooks/data_table.ipynb>data table notebook</a>'\n",
              "            + ' to learn more about interactive tables.';\n",
              "          element.innerHTML = '';\n",
              "          dataTable['output_type'] = 'display_data';\n",
              "          await google.colab.output.renderOutput(dataTable, element);\n",
              "          const docLink = document.createElement('div');\n",
              "          docLink.innerHTML = docLinkHtml;\n",
              "          element.appendChild(docLink);\n",
              "        }\n",
              "      </script>\n",
              "    </div>\n",
              "  </div>\n",
              "  "
            ]
          },
          "metadata": {},
          "execution_count": 6
        }
      ],
      "source": [
        "weeks"
      ]
    },
    {
      "cell_type": "code",
      "source": [
        "weeks_train = weeks[weeks[\"Pig\"] != 3384]"
      ],
      "metadata": {
        "id": "oY-FHnPO1CW8"
      },
      "execution_count": 7,
      "outputs": []
    },
    {
      "cell_type": "code",
      "source": [
        "weeks_test = weeks[weeks[\"Pig\"] == 3384]"
      ],
      "metadata": {
        "id": "k-OZqlmN1ID1"
      },
      "execution_count": 8,
      "outputs": []
    },
    {
      "cell_type": "code",
      "execution_count": 9,
      "metadata": {
        "id": "LjVpFQBTOwrI"
      },
      "outputs": [],
      "source": [
        "image_paths_train = weeks_train['image_path'].values\n",
        "labels_train = weeks_train['weight'].values\n",
        "image_paths_test = weeks_test['image_path'].values\n",
        "labels_test = weeks_test['weight'].values"
      ]
    },
    {
      "cell_type": "markdown",
      "source": [
        "### Dataset"
      ],
      "metadata": {
        "id": "0qMZ4X2ePp7-"
      }
    },
    {
      "cell_type": "code",
      "execution_count": 10,
      "metadata": {
        "id": "tGTOXS_mPc68"
      },
      "outputs": [],
      "source": [
        "import tensorflow as tf\n",
        "import pandas as pd\n",
        "import cv2\n",
        "import numpy as np\n",
        "import matplotlib.pyplot as plt"
      ]
    },
    {
      "cell_type": "code",
      "execution_count": 11,
      "metadata": {
        "id": "-RJS1kzIPmeU"
      },
      "outputs": [],
      "source": [
        "train_dataset = tf.data.Dataset.from_tensor_slices((image_paths_train, labels_train))\n",
        "test_dataset = tf.data.Dataset.from_tensor_slices((image_paths_test, labels_test))"
      ]
    },
    {
      "cell_type": "code",
      "execution_count": 14,
      "metadata": {
        "id": "MatpkQ8_PoTY"
      },
      "outputs": [],
      "source": [
        "IMG_SIZE = int(Resolution)\n",
        "channels = 1\n",
        "\n",
        "def preprocess_image(image_path, label):\n",
        "    img = tf.io.read_file(image_path)\n",
        "    #img = tf.image.decode_jpeg(img, channels=1)\n",
        "    img = tf.image.decode_jpeg(img, channels=3)\n",
        "    img = tf.image.rgb_to_grayscale(img)\n",
        "    if int(Resolution) > IMG_SIZE:\n",
        "      img = tf.image.resize(img, [IMG_SIZE, IMG_SIZE])\n",
        "    img = tf.cast(img, tf.float32) / 255.0\n",
        "    return img, label"
      ]
    },
    {
      "cell_type": "code",
      "execution_count": 15,
      "metadata": {
        "colab": {
          "base_uri": "https://localhost:8080/"
        },
        "id": "CZt3CGw6Q_gr",
        "outputId": "af81960f-b448-4761-b4a0-d433019ef258"
      },
      "outputs": [
        {
          "output_type": "stream",
          "name": "stdout",
          "text": [
            "Number of elements in the train dataset: 77871\n",
            "Number of elements in the test dataset: 18354\n"
          ]
        }
      ],
      "source": [
        "print(\"Number of elements in the train dataset:\", tf.data.experimental.cardinality(train_dataset).numpy())\n",
        "print(\"Number of elements in the test dataset:\", tf.data.experimental.cardinality(test_dataset).numpy())"
      ]
    },
    {
      "cell_type": "code",
      "execution_count": 16,
      "metadata": {
        "id": "4oGiaV36buU8"
      },
      "outputs": [],
      "source": [
        "batch_size = 128\n",
        "\n",
        "train_dataset = train_dataset.shuffle(len(labels_train))\n",
        "train_dataset = train_dataset.map(preprocess_image)\n",
        "train_dataset = train_dataset.batch(batch_size)\n",
        "train_dataset = train_dataset.prefetch(tf.data.AUTOTUNE)\n",
        "\n",
        "test_dataset = test_dataset.map(preprocess_image)\n",
        "test_dataset = test_dataset.batch(batch_size)\n",
        "test_dataset = test_dataset.prefetch(tf.data.AUTOTUNE)"
      ]
    },
    {
      "cell_type": "markdown",
      "source": [
        "### Model Config and Training"
      ],
      "metadata": {
        "id": "eXKjNY9QPuxP"
      }
    },
    {
      "cell_type": "code",
      "execution_count": 17,
      "metadata": {
        "id": "G7huVLqrbwUY"
      },
      "outputs": [],
      "source": [
        "model = tf.keras.Sequential([\n",
        "    tf.keras.layers.Conv2D(32, (3, 3), activation='relu', input_shape=(IMG_SIZE, IMG_SIZE, 1)),\n",
        "    tf.keras.layers.MaxPooling2D((2, 2)),\n",
        "    tf.keras.layers.Conv2D(64, (3, 3), activation='relu'),\n",
        "    tf.keras.layers.MaxPooling2D((2, 2)),\n",
        "    tf.keras.layers.Flatten(),\n",
        "    tf.keras.layers.Dense(64, activation='relu'),\n",
        "    tf.keras.layers.Dense(1)\n",
        "])"
      ]
    },
    {
      "cell_type": "code",
      "execution_count": 18,
      "metadata": {
        "id": "rxcrQtBcbyLZ"
      },
      "outputs": [],
      "source": [
        "model.compile(optimizer='adam', loss='mse', metrics=['mae','mape'])"
      ]
    },
    {
      "cell_type": "code",
      "execution_count": null,
      "metadata": {
        "colab": {
          "base_uri": "https://localhost:8080/"
        },
        "id": "ISZFminJb6iZ",
        "outputId": "21c4e84b-eed9-431f-cb5b-4f702a271208"
      },
      "outputs": [
        {
          "output_type": "stream",
          "name": "stdout",
          "text": [
            "Epoch 1/50\n",
            "609/609 [==============================] - 195s 300ms/step - loss: 23.3007 - mae: 2.7325 - mape: 9.0138 - val_loss: 24.8090 - val_mae: 3.7962 - val_mape: 15.4233\n",
            "Epoch 2/50\n",
            "609/609 [==============================] - 152s 249ms/step - loss: 2.2983 - mae: 1.0435 - mape: 3.3430 - val_loss: 16.8741 - val_mae: 3.0144 - val_mape: 12.4236\n",
            "Epoch 3/50\n",
            "609/609 [==============================] - 145s 237ms/step - loss: 1.5759 - mae: 0.8721 - mape: 2.8073 - val_loss: 17.3391 - val_mae: 3.1014 - val_mape: 12.7297\n",
            "Epoch 4/50\n",
            "609/609 [==============================] - 165s 270ms/step - loss: 1.1251 - mae: 0.7628 - mape: 2.4609 - val_loss: 18.4027 - val_mae: 3.2492 - val_mape: 13.3024\n",
            "Epoch 5/50\n",
            "609/609 [==============================] - 165s 270ms/step - loss: 0.7955 - mae: 0.6590 - mape: 2.1300 - val_loss: 23.0931 - val_mae: 3.6911 - val_mape: 15.2048\n",
            "Epoch 6/50\n",
            "609/609 [==============================] - 163s 267ms/step - loss: 0.6835 - mae: 0.6244 - mape: 2.0370 - val_loss: 16.4741 - val_mae: 3.0315 - val_mape: 12.4908\n",
            "Epoch 7/50\n",
            "609/609 [==============================] - 144s 235ms/step - loss: 0.5052 - mae: 0.5381 - mape: 1.7597 - val_loss: 17.5799 - val_mae: 3.1557 - val_mape: 12.9957\n",
            "Epoch 8/50\n",
            "609/609 [==============================] - 144s 236ms/step - loss: 0.4122 - mae: 0.4866 - mape: 1.5931 - val_loss: 22.2398 - val_mae: 3.6045 - val_mape: 14.8153\n",
            "Epoch 9/50\n",
            "609/609 [==============================] - 163s 268ms/step - loss: 0.3711 - mae: 0.4631 - mape: 1.5241 - val_loss: 18.0997 - val_mae: 3.2860 - val_mape: 13.5327\n",
            "Epoch 10/50\n",
            "609/609 [==============================] - 164s 269ms/step - loss: 0.3532 - mae: 0.4486 - mape: 1.4745 - val_loss: 19.6286 - val_mae: 3.3736 - val_mape: 13.9801\n",
            "Epoch 11/50\n",
            "609/609 [==============================] - 163s 268ms/step - loss: 0.3032 - mae: 0.4137 - mape: 1.3629 - val_loss: 20.3556 - val_mae: 3.4719 - val_mape: 14.3628\n",
            "Epoch 12/50\n",
            "609/609 [==============================] - 163s 267ms/step - loss: 0.2567 - mae: 0.3803 - mape: 1.2581 - val_loss: 21.5533 - val_mae: 3.5339 - val_mape: 14.6455\n",
            "Epoch 13/50\n",
            "609/609 [==============================] - 146s 239ms/step - loss: 0.2216 - mae: 0.3524 - mape: 1.1657 - val_loss: 18.4628 - val_mae: 3.3034 - val_mape: 13.6809\n",
            "Epoch 14/50\n",
            "609/609 [==============================] - 167s 274ms/step - loss: 0.2127 - mae: 0.3446 - mape: 1.1406 - val_loss: 18.4626 - val_mae: 3.3305 - val_mape: 13.7917\n",
            "Epoch 15/50\n",
            "609/609 [==============================] - 146s 239ms/step - loss: 0.1974 - mae: 0.3304 - mape: 1.0933 - val_loss: 21.3344 - val_mae: 3.5685 - val_mape: 14.8197\n",
            "Epoch 16/50\n",
            "609/609 [==============================] - 166s 273ms/step - loss: 0.1910 - mae: 0.3236 - mape: 1.0710 - val_loss: 19.5910 - val_mae: 3.3997 - val_mape: 14.0494\n",
            "Epoch 17/50\n",
            "609/609 [==============================] - 163s 268ms/step - loss: 0.1639 - mae: 0.2988 - mape: 0.9891 - val_loss: 19.5191 - val_mae: 3.4243 - val_mape: 14.2428\n",
            "Epoch 18/50\n",
            "609/609 [==============================] - 163s 267ms/step - loss: 0.1587 - mae: 0.2938 - mape: 0.9751 - val_loss: 17.0965 - val_mae: 3.1874 - val_mape: 13.1575\n",
            "Epoch 19/50\n",
            "609/609 [==============================] - 144s 236ms/step - loss: 0.1328 - mae: 0.2697 - mape: 0.8975 - val_loss: 17.2480 - val_mae: 3.2125 - val_mape: 13.2569\n",
            "Epoch 20/50\n",
            "609/609 [==============================] - 162s 267ms/step - loss: 0.1396 - mae: 0.2762 - mape: 0.9138 - val_loss: 17.6876 - val_mae: 3.2107 - val_mape: 13.3202\n"
          ]
        }
      ],
      "source": [
        "history = model.fit(train_dataset, epochs=50, validation_data=test_dataset)"
      ]
    },
    {
      "cell_type": "code",
      "execution_count": null,
      "metadata": {
        "id": "l0rGvc7vb4bT"
      },
      "outputs": [],
      "source": [
        "test_loss, test_mae, test_mape = model.evaluate(test_dataset)\n",
        "print('Test loss:', test_loss)\n",
        "print('Test mean absolute error:', test_mae)\n",
        "print('Test mean absolute percentage error:', test_mape)"
      ]
    }
  ],
  "metadata": {
    "accelerator": "GPU",
    "colab": {
      "collapsed_sections": [
        "jeoZ8IqMT6PF",
        "qUEzBI7zTzYQ"
      ],
      "provenance": [],
      "include_colab_link": true
    },
    "gpuClass": "standard",
    "kernelspec": {
      "display_name": "Python 3",
      "name": "python3"
    },
    "language_info": {
      "name": "python"
    }
  },
  "nbformat": 4,
  "nbformat_minor": 0
}