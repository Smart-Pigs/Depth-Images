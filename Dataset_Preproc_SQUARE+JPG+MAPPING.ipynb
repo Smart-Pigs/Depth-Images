{
  "nbformat": 4,
  "nbformat_minor": 0,
  "metadata": {
    "colab": {
      "provenance": [],
      "collapsed_sections": [
        "jeoZ8IqMT6PF",
        "qUEzBI7zTzYQ"
      ],
      "include_colab_link": true
    },
    "kernelspec": {
      "name": "python3",
      "display_name": "Python 3"
    },
    "language_info": {
      "name": "python"
    },
    "gpuClass": "standard"
  },
  "cells": [
    {
      "cell_type": "markdown",
      "metadata": {
        "id": "view-in-github",
        "colab_type": "text"
      },
      "source": [
        "<a href=\"https://colab.research.google.com/github/Smart-Pigs/Depth-Images/blob/main/Dataset_Preproc_SQUARE%2BJPG%2BMAPPING.ipynb\" target=\"_parent\"><img src=\"https://colab.research.google.com/assets/colab-badge.svg\" alt=\"Open In Colab\"/></a>"
      ]
    },
    {
      "cell_type": "code",
      "execution_count": null,
      "metadata": {
        "id": "wh9Vwean2fOO",
        "colab": {
          "base_uri": "https://localhost:8080/"
        },
        "outputId": "2fc18e49-717a-41d9-ed94-4591c7f99738"
      },
      "outputs": [
        {
          "output_type": "stream",
          "name": "stdout",
          "text": [
            "Mounted at /content/gdrive\n"
          ]
        }
      ],
      "source": [
        "#Mount Google Drive \n",
        "from google.colab import drive\n",
        "drive.mount('/content/gdrive',force_remount=True)"
      ]
    },
    {
      "cell_type": "markdown",
      "source": [
        "### Padded Square Image and JPEG Conversion"
      ],
      "metadata": {
        "id": "jeoZ8IqMT6PF"
      }
    },
    {
      "cell_type": "code",
      "source": [
        "!cp /content/gdrive/MyDrive/DEPTH_INDIVIDUAL/WEEK1-2.zip ."
      ],
      "metadata": {
        "id": "ygJkGTlUQxXM"
      },
      "execution_count": null,
      "outputs": []
    },
    {
      "cell_type": "code",
      "source": [
        "!cp /content/gdrive/MyDrive/DEPTH_INDIVIDUAL/WEEK3-4.zip ."
      ],
      "metadata": {
        "id": "yYcXXNDtQ5J8"
      },
      "execution_count": null,
      "outputs": []
    },
    {
      "cell_type": "code",
      "source": [
        "!cp /content/gdrive/MyDrive/DEPTH_INDIVIDUAL/WEEK5-6.zip ."
      ],
      "metadata": {
        "id": "WneedjrOUhJv"
      },
      "execution_count": null,
      "outputs": []
    },
    {
      "cell_type": "code",
      "source": [
        "!cp /content/gdrive/MyDrive/DEPTH_INDIVIDUAL/WEEK7-8.zip ."
      ],
      "metadata": {
        "id": "8v9DkHTYUiEG"
      },
      "execution_count": null,
      "outputs": []
    },
    {
      "cell_type": "code",
      "source": [
        "!cp /content/gdrive/MyDrive/DEPTH_INDIVIDUAL/WEEK9-10.zip ."
      ],
      "metadata": {
        "id": "aXF5ZLes3JK2"
      },
      "execution_count": null,
      "outputs": []
    },
    {
      "cell_type": "code",
      "source": [
        "!unzip WEEK1-2.zip -d ."
      ],
      "metadata": {
        "id": "MzCw2ylORd-5"
      },
      "execution_count": null,
      "outputs": []
    },
    {
      "cell_type": "code",
      "source": [
        "!unzip WEEK3-4.zip -d ."
      ],
      "metadata": {
        "id": "IEQMyw0-UVu6"
      },
      "execution_count": null,
      "outputs": []
    },
    {
      "cell_type": "code",
      "source": [
        "!unzip WEEK5-6.zip -d ."
      ],
      "metadata": {
        "id": "bp3s528-UkVL"
      },
      "execution_count": null,
      "outputs": []
    },
    {
      "cell_type": "code",
      "source": [
        "!unzip WEEK7-8.zip -d ."
      ],
      "metadata": {
        "id": "HkLo9Uq6UlwB"
      },
      "execution_count": null,
      "outputs": []
    },
    {
      "cell_type": "code",
      "source": [
        "!unzip WEEK9-10.zip -d ."
      ],
      "metadata": {
        "id": "g6hdbxZ94dQ7"
      },
      "execution_count": null,
      "outputs": []
    },
    {
      "cell_type": "code",
      "source": [
        "import cv2\n",
        "from tqdm import tqdm\n",
        "from google.colab.patches import cv2_imshow\n",
        "import os\n",
        "from glob import glob\n",
        "\n",
        "def add_border(img):\n",
        "  h,w=img.shape[:2]\n",
        "  border = cv2.copyMakeBorder(img,280,280,0,0,cv2.BORDER_CONSTANT, value=[0,0,0])\n",
        "  return border\n",
        "\n",
        "for PATH in ['Week1','Week2','Week3','Week4','Week5','Week6','Week7','Week8','Week9','Week10']:\n",
        "    print(PATH)\n",
        "    result = [y for x in os.walk(PATH) for y in glob(os.path.join(x[0], '*.png'))]\n",
        "    for img in tqdm(result):\n",
        "      image = cv2.imread(img)\n",
        "      os.remove(img)\n",
        "      image = add_border(image)\n",
        "      cv2.imwrite(img.replace(\"png\",\"jpg\"),image)"
      ],
      "metadata": {
        "colab": {
          "base_uri": "https://localhost:8080/"
        },
        "id": "painQG9jkj8M",
        "outputId": "8147b181-6dad-4e12-a346-9f751d5c5c77"
      },
      "execution_count": null,
      "outputs": [
        {
          "output_type": "stream",
          "name": "stdout",
          "text": [
            "Week9\n"
          ]
        },
        {
          "output_type": "stream",
          "name": "stderr",
          "text": [
            "100%|██████████| 12183/12183 [15:57<00:00, 12.72it/s]\n"
          ]
        },
        {
          "output_type": "stream",
          "name": "stdout",
          "text": [
            "Week10\n"
          ]
        },
        {
          "output_type": "stream",
          "name": "stderr",
          "text": [
            "100%|██████████| 13745/13745 [17:52<00:00, 12.82it/s]\n"
          ]
        }
      ]
    },
    {
      "cell_type": "code",
      "source": [
        "!zip -r SQUARE_WEEK1-2.zip Week1 Week2"
      ],
      "metadata": {
        "id": "P3YJ6MxYzHDK"
      },
      "execution_count": null,
      "outputs": []
    },
    {
      "cell_type": "code",
      "source": [
        "!zip -r SQUARE_WEEK3-4.zip Week3 Week4"
      ],
      "metadata": {
        "id": "j6psHzrH0H87"
      },
      "execution_count": null,
      "outputs": []
    },
    {
      "cell_type": "code",
      "source": [
        "!zip -r SQUARE_WEEK5-6.zip Week5 Week6"
      ],
      "metadata": {
        "id": "rshsXzj2U4We"
      },
      "execution_count": null,
      "outputs": []
    },
    {
      "cell_type": "code",
      "source": [
        "!zip -r SQUARE_WEEK7-8.zip Week7 Week8"
      ],
      "metadata": {
        "id": "tmQS4mDmU5Rw"
      },
      "execution_count": null,
      "outputs": []
    },
    {
      "cell_type": "code",
      "source": [
        "!zip -r SQUARE_WEEK9-10.zip Week9 Week10"
      ],
      "metadata": {
        "id": "9gHdeJ1R4lUG"
      },
      "execution_count": null,
      "outputs": []
    },
    {
      "cell_type": "code",
      "source": [
        "!mv SQUARE_WEEK1-2.zip /content/gdrive/MyDrive/DEPTH_INDIVIDUAL/"
      ],
      "metadata": {
        "id": "SDa7VPOWU8BB"
      },
      "execution_count": null,
      "outputs": []
    },
    {
      "cell_type": "code",
      "source": [
        "!mv SQUARE_WEEK3-4.zip /content/gdrive/MyDrive/DEPTH_INDIVIDUAL/"
      ],
      "metadata": {
        "id": "rYsNYUyjU-DG"
      },
      "execution_count": null,
      "outputs": []
    },
    {
      "cell_type": "code",
      "source": [
        "!mv SQUARE_WEEK5-6.zip /content/gdrive/MyDrive/DEPTH_INDIVIDUAL/"
      ],
      "metadata": {
        "id": "RuytlQNFU_VQ"
      },
      "execution_count": null,
      "outputs": []
    },
    {
      "cell_type": "code",
      "source": [
        "!mv SQUARE_WEEK7-8.zip /content/gdrive/MyDrive/DEPTH_INDIVIDUAL/"
      ],
      "metadata": {
        "id": "_Wt-pBMuVAlT"
      },
      "execution_count": null,
      "outputs": []
    },
    {
      "cell_type": "code",
      "source": [
        "!mv SQUARE_WEEK9-10.zip /content/gdrive/MyDrive/DEPTH_INDIVIDUAL/"
      ],
      "metadata": {
        "id": "Xf2Zq7vc4u2q"
      },
      "execution_count": null,
      "outputs": []
    },
    {
      "cell_type": "markdown",
      "source": [
        "### CSV Generation"
      ],
      "metadata": {
        "id": "qUEzBI7zTzYQ"
      }
    },
    {
      "cell_type": "code",
      "source": [
        "import pandas as pd"
      ],
      "metadata": {
        "id": "GZJc0qPKSlUe"
      },
      "execution_count": null,
      "outputs": []
    },
    {
      "cell_type": "code",
      "source": [
        "weights_map = pd.read_csv(\"/content/gdrive/MyDrive/Morota-video-data/weights-map.csv\")"
      ],
      "metadata": {
        "id": "WuRbcfmGVHWh"
      },
      "execution_count": null,
      "outputs": []
    },
    {
      "cell_type": "code",
      "source": [
        "weights_map"
      ],
      "metadata": {
        "colab": {
          "base_uri": "https://localhost:8080/",
          "height": 423
        },
        "id": "6z3Lr_KtX7Ys",
        "outputId": "95b1a541-4b99-44c4-8bbc-0488b89c52cc"
      },
      "execution_count": null,
      "outputs": [
        {
          "output_type": "execute_result",
          "data": {
            "text/plain": [
              "        Date    ID  Weight (kg)  No. of images  Week\n",
              "0   20210922  3342         16.5            613     1\n",
              "1   20210922  3330         15.5            400     1\n",
              "2   20211002  3342         21.1           1621     2\n",
              "3   20211002  3330         19.5           1130     2\n",
              "4   20211003  3342         22.7           2239     2\n",
              "..       ...   ...          ...            ...   ...\n",
              "82  20211118  3385         30.8           1181    10\n",
              "83  20211119  3385         30.9           1150    10\n",
              "84  20211119  3384         31.8           1128    10\n",
              "85  20211119  3342         56.6           1153    10\n",
              "86  20211119  3330         55.5           1120    10\n",
              "\n",
              "[87 rows x 5 columns]"
            ],
            "text/html": [
              "\n",
              "  <div id=\"df-7382d73a-7300-4477-8e01-4b459aab0e0b\">\n",
              "    <div class=\"colab-df-container\">\n",
              "      <div>\n",
              "<style scoped>\n",
              "    .dataframe tbody tr th:only-of-type {\n",
              "        vertical-align: middle;\n",
              "    }\n",
              "\n",
              "    .dataframe tbody tr th {\n",
              "        vertical-align: top;\n",
              "    }\n",
              "\n",
              "    .dataframe thead th {\n",
              "        text-align: right;\n",
              "    }\n",
              "</style>\n",
              "<table border=\"1\" class=\"dataframe\">\n",
              "  <thead>\n",
              "    <tr style=\"text-align: right;\">\n",
              "      <th></th>\n",
              "      <th>Date</th>\n",
              "      <th>ID</th>\n",
              "      <th>Weight (kg)</th>\n",
              "      <th>No. of images</th>\n",
              "      <th>Week</th>\n",
              "    </tr>\n",
              "  </thead>\n",
              "  <tbody>\n",
              "    <tr>\n",
              "      <th>0</th>\n",
              "      <td>20210922</td>\n",
              "      <td>3342</td>\n",
              "      <td>16.5</td>\n",
              "      <td>613</td>\n",
              "      <td>1</td>\n",
              "    </tr>\n",
              "    <tr>\n",
              "      <th>1</th>\n",
              "      <td>20210922</td>\n",
              "      <td>3330</td>\n",
              "      <td>15.5</td>\n",
              "      <td>400</td>\n",
              "      <td>1</td>\n",
              "    </tr>\n",
              "    <tr>\n",
              "      <th>2</th>\n",
              "      <td>20211002</td>\n",
              "      <td>3342</td>\n",
              "      <td>21.1</td>\n",
              "      <td>1621</td>\n",
              "      <td>2</td>\n",
              "    </tr>\n",
              "    <tr>\n",
              "      <th>3</th>\n",
              "      <td>20211002</td>\n",
              "      <td>3330</td>\n",
              "      <td>19.5</td>\n",
              "      <td>1130</td>\n",
              "      <td>2</td>\n",
              "    </tr>\n",
              "    <tr>\n",
              "      <th>4</th>\n",
              "      <td>20211003</td>\n",
              "      <td>3342</td>\n",
              "      <td>22.7</td>\n",
              "      <td>2239</td>\n",
              "      <td>2</td>\n",
              "    </tr>\n",
              "    <tr>\n",
              "      <th>...</th>\n",
              "      <td>...</td>\n",
              "      <td>...</td>\n",
              "      <td>...</td>\n",
              "      <td>...</td>\n",
              "      <td>...</td>\n",
              "    </tr>\n",
              "    <tr>\n",
              "      <th>82</th>\n",
              "      <td>20211118</td>\n",
              "      <td>3385</td>\n",
              "      <td>30.8</td>\n",
              "      <td>1181</td>\n",
              "      <td>10</td>\n",
              "    </tr>\n",
              "    <tr>\n",
              "      <th>83</th>\n",
              "      <td>20211119</td>\n",
              "      <td>3385</td>\n",
              "      <td>30.9</td>\n",
              "      <td>1150</td>\n",
              "      <td>10</td>\n",
              "    </tr>\n",
              "    <tr>\n",
              "      <th>84</th>\n",
              "      <td>20211119</td>\n",
              "      <td>3384</td>\n",
              "      <td>31.8</td>\n",
              "      <td>1128</td>\n",
              "      <td>10</td>\n",
              "    </tr>\n",
              "    <tr>\n",
              "      <th>85</th>\n",
              "      <td>20211119</td>\n",
              "      <td>3342</td>\n",
              "      <td>56.6</td>\n",
              "      <td>1153</td>\n",
              "      <td>10</td>\n",
              "    </tr>\n",
              "    <tr>\n",
              "      <th>86</th>\n",
              "      <td>20211119</td>\n",
              "      <td>3330</td>\n",
              "      <td>55.5</td>\n",
              "      <td>1120</td>\n",
              "      <td>10</td>\n",
              "    </tr>\n",
              "  </tbody>\n",
              "</table>\n",
              "<p>87 rows × 5 columns</p>\n",
              "</div>\n",
              "      <button class=\"colab-df-convert\" onclick=\"convertToInteractive('df-7382d73a-7300-4477-8e01-4b459aab0e0b')\"\n",
              "              title=\"Convert this dataframe to an interactive table.\"\n",
              "              style=\"display:none;\">\n",
              "        \n",
              "  <svg xmlns=\"http://www.w3.org/2000/svg\" height=\"24px\"viewBox=\"0 0 24 24\"\n",
              "       width=\"24px\">\n",
              "    <path d=\"M0 0h24v24H0V0z\" fill=\"none\"/>\n",
              "    <path d=\"M18.56 5.44l.94 2.06.94-2.06 2.06-.94-2.06-.94-.94-2.06-.94 2.06-2.06.94zm-11 1L8.5 8.5l.94-2.06 2.06-.94-2.06-.94L8.5 2.5l-.94 2.06-2.06.94zm10 10l.94 2.06.94-2.06 2.06-.94-2.06-.94-.94-2.06-.94 2.06-2.06.94z\"/><path d=\"M17.41 7.96l-1.37-1.37c-.4-.4-.92-.59-1.43-.59-.52 0-1.04.2-1.43.59L10.3 9.45l-7.72 7.72c-.78.78-.78 2.05 0 2.83L4 21.41c.39.39.9.59 1.41.59.51 0 1.02-.2 1.41-.59l7.78-7.78 2.81-2.81c.8-.78.8-2.07 0-2.86zM5.41 20L4 18.59l7.72-7.72 1.47 1.35L5.41 20z\"/>\n",
              "  </svg>\n",
              "      </button>\n",
              "      \n",
              "  <style>\n",
              "    .colab-df-container {\n",
              "      display:flex;\n",
              "      flex-wrap:wrap;\n",
              "      gap: 12px;\n",
              "    }\n",
              "\n",
              "    .colab-df-convert {\n",
              "      background-color: #E8F0FE;\n",
              "      border: none;\n",
              "      border-radius: 50%;\n",
              "      cursor: pointer;\n",
              "      display: none;\n",
              "      fill: #1967D2;\n",
              "      height: 32px;\n",
              "      padding: 0 0 0 0;\n",
              "      width: 32px;\n",
              "    }\n",
              "\n",
              "    .colab-df-convert:hover {\n",
              "      background-color: #E2EBFA;\n",
              "      box-shadow: 0px 1px 2px rgba(60, 64, 67, 0.3), 0px 1px 3px 1px rgba(60, 64, 67, 0.15);\n",
              "      fill: #174EA6;\n",
              "    }\n",
              "\n",
              "    [theme=dark] .colab-df-convert {\n",
              "      background-color: #3B4455;\n",
              "      fill: #D2E3FC;\n",
              "    }\n",
              "\n",
              "    [theme=dark] .colab-df-convert:hover {\n",
              "      background-color: #434B5C;\n",
              "      box-shadow: 0px 1px 3px 1px rgba(0, 0, 0, 0.15);\n",
              "      filter: drop-shadow(0px 1px 2px rgba(0, 0, 0, 0.3));\n",
              "      fill: #FFFFFF;\n",
              "    }\n",
              "  </style>\n",
              "\n",
              "      <script>\n",
              "        const buttonEl =\n",
              "          document.querySelector('#df-7382d73a-7300-4477-8e01-4b459aab0e0b button.colab-df-convert');\n",
              "        buttonEl.style.display =\n",
              "          google.colab.kernel.accessAllowed ? 'block' : 'none';\n",
              "\n",
              "        async function convertToInteractive(key) {\n",
              "          const element = document.querySelector('#df-7382d73a-7300-4477-8e01-4b459aab0e0b');\n",
              "          const dataTable =\n",
              "            await google.colab.kernel.invokeFunction('convertToInteractive',\n",
              "                                                     [key], {});\n",
              "          if (!dataTable) return;\n",
              "\n",
              "          const docLinkHtml = 'Like what you see? Visit the ' +\n",
              "            '<a target=\"_blank\" href=https://colab.research.google.com/notebooks/data_table.ipynb>data table notebook</a>'\n",
              "            + ' to learn more about interactive tables.';\n",
              "          element.innerHTML = '';\n",
              "          dataTable['output_type'] = 'display_data';\n",
              "          await google.colab.output.renderOutput(dataTable, element);\n",
              "          const docLink = document.createElement('div');\n",
              "          docLink.innerHTML = docLinkHtml;\n",
              "          element.appendChild(docLink);\n",
              "        }\n",
              "      </script>\n",
              "    </div>\n",
              "  </div>\n",
              "  "
            ]
          },
          "metadata": {},
          "execution_count": 145
        }
      ]
    },
    {
      "cell_type": "code",
      "source": [
        "weights_map = weights_map.rename(columns={\"Weight (kg)\": \"weight\",\"ID\": \"Pig\"})"
      ],
      "metadata": {
        "id": "PF8MFiEogwcd"
      },
      "execution_count": null,
      "outputs": []
    },
    {
      "cell_type": "code",
      "source": [
        "weights_map['Pig'] = weights_map['Pig'].astype(str)\n",
        "weights_map['Date'] = weights_map['Date'].astype(str)\n",
        "weights_map['Week'] = weights_map['Week'].astype(str)"
      ],
      "metadata": {
        "id": "5l__6Bt2jhfv"
      },
      "execution_count": null,
      "outputs": []
    },
    {
      "cell_type": "code",
      "source": [
        "weights_map"
      ],
      "metadata": {
        "colab": {
          "base_uri": "https://localhost:8080/",
          "height": 423
        },
        "id": "wW8jrxtLg6YF",
        "outputId": "acd62366-e46c-4e21-dc46-fb9c14e6024a"
      },
      "execution_count": null,
      "outputs": [
        {
          "output_type": "execute_result",
          "data": {
            "text/plain": [
              "        Date   Pig  weight  No. of images Week\n",
              "0   20210922  3342    16.5            613    1\n",
              "1   20210922  3330    15.5            400    1\n",
              "2   20211002  3342    21.1           1621    2\n",
              "3   20211002  3330    19.5           1130    2\n",
              "4   20211003  3342    22.7           2239    2\n",
              "..       ...   ...     ...            ...  ...\n",
              "82  20211118  3385    30.8           1181   10\n",
              "83  20211119  3385    30.9           1150   10\n",
              "84  20211119  3384    31.8           1128   10\n",
              "85  20211119  3342    56.6           1153   10\n",
              "86  20211119  3330    55.5           1120   10\n",
              "\n",
              "[87 rows x 5 columns]"
            ],
            "text/html": [
              "\n",
              "  <div id=\"df-66ebf767-8912-44a2-bc60-0d3039a6cdb9\">\n",
              "    <div class=\"colab-df-container\">\n",
              "      <div>\n",
              "<style scoped>\n",
              "    .dataframe tbody tr th:only-of-type {\n",
              "        vertical-align: middle;\n",
              "    }\n",
              "\n",
              "    .dataframe tbody tr th {\n",
              "        vertical-align: top;\n",
              "    }\n",
              "\n",
              "    .dataframe thead th {\n",
              "        text-align: right;\n",
              "    }\n",
              "</style>\n",
              "<table border=\"1\" class=\"dataframe\">\n",
              "  <thead>\n",
              "    <tr style=\"text-align: right;\">\n",
              "      <th></th>\n",
              "      <th>Date</th>\n",
              "      <th>Pig</th>\n",
              "      <th>weight</th>\n",
              "      <th>No. of images</th>\n",
              "      <th>Week</th>\n",
              "    </tr>\n",
              "  </thead>\n",
              "  <tbody>\n",
              "    <tr>\n",
              "      <th>0</th>\n",
              "      <td>20210922</td>\n",
              "      <td>3342</td>\n",
              "      <td>16.5</td>\n",
              "      <td>613</td>\n",
              "      <td>1</td>\n",
              "    </tr>\n",
              "    <tr>\n",
              "      <th>1</th>\n",
              "      <td>20210922</td>\n",
              "      <td>3330</td>\n",
              "      <td>15.5</td>\n",
              "      <td>400</td>\n",
              "      <td>1</td>\n",
              "    </tr>\n",
              "    <tr>\n",
              "      <th>2</th>\n",
              "      <td>20211002</td>\n",
              "      <td>3342</td>\n",
              "      <td>21.1</td>\n",
              "      <td>1621</td>\n",
              "      <td>2</td>\n",
              "    </tr>\n",
              "    <tr>\n",
              "      <th>3</th>\n",
              "      <td>20211002</td>\n",
              "      <td>3330</td>\n",
              "      <td>19.5</td>\n",
              "      <td>1130</td>\n",
              "      <td>2</td>\n",
              "    </tr>\n",
              "    <tr>\n",
              "      <th>4</th>\n",
              "      <td>20211003</td>\n",
              "      <td>3342</td>\n",
              "      <td>22.7</td>\n",
              "      <td>2239</td>\n",
              "      <td>2</td>\n",
              "    </tr>\n",
              "    <tr>\n",
              "      <th>...</th>\n",
              "      <td>...</td>\n",
              "      <td>...</td>\n",
              "      <td>...</td>\n",
              "      <td>...</td>\n",
              "      <td>...</td>\n",
              "    </tr>\n",
              "    <tr>\n",
              "      <th>82</th>\n",
              "      <td>20211118</td>\n",
              "      <td>3385</td>\n",
              "      <td>30.8</td>\n",
              "      <td>1181</td>\n",
              "      <td>10</td>\n",
              "    </tr>\n",
              "    <tr>\n",
              "      <th>83</th>\n",
              "      <td>20211119</td>\n",
              "      <td>3385</td>\n",
              "      <td>30.9</td>\n",
              "      <td>1150</td>\n",
              "      <td>10</td>\n",
              "    </tr>\n",
              "    <tr>\n",
              "      <th>84</th>\n",
              "      <td>20211119</td>\n",
              "      <td>3384</td>\n",
              "      <td>31.8</td>\n",
              "      <td>1128</td>\n",
              "      <td>10</td>\n",
              "    </tr>\n",
              "    <tr>\n",
              "      <th>85</th>\n",
              "      <td>20211119</td>\n",
              "      <td>3342</td>\n",
              "      <td>56.6</td>\n",
              "      <td>1153</td>\n",
              "      <td>10</td>\n",
              "    </tr>\n",
              "    <tr>\n",
              "      <th>86</th>\n",
              "      <td>20211119</td>\n",
              "      <td>3330</td>\n",
              "      <td>55.5</td>\n",
              "      <td>1120</td>\n",
              "      <td>10</td>\n",
              "    </tr>\n",
              "  </tbody>\n",
              "</table>\n",
              "<p>87 rows × 5 columns</p>\n",
              "</div>\n",
              "      <button class=\"colab-df-convert\" onclick=\"convertToInteractive('df-66ebf767-8912-44a2-bc60-0d3039a6cdb9')\"\n",
              "              title=\"Convert this dataframe to an interactive table.\"\n",
              "              style=\"display:none;\">\n",
              "        \n",
              "  <svg xmlns=\"http://www.w3.org/2000/svg\" height=\"24px\"viewBox=\"0 0 24 24\"\n",
              "       width=\"24px\">\n",
              "    <path d=\"M0 0h24v24H0V0z\" fill=\"none\"/>\n",
              "    <path d=\"M18.56 5.44l.94 2.06.94-2.06 2.06-.94-2.06-.94-.94-2.06-.94 2.06-2.06.94zm-11 1L8.5 8.5l.94-2.06 2.06-.94-2.06-.94L8.5 2.5l-.94 2.06-2.06.94zm10 10l.94 2.06.94-2.06 2.06-.94-2.06-.94-.94-2.06-.94 2.06-2.06.94z\"/><path d=\"M17.41 7.96l-1.37-1.37c-.4-.4-.92-.59-1.43-.59-.52 0-1.04.2-1.43.59L10.3 9.45l-7.72 7.72c-.78.78-.78 2.05 0 2.83L4 21.41c.39.39.9.59 1.41.59.51 0 1.02-.2 1.41-.59l7.78-7.78 2.81-2.81c.8-.78.8-2.07 0-2.86zM5.41 20L4 18.59l7.72-7.72 1.47 1.35L5.41 20z\"/>\n",
              "  </svg>\n",
              "      </button>\n",
              "      \n",
              "  <style>\n",
              "    .colab-df-container {\n",
              "      display:flex;\n",
              "      flex-wrap:wrap;\n",
              "      gap: 12px;\n",
              "    }\n",
              "\n",
              "    .colab-df-convert {\n",
              "      background-color: #E8F0FE;\n",
              "      border: none;\n",
              "      border-radius: 50%;\n",
              "      cursor: pointer;\n",
              "      display: none;\n",
              "      fill: #1967D2;\n",
              "      height: 32px;\n",
              "      padding: 0 0 0 0;\n",
              "      width: 32px;\n",
              "    }\n",
              "\n",
              "    .colab-df-convert:hover {\n",
              "      background-color: #E2EBFA;\n",
              "      box-shadow: 0px 1px 2px rgba(60, 64, 67, 0.3), 0px 1px 3px 1px rgba(60, 64, 67, 0.15);\n",
              "      fill: #174EA6;\n",
              "    }\n",
              "\n",
              "    [theme=dark] .colab-df-convert {\n",
              "      background-color: #3B4455;\n",
              "      fill: #D2E3FC;\n",
              "    }\n",
              "\n",
              "    [theme=dark] .colab-df-convert:hover {\n",
              "      background-color: #434B5C;\n",
              "      box-shadow: 0px 1px 3px 1px rgba(0, 0, 0, 0.15);\n",
              "      filter: drop-shadow(0px 1px 2px rgba(0, 0, 0, 0.3));\n",
              "      fill: #FFFFFF;\n",
              "    }\n",
              "  </style>\n",
              "\n",
              "      <script>\n",
              "        const buttonEl =\n",
              "          document.querySelector('#df-66ebf767-8912-44a2-bc60-0d3039a6cdb9 button.colab-df-convert');\n",
              "        buttonEl.style.display =\n",
              "          google.colab.kernel.accessAllowed ? 'block' : 'none';\n",
              "\n",
              "        async function convertToInteractive(key) {\n",
              "          const element = document.querySelector('#df-66ebf767-8912-44a2-bc60-0d3039a6cdb9');\n",
              "          const dataTable =\n",
              "            await google.colab.kernel.invokeFunction('convertToInteractive',\n",
              "                                                     [key], {});\n",
              "          if (!dataTable) return;\n",
              "\n",
              "          const docLinkHtml = 'Like what you see? Visit the ' +\n",
              "            '<a target=\"_blank\" href=https://colab.research.google.com/notebooks/data_table.ipynb>data table notebook</a>'\n",
              "            + ' to learn more about interactive tables.';\n",
              "          element.innerHTML = '';\n",
              "          dataTable['output_type'] = 'display_data';\n",
              "          await google.colab.output.renderOutput(dataTable, element);\n",
              "          const docLink = document.createElement('div');\n",
              "          docLink.innerHTML = docLinkHtml;\n",
              "          element.appendChild(docLink);\n",
              "        }\n",
              "      </script>\n",
              "    </div>\n",
              "  </div>\n",
              "  "
            ]
          },
          "metadata": {},
          "execution_count": 148
        }
      ]
    },
    {
      "cell_type": "code",
      "source": [
        "FOLDERS = ['Week1','Week2','Week3','Week4','Week5','Week6','Week7','Week8', 'Week9', 'Week10']\n",
        "PATHS = []\n",
        "for folder in FOLDERS:\n",
        "   path = [y for x in os.walk(folder) for y in glob(os.path.join(x[0], '*.jpg'))]\n",
        "   PATHS.extend(path)"
      ],
      "metadata": {
        "id": "YcNmOuadYCLN"
      },
      "execution_count": null,
      "outputs": []
    },
    {
      "cell_type": "code",
      "source": [
        "len(PATHS)"
      ],
      "metadata": {
        "colab": {
          "base_uri": "https://localhost:8080/"
        },
        "id": "ep86xMpYpzK_",
        "outputId": "a1b95b1b-dd95-4e76-8032-73383f4d89b4"
      },
      "execution_count": null,
      "outputs": [
        {
          "output_type": "execute_result",
          "data": {
            "text/plain": [
              "105510"
            ]
          },
          "metadata": {},
          "execution_count": 150
        }
      ]
    },
    {
      "cell_type": "code",
      "source": [
        "df_weeks = pd.DataFrame(PATHS, columns = ['image_path'])"
      ],
      "metadata": {
        "id": "Z__I4IGPYnZd"
      },
      "execution_count": null,
      "outputs": []
    },
    {
      "cell_type": "code",
      "source": [
        "df_weeks.to_csv('all_weeks_paths.csv')"
      ],
      "metadata": {
        "id": "fm6H8GsYszZL"
      },
      "execution_count": null,
      "outputs": []
    },
    {
      "cell_type": "code",
      "source": [
        "df_weeks['image_path'].str.split(\"/\",expand=True)"
      ],
      "metadata": {
        "colab": {
          "base_uri": "https://localhost:8080/",
          "height": 423
        },
        "id": "K1no75LVbF5k",
        "outputId": "c7b2c763-7022-41e1-e2ed-78ba888749fa"
      },
      "execution_count": null,
      "outputs": [
        {
          "output_type": "execute_result",
          "data": {
            "text/plain": [
              "             0         1                2                3\n",
              "0        Week1  20210922  20210922_3330_b  _Depth_4683.jpg\n",
              "1        Week1  20210922  20210922_3330_b  _Depth_4778.jpg\n",
              "2        Week1  20210922  20210922_3330_b  _Depth_4579.jpg\n",
              "3        Week1  20210922  20210922_3330_b  _Depth_4578.jpg\n",
              "4        Week1  20210922  20210922_3330_b  _Depth_4584.jpg\n",
              "...        ...       ...              ...              ...\n",
              "105505  Week10  20211119    20211119_3342  _Depth_3504.jpg\n",
              "105506  Week10  20211119    20211119_3342  _Depth_3318.jpg\n",
              "105507  Week10  20211119    20211119_3342  _Depth_3476.jpg\n",
              "105508  Week10  20211119    20211119_3342  _Depth_3169.jpg\n",
              "105509  Week10  20211119    20211119_3342  _Depth_3022.jpg\n",
              "\n",
              "[105510 rows x 4 columns]"
            ],
            "text/html": [
              "\n",
              "  <div id=\"df-501c3db4-cd9f-48f5-9edd-241fcec7db7d\">\n",
              "    <div class=\"colab-df-container\">\n",
              "      <div>\n",
              "<style scoped>\n",
              "    .dataframe tbody tr th:only-of-type {\n",
              "        vertical-align: middle;\n",
              "    }\n",
              "\n",
              "    .dataframe tbody tr th {\n",
              "        vertical-align: top;\n",
              "    }\n",
              "\n",
              "    .dataframe thead th {\n",
              "        text-align: right;\n",
              "    }\n",
              "</style>\n",
              "<table border=\"1\" class=\"dataframe\">\n",
              "  <thead>\n",
              "    <tr style=\"text-align: right;\">\n",
              "      <th></th>\n",
              "      <th>0</th>\n",
              "      <th>1</th>\n",
              "      <th>2</th>\n",
              "      <th>3</th>\n",
              "    </tr>\n",
              "  </thead>\n",
              "  <tbody>\n",
              "    <tr>\n",
              "      <th>0</th>\n",
              "      <td>Week1</td>\n",
              "      <td>20210922</td>\n",
              "      <td>20210922_3330_b</td>\n",
              "      <td>_Depth_4683.jpg</td>\n",
              "    </tr>\n",
              "    <tr>\n",
              "      <th>1</th>\n",
              "      <td>Week1</td>\n",
              "      <td>20210922</td>\n",
              "      <td>20210922_3330_b</td>\n",
              "      <td>_Depth_4778.jpg</td>\n",
              "    </tr>\n",
              "    <tr>\n",
              "      <th>2</th>\n",
              "      <td>Week1</td>\n",
              "      <td>20210922</td>\n",
              "      <td>20210922_3330_b</td>\n",
              "      <td>_Depth_4579.jpg</td>\n",
              "    </tr>\n",
              "    <tr>\n",
              "      <th>3</th>\n",
              "      <td>Week1</td>\n",
              "      <td>20210922</td>\n",
              "      <td>20210922_3330_b</td>\n",
              "      <td>_Depth_4578.jpg</td>\n",
              "    </tr>\n",
              "    <tr>\n",
              "      <th>4</th>\n",
              "      <td>Week1</td>\n",
              "      <td>20210922</td>\n",
              "      <td>20210922_3330_b</td>\n",
              "      <td>_Depth_4584.jpg</td>\n",
              "    </tr>\n",
              "    <tr>\n",
              "      <th>...</th>\n",
              "      <td>...</td>\n",
              "      <td>...</td>\n",
              "      <td>...</td>\n",
              "      <td>...</td>\n",
              "    </tr>\n",
              "    <tr>\n",
              "      <th>105505</th>\n",
              "      <td>Week10</td>\n",
              "      <td>20211119</td>\n",
              "      <td>20211119_3342</td>\n",
              "      <td>_Depth_3504.jpg</td>\n",
              "    </tr>\n",
              "    <tr>\n",
              "      <th>105506</th>\n",
              "      <td>Week10</td>\n",
              "      <td>20211119</td>\n",
              "      <td>20211119_3342</td>\n",
              "      <td>_Depth_3318.jpg</td>\n",
              "    </tr>\n",
              "    <tr>\n",
              "      <th>105507</th>\n",
              "      <td>Week10</td>\n",
              "      <td>20211119</td>\n",
              "      <td>20211119_3342</td>\n",
              "      <td>_Depth_3476.jpg</td>\n",
              "    </tr>\n",
              "    <tr>\n",
              "      <th>105508</th>\n",
              "      <td>Week10</td>\n",
              "      <td>20211119</td>\n",
              "      <td>20211119_3342</td>\n",
              "      <td>_Depth_3169.jpg</td>\n",
              "    </tr>\n",
              "    <tr>\n",
              "      <th>105509</th>\n",
              "      <td>Week10</td>\n",
              "      <td>20211119</td>\n",
              "      <td>20211119_3342</td>\n",
              "      <td>_Depth_3022.jpg</td>\n",
              "    </tr>\n",
              "  </tbody>\n",
              "</table>\n",
              "<p>105510 rows × 4 columns</p>\n",
              "</div>\n",
              "      <button class=\"colab-df-convert\" onclick=\"convertToInteractive('df-501c3db4-cd9f-48f5-9edd-241fcec7db7d')\"\n",
              "              title=\"Convert this dataframe to an interactive table.\"\n",
              "              style=\"display:none;\">\n",
              "        \n",
              "  <svg xmlns=\"http://www.w3.org/2000/svg\" height=\"24px\"viewBox=\"0 0 24 24\"\n",
              "       width=\"24px\">\n",
              "    <path d=\"M0 0h24v24H0V0z\" fill=\"none\"/>\n",
              "    <path d=\"M18.56 5.44l.94 2.06.94-2.06 2.06-.94-2.06-.94-.94-2.06-.94 2.06-2.06.94zm-11 1L8.5 8.5l.94-2.06 2.06-.94-2.06-.94L8.5 2.5l-.94 2.06-2.06.94zm10 10l.94 2.06.94-2.06 2.06-.94-2.06-.94-.94-2.06-.94 2.06-2.06.94z\"/><path d=\"M17.41 7.96l-1.37-1.37c-.4-.4-.92-.59-1.43-.59-.52 0-1.04.2-1.43.59L10.3 9.45l-7.72 7.72c-.78.78-.78 2.05 0 2.83L4 21.41c.39.39.9.59 1.41.59.51 0 1.02-.2 1.41-.59l7.78-7.78 2.81-2.81c.8-.78.8-2.07 0-2.86zM5.41 20L4 18.59l7.72-7.72 1.47 1.35L5.41 20z\"/>\n",
              "  </svg>\n",
              "      </button>\n",
              "      \n",
              "  <style>\n",
              "    .colab-df-container {\n",
              "      display:flex;\n",
              "      flex-wrap:wrap;\n",
              "      gap: 12px;\n",
              "    }\n",
              "\n",
              "    .colab-df-convert {\n",
              "      background-color: #E8F0FE;\n",
              "      border: none;\n",
              "      border-radius: 50%;\n",
              "      cursor: pointer;\n",
              "      display: none;\n",
              "      fill: #1967D2;\n",
              "      height: 32px;\n",
              "      padding: 0 0 0 0;\n",
              "      width: 32px;\n",
              "    }\n",
              "\n",
              "    .colab-df-convert:hover {\n",
              "      background-color: #E2EBFA;\n",
              "      box-shadow: 0px 1px 2px rgba(60, 64, 67, 0.3), 0px 1px 3px 1px rgba(60, 64, 67, 0.15);\n",
              "      fill: #174EA6;\n",
              "    }\n",
              "\n",
              "    [theme=dark] .colab-df-convert {\n",
              "      background-color: #3B4455;\n",
              "      fill: #D2E3FC;\n",
              "    }\n",
              "\n",
              "    [theme=dark] .colab-df-convert:hover {\n",
              "      background-color: #434B5C;\n",
              "      box-shadow: 0px 1px 3px 1px rgba(0, 0, 0, 0.15);\n",
              "      filter: drop-shadow(0px 1px 2px rgba(0, 0, 0, 0.3));\n",
              "      fill: #FFFFFF;\n",
              "    }\n",
              "  </style>\n",
              "\n",
              "      <script>\n",
              "        const buttonEl =\n",
              "          document.querySelector('#df-501c3db4-cd9f-48f5-9edd-241fcec7db7d button.colab-df-convert');\n",
              "        buttonEl.style.display =\n",
              "          google.colab.kernel.accessAllowed ? 'block' : 'none';\n",
              "\n",
              "        async function convertToInteractive(key) {\n",
              "          const element = document.querySelector('#df-501c3db4-cd9f-48f5-9edd-241fcec7db7d');\n",
              "          const dataTable =\n",
              "            await google.colab.kernel.invokeFunction('convertToInteractive',\n",
              "                                                     [key], {});\n",
              "          if (!dataTable) return;\n",
              "\n",
              "          const docLinkHtml = 'Like what you see? Visit the ' +\n",
              "            '<a target=\"_blank\" href=https://colab.research.google.com/notebooks/data_table.ipynb>data table notebook</a>'\n",
              "            + ' to learn more about interactive tables.';\n",
              "          element.innerHTML = '';\n",
              "          dataTable['output_type'] = 'display_data';\n",
              "          await google.colab.output.renderOutput(dataTable, element);\n",
              "          const docLink = document.createElement('div');\n",
              "          docLink.innerHTML = docLinkHtml;\n",
              "          element.appendChild(docLink);\n",
              "        }\n",
              "      </script>\n",
              "    </div>\n",
              "  </div>\n",
              "  "
            ]
          },
          "metadata": {},
          "execution_count": 153
        }
      ]
    },
    {
      "cell_type": "code",
      "source": [
        "df_weeks_split = df_weeks['image_path'].str.split(\"/\",expand=True)"
      ],
      "metadata": {
        "id": "XxUgrkVzbauc"
      },
      "execution_count": null,
      "outputs": []
    },
    {
      "cell_type": "code",
      "source": [
        "df_weeks_pig_split=df_weeks_split[2].str.split(\"_\",expand=True)"
      ],
      "metadata": {
        "id": "Z9ymTZ3JdOu5"
      },
      "execution_count": null,
      "outputs": []
    },
    {
      "cell_type": "code",
      "source": [
        "df_weeks['Week']=df_weeks_split[0].str.replace(\"Week\",\"\")"
      ],
      "metadata": {
        "id": "GvYlFm8Xbkyz"
      },
      "execution_count": null,
      "outputs": []
    },
    {
      "cell_type": "code",
      "source": [
        "df_weeks['Date']=df_weeks_split[1]"
      ],
      "metadata": {
        "id": "h_26MWIVcADv"
      },
      "execution_count": null,
      "outputs": []
    },
    {
      "cell_type": "code",
      "source": [
        "df_weeks['Pig']=df_weeks_pig_split[1]"
      ],
      "metadata": {
        "id": "4dHQ8qxFe4_X"
      },
      "execution_count": null,
      "outputs": []
    },
    {
      "cell_type": "code",
      "source": [
        "df_weeks['Pig']=df_weeks['Pig'].str.replace('a','')\n",
        "df_weeks['Pig']=df_weeks['Pig'].str.replace('b','')"
      ],
      "metadata": {
        "id": "T3oX2u-fdbz3"
      },
      "execution_count": null,
      "outputs": []
    },
    {
      "cell_type": "code",
      "source": [
        "result_df = pd.merge(df_weeks, weights_map, how='inner', on=['Date', 'Pig', 'Week'])[['image_path', 'Date', 'Pig', 'weight', 'Week']]"
      ],
      "metadata": {
        "id": "45epJYYTiN7U"
      },
      "execution_count": null,
      "outputs": []
    },
    {
      "cell_type": "code",
      "source": [
        "result_df"
      ],
      "metadata": {
        "colab": {
          "base_uri": "https://localhost:8080/",
          "height": 423
        },
        "id": "z3vP0qb-qNmd",
        "outputId": "e45e9f32-8c6e-4af0-ad39-eefbd4f45a66"
      },
      "execution_count": null,
      "outputs": [
        {
          "output_type": "execute_result",
          "data": {
            "text/plain": [
              "                                           image_path      Date   Pig  weight  \\\n",
              "0      Week1/20210922/20210922_3330_b/_Depth_4683.jpg  20210922  3330    15.5   \n",
              "1      Week1/20210922/20210922_3330_b/_Depth_4778.jpg  20210922  3330    15.5   \n",
              "2      Week1/20210922/20210922_3330_b/_Depth_4579.jpg  20210922  3330    15.5   \n",
              "3      Week1/20210922/20210922_3330_b/_Depth_4578.jpg  20210922  3330    15.5   \n",
              "4      Week1/20210922/20210922_3330_b/_Depth_4584.jpg  20210922  3330    15.5   \n",
              "...                                               ...       ...   ...     ...   \n",
              "96220   Week10/20211119/20211119_3342/_Depth_3504.jpg  20211119  3342    56.6   \n",
              "96221   Week10/20211119/20211119_3342/_Depth_3318.jpg  20211119  3342    56.6   \n",
              "96222   Week10/20211119/20211119_3342/_Depth_3476.jpg  20211119  3342    56.6   \n",
              "96223   Week10/20211119/20211119_3342/_Depth_3169.jpg  20211119  3342    56.6   \n",
              "96224   Week10/20211119/20211119_3342/_Depth_3022.jpg  20211119  3342    56.6   \n",
              "\n",
              "      Week  \n",
              "0        1  \n",
              "1        1  \n",
              "2        1  \n",
              "3        1  \n",
              "4        1  \n",
              "...    ...  \n",
              "96220   10  \n",
              "96221   10  \n",
              "96222   10  \n",
              "96223   10  \n",
              "96224   10  \n",
              "\n",
              "[96225 rows x 5 columns]"
            ],
            "text/html": [
              "\n",
              "  <div id=\"df-6d901f00-9a30-41a4-b176-ae189d39ef12\">\n",
              "    <div class=\"colab-df-container\">\n",
              "      <div>\n",
              "<style scoped>\n",
              "    .dataframe tbody tr th:only-of-type {\n",
              "        vertical-align: middle;\n",
              "    }\n",
              "\n",
              "    .dataframe tbody tr th {\n",
              "        vertical-align: top;\n",
              "    }\n",
              "\n",
              "    .dataframe thead th {\n",
              "        text-align: right;\n",
              "    }\n",
              "</style>\n",
              "<table border=\"1\" class=\"dataframe\">\n",
              "  <thead>\n",
              "    <tr style=\"text-align: right;\">\n",
              "      <th></th>\n",
              "      <th>image_path</th>\n",
              "      <th>Date</th>\n",
              "      <th>Pig</th>\n",
              "      <th>weight</th>\n",
              "      <th>Week</th>\n",
              "    </tr>\n",
              "  </thead>\n",
              "  <tbody>\n",
              "    <tr>\n",
              "      <th>0</th>\n",
              "      <td>Week1/20210922/20210922_3330_b/_Depth_4683.jpg</td>\n",
              "      <td>20210922</td>\n",
              "      <td>3330</td>\n",
              "      <td>15.5</td>\n",
              "      <td>1</td>\n",
              "    </tr>\n",
              "    <tr>\n",
              "      <th>1</th>\n",
              "      <td>Week1/20210922/20210922_3330_b/_Depth_4778.jpg</td>\n",
              "      <td>20210922</td>\n",
              "      <td>3330</td>\n",
              "      <td>15.5</td>\n",
              "      <td>1</td>\n",
              "    </tr>\n",
              "    <tr>\n",
              "      <th>2</th>\n",
              "      <td>Week1/20210922/20210922_3330_b/_Depth_4579.jpg</td>\n",
              "      <td>20210922</td>\n",
              "      <td>3330</td>\n",
              "      <td>15.5</td>\n",
              "      <td>1</td>\n",
              "    </tr>\n",
              "    <tr>\n",
              "      <th>3</th>\n",
              "      <td>Week1/20210922/20210922_3330_b/_Depth_4578.jpg</td>\n",
              "      <td>20210922</td>\n",
              "      <td>3330</td>\n",
              "      <td>15.5</td>\n",
              "      <td>1</td>\n",
              "    </tr>\n",
              "    <tr>\n",
              "      <th>4</th>\n",
              "      <td>Week1/20210922/20210922_3330_b/_Depth_4584.jpg</td>\n",
              "      <td>20210922</td>\n",
              "      <td>3330</td>\n",
              "      <td>15.5</td>\n",
              "      <td>1</td>\n",
              "    </tr>\n",
              "    <tr>\n",
              "      <th>...</th>\n",
              "      <td>...</td>\n",
              "      <td>...</td>\n",
              "      <td>...</td>\n",
              "      <td>...</td>\n",
              "      <td>...</td>\n",
              "    </tr>\n",
              "    <tr>\n",
              "      <th>96220</th>\n",
              "      <td>Week10/20211119/20211119_3342/_Depth_3504.jpg</td>\n",
              "      <td>20211119</td>\n",
              "      <td>3342</td>\n",
              "      <td>56.6</td>\n",
              "      <td>10</td>\n",
              "    </tr>\n",
              "    <tr>\n",
              "      <th>96221</th>\n",
              "      <td>Week10/20211119/20211119_3342/_Depth_3318.jpg</td>\n",
              "      <td>20211119</td>\n",
              "      <td>3342</td>\n",
              "      <td>56.6</td>\n",
              "      <td>10</td>\n",
              "    </tr>\n",
              "    <tr>\n",
              "      <th>96222</th>\n",
              "      <td>Week10/20211119/20211119_3342/_Depth_3476.jpg</td>\n",
              "      <td>20211119</td>\n",
              "      <td>3342</td>\n",
              "      <td>56.6</td>\n",
              "      <td>10</td>\n",
              "    </tr>\n",
              "    <tr>\n",
              "      <th>96223</th>\n",
              "      <td>Week10/20211119/20211119_3342/_Depth_3169.jpg</td>\n",
              "      <td>20211119</td>\n",
              "      <td>3342</td>\n",
              "      <td>56.6</td>\n",
              "      <td>10</td>\n",
              "    </tr>\n",
              "    <tr>\n",
              "      <th>96224</th>\n",
              "      <td>Week10/20211119/20211119_3342/_Depth_3022.jpg</td>\n",
              "      <td>20211119</td>\n",
              "      <td>3342</td>\n",
              "      <td>56.6</td>\n",
              "      <td>10</td>\n",
              "    </tr>\n",
              "  </tbody>\n",
              "</table>\n",
              "<p>96225 rows × 5 columns</p>\n",
              "</div>\n",
              "      <button class=\"colab-df-convert\" onclick=\"convertToInteractive('df-6d901f00-9a30-41a4-b176-ae189d39ef12')\"\n",
              "              title=\"Convert this dataframe to an interactive table.\"\n",
              "              style=\"display:none;\">\n",
              "        \n",
              "  <svg xmlns=\"http://www.w3.org/2000/svg\" height=\"24px\"viewBox=\"0 0 24 24\"\n",
              "       width=\"24px\">\n",
              "    <path d=\"M0 0h24v24H0V0z\" fill=\"none\"/>\n",
              "    <path d=\"M18.56 5.44l.94 2.06.94-2.06 2.06-.94-2.06-.94-.94-2.06-.94 2.06-2.06.94zm-11 1L8.5 8.5l.94-2.06 2.06-.94-2.06-.94L8.5 2.5l-.94 2.06-2.06.94zm10 10l.94 2.06.94-2.06 2.06-.94-2.06-.94-.94-2.06-.94 2.06-2.06.94z\"/><path d=\"M17.41 7.96l-1.37-1.37c-.4-.4-.92-.59-1.43-.59-.52 0-1.04.2-1.43.59L10.3 9.45l-7.72 7.72c-.78.78-.78 2.05 0 2.83L4 21.41c.39.39.9.59 1.41.59.51 0 1.02-.2 1.41-.59l7.78-7.78 2.81-2.81c.8-.78.8-2.07 0-2.86zM5.41 20L4 18.59l7.72-7.72 1.47 1.35L5.41 20z\"/>\n",
              "  </svg>\n",
              "      </button>\n",
              "      \n",
              "  <style>\n",
              "    .colab-df-container {\n",
              "      display:flex;\n",
              "      flex-wrap:wrap;\n",
              "      gap: 12px;\n",
              "    }\n",
              "\n",
              "    .colab-df-convert {\n",
              "      background-color: #E8F0FE;\n",
              "      border: none;\n",
              "      border-radius: 50%;\n",
              "      cursor: pointer;\n",
              "      display: none;\n",
              "      fill: #1967D2;\n",
              "      height: 32px;\n",
              "      padding: 0 0 0 0;\n",
              "      width: 32px;\n",
              "    }\n",
              "\n",
              "    .colab-df-convert:hover {\n",
              "      background-color: #E2EBFA;\n",
              "      box-shadow: 0px 1px 2px rgba(60, 64, 67, 0.3), 0px 1px 3px 1px rgba(60, 64, 67, 0.15);\n",
              "      fill: #174EA6;\n",
              "    }\n",
              "\n",
              "    [theme=dark] .colab-df-convert {\n",
              "      background-color: #3B4455;\n",
              "      fill: #D2E3FC;\n",
              "    }\n",
              "\n",
              "    [theme=dark] .colab-df-convert:hover {\n",
              "      background-color: #434B5C;\n",
              "      box-shadow: 0px 1px 3px 1px rgba(0, 0, 0, 0.15);\n",
              "      filter: drop-shadow(0px 1px 2px rgba(0, 0, 0, 0.3));\n",
              "      fill: #FFFFFF;\n",
              "    }\n",
              "  </style>\n",
              "\n",
              "      <script>\n",
              "        const buttonEl =\n",
              "          document.querySelector('#df-6d901f00-9a30-41a4-b176-ae189d39ef12 button.colab-df-convert');\n",
              "        buttonEl.style.display =\n",
              "          google.colab.kernel.accessAllowed ? 'block' : 'none';\n",
              "\n",
              "        async function convertToInteractive(key) {\n",
              "          const element = document.querySelector('#df-6d901f00-9a30-41a4-b176-ae189d39ef12');\n",
              "          const dataTable =\n",
              "            await google.colab.kernel.invokeFunction('convertToInteractive',\n",
              "                                                     [key], {});\n",
              "          if (!dataTable) return;\n",
              "\n",
              "          const docLinkHtml = 'Like what you see? Visit the ' +\n",
              "            '<a target=\"_blank\" href=https://colab.research.google.com/notebooks/data_table.ipynb>data table notebook</a>'\n",
              "            + ' to learn more about interactive tables.';\n",
              "          element.innerHTML = '';\n",
              "          dataTable['output_type'] = 'display_data';\n",
              "          await google.colab.output.renderOutput(dataTable, element);\n",
              "          const docLink = document.createElement('div');\n",
              "          docLink.innerHTML = docLinkHtml;\n",
              "          element.appendChild(docLink);\n",
              "        }\n",
              "      </script>\n",
              "    </div>\n",
              "  </div>\n",
              "  "
            ]
          },
          "metadata": {},
          "execution_count": 165
        }
      ]
    },
    {
      "cell_type": "code",
      "source": [
        "result_df[['weight','Pig']].groupby('Pig').count()"
      ],
      "metadata": {
        "colab": {
          "base_uri": "https://localhost:8080/",
          "height": 206
        },
        "id": "WPkn3oNZjuQK",
        "outputId": "61f001e7-821f-4a89-db18-a9dcc7a65148"
      },
      "execution_count": null,
      "outputs": [
        {
          "output_type": "execute_result",
          "data": {
            "text/plain": [
              "      weight\n",
              "Pig         \n",
              "3330   26657\n",
              "3342   32522\n",
              "3384   18354\n",
              "3385   18692"
            ],
            "text/html": [
              "\n",
              "  <div id=\"df-c07a17b4-996a-4412-b81e-bb2711ed77bb\">\n",
              "    <div class=\"colab-df-container\">\n",
              "      <div>\n",
              "<style scoped>\n",
              "    .dataframe tbody tr th:only-of-type {\n",
              "        vertical-align: middle;\n",
              "    }\n",
              "\n",
              "    .dataframe tbody tr th {\n",
              "        vertical-align: top;\n",
              "    }\n",
              "\n",
              "    .dataframe thead th {\n",
              "        text-align: right;\n",
              "    }\n",
              "</style>\n",
              "<table border=\"1\" class=\"dataframe\">\n",
              "  <thead>\n",
              "    <tr style=\"text-align: right;\">\n",
              "      <th></th>\n",
              "      <th>weight</th>\n",
              "    </tr>\n",
              "    <tr>\n",
              "      <th>Pig</th>\n",
              "      <th></th>\n",
              "    </tr>\n",
              "  </thead>\n",
              "  <tbody>\n",
              "    <tr>\n",
              "      <th>3330</th>\n",
              "      <td>26657</td>\n",
              "    </tr>\n",
              "    <tr>\n",
              "      <th>3342</th>\n",
              "      <td>32522</td>\n",
              "    </tr>\n",
              "    <tr>\n",
              "      <th>3384</th>\n",
              "      <td>18354</td>\n",
              "    </tr>\n",
              "    <tr>\n",
              "      <th>3385</th>\n",
              "      <td>18692</td>\n",
              "    </tr>\n",
              "  </tbody>\n",
              "</table>\n",
              "</div>\n",
              "      <button class=\"colab-df-convert\" onclick=\"convertToInteractive('df-c07a17b4-996a-4412-b81e-bb2711ed77bb')\"\n",
              "              title=\"Convert this dataframe to an interactive table.\"\n",
              "              style=\"display:none;\">\n",
              "        \n",
              "  <svg xmlns=\"http://www.w3.org/2000/svg\" height=\"24px\"viewBox=\"0 0 24 24\"\n",
              "       width=\"24px\">\n",
              "    <path d=\"M0 0h24v24H0V0z\" fill=\"none\"/>\n",
              "    <path d=\"M18.56 5.44l.94 2.06.94-2.06 2.06-.94-2.06-.94-.94-2.06-.94 2.06-2.06.94zm-11 1L8.5 8.5l.94-2.06 2.06-.94-2.06-.94L8.5 2.5l-.94 2.06-2.06.94zm10 10l.94 2.06.94-2.06 2.06-.94-2.06-.94-.94-2.06-.94 2.06-2.06.94z\"/><path d=\"M17.41 7.96l-1.37-1.37c-.4-.4-.92-.59-1.43-.59-.52 0-1.04.2-1.43.59L10.3 9.45l-7.72 7.72c-.78.78-.78 2.05 0 2.83L4 21.41c.39.39.9.59 1.41.59.51 0 1.02-.2 1.41-.59l7.78-7.78 2.81-2.81c.8-.78.8-2.07 0-2.86zM5.41 20L4 18.59l7.72-7.72 1.47 1.35L5.41 20z\"/>\n",
              "  </svg>\n",
              "      </button>\n",
              "      \n",
              "  <style>\n",
              "    .colab-df-container {\n",
              "      display:flex;\n",
              "      flex-wrap:wrap;\n",
              "      gap: 12px;\n",
              "    }\n",
              "\n",
              "    .colab-df-convert {\n",
              "      background-color: #E8F0FE;\n",
              "      border: none;\n",
              "      border-radius: 50%;\n",
              "      cursor: pointer;\n",
              "      display: none;\n",
              "      fill: #1967D2;\n",
              "      height: 32px;\n",
              "      padding: 0 0 0 0;\n",
              "      width: 32px;\n",
              "    }\n",
              "\n",
              "    .colab-df-convert:hover {\n",
              "      background-color: #E2EBFA;\n",
              "      box-shadow: 0px 1px 2px rgba(60, 64, 67, 0.3), 0px 1px 3px 1px rgba(60, 64, 67, 0.15);\n",
              "      fill: #174EA6;\n",
              "    }\n",
              "\n",
              "    [theme=dark] .colab-df-convert {\n",
              "      background-color: #3B4455;\n",
              "      fill: #D2E3FC;\n",
              "    }\n",
              "\n",
              "    [theme=dark] .colab-df-convert:hover {\n",
              "      background-color: #434B5C;\n",
              "      box-shadow: 0px 1px 3px 1px rgba(0, 0, 0, 0.15);\n",
              "      filter: drop-shadow(0px 1px 2px rgba(0, 0, 0, 0.3));\n",
              "      fill: #FFFFFF;\n",
              "    }\n",
              "  </style>\n",
              "\n",
              "      <script>\n",
              "        const buttonEl =\n",
              "          document.querySelector('#df-c07a17b4-996a-4412-b81e-bb2711ed77bb button.colab-df-convert');\n",
              "        buttonEl.style.display =\n",
              "          google.colab.kernel.accessAllowed ? 'block' : 'none';\n",
              "\n",
              "        async function convertToInteractive(key) {\n",
              "          const element = document.querySelector('#df-c07a17b4-996a-4412-b81e-bb2711ed77bb');\n",
              "          const dataTable =\n",
              "            await google.colab.kernel.invokeFunction('convertToInteractive',\n",
              "                                                     [key], {});\n",
              "          if (!dataTable) return;\n",
              "\n",
              "          const docLinkHtml = 'Like what you see? Visit the ' +\n",
              "            '<a target=\"_blank\" href=https://colab.research.google.com/notebooks/data_table.ipynb>data table notebook</a>'\n",
              "            + ' to learn more about interactive tables.';\n",
              "          element.innerHTML = '';\n",
              "          dataTable['output_type'] = 'display_data';\n",
              "          await google.colab.output.renderOutput(dataTable, element);\n",
              "          const docLink = document.createElement('div');\n",
              "          docLink.innerHTML = docLinkHtml;\n",
              "          element.appendChild(docLink);\n",
              "        }\n",
              "      </script>\n",
              "    </div>\n",
              "  </div>\n",
              "  "
            ]
          },
          "metadata": {},
          "execution_count": 166
        }
      ]
    },
    {
      "cell_type": "code",
      "source": [
        "result_df[['weight','Date']].groupby('Date').count()"
      ],
      "metadata": {
        "colab": {
          "base_uri": "https://localhost:8080/",
          "height": 896
        },
        "id": "p2H1STtnuLc4",
        "outputId": "bc2c4e25-3864-47be-a1ed-0c4e8130b856"
      },
      "execution_count": null,
      "outputs": [
        {
          "output_type": "execute_result",
          "data": {
            "text/plain": [
              "          weight\n",
              "Date            \n",
              "20210922    1013\n",
              "20211002    2751\n",
              "20211003    3022\n",
              "20211004     826\n",
              "20211005    2045\n",
              "20211006    3551\n",
              "20211007    3025\n",
              "20211008    2338\n",
              "20211011    2306\n",
              "20211012    2748\n",
              "20211013    4939\n",
              "20211015    4603\n",
              "20211018    4572\n",
              "20211020    4869\n",
              "20211026    4486\n",
              "20211027    4582\n",
              "20211029    4522\n",
              "20211101    4541\n",
              "20211103    5457\n",
              "20211105    4101\n",
              "20211108    3878\n",
              "20211111    3947\n",
              "20211112    4358\n",
              "20211116    4669\n",
              "20211118    4525\n",
              "20211119    4551"
            ],
            "text/html": [
              "\n",
              "  <div id=\"df-58b69c64-fb74-4fb3-84c3-b394cf52e3e5\">\n",
              "    <div class=\"colab-df-container\">\n",
              "      <div>\n",
              "<style scoped>\n",
              "    .dataframe tbody tr th:only-of-type {\n",
              "        vertical-align: middle;\n",
              "    }\n",
              "\n",
              "    .dataframe tbody tr th {\n",
              "        vertical-align: top;\n",
              "    }\n",
              "\n",
              "    .dataframe thead th {\n",
              "        text-align: right;\n",
              "    }\n",
              "</style>\n",
              "<table border=\"1\" class=\"dataframe\">\n",
              "  <thead>\n",
              "    <tr style=\"text-align: right;\">\n",
              "      <th></th>\n",
              "      <th>weight</th>\n",
              "    </tr>\n",
              "    <tr>\n",
              "      <th>Date</th>\n",
              "      <th></th>\n",
              "    </tr>\n",
              "  </thead>\n",
              "  <tbody>\n",
              "    <tr>\n",
              "      <th>20210922</th>\n",
              "      <td>1013</td>\n",
              "    </tr>\n",
              "    <tr>\n",
              "      <th>20211002</th>\n",
              "      <td>2751</td>\n",
              "    </tr>\n",
              "    <tr>\n",
              "      <th>20211003</th>\n",
              "      <td>3022</td>\n",
              "    </tr>\n",
              "    <tr>\n",
              "      <th>20211004</th>\n",
              "      <td>826</td>\n",
              "    </tr>\n",
              "    <tr>\n",
              "      <th>20211005</th>\n",
              "      <td>2045</td>\n",
              "    </tr>\n",
              "    <tr>\n",
              "      <th>20211006</th>\n",
              "      <td>3551</td>\n",
              "    </tr>\n",
              "    <tr>\n",
              "      <th>20211007</th>\n",
              "      <td>3025</td>\n",
              "    </tr>\n",
              "    <tr>\n",
              "      <th>20211008</th>\n",
              "      <td>2338</td>\n",
              "    </tr>\n",
              "    <tr>\n",
              "      <th>20211011</th>\n",
              "      <td>2306</td>\n",
              "    </tr>\n",
              "    <tr>\n",
              "      <th>20211012</th>\n",
              "      <td>2748</td>\n",
              "    </tr>\n",
              "    <tr>\n",
              "      <th>20211013</th>\n",
              "      <td>4939</td>\n",
              "    </tr>\n",
              "    <tr>\n",
              "      <th>20211015</th>\n",
              "      <td>4603</td>\n",
              "    </tr>\n",
              "    <tr>\n",
              "      <th>20211018</th>\n",
              "      <td>4572</td>\n",
              "    </tr>\n",
              "    <tr>\n",
              "      <th>20211020</th>\n",
              "      <td>4869</td>\n",
              "    </tr>\n",
              "    <tr>\n",
              "      <th>20211026</th>\n",
              "      <td>4486</td>\n",
              "    </tr>\n",
              "    <tr>\n",
              "      <th>20211027</th>\n",
              "      <td>4582</td>\n",
              "    </tr>\n",
              "    <tr>\n",
              "      <th>20211029</th>\n",
              "      <td>4522</td>\n",
              "    </tr>\n",
              "    <tr>\n",
              "      <th>20211101</th>\n",
              "      <td>4541</td>\n",
              "    </tr>\n",
              "    <tr>\n",
              "      <th>20211103</th>\n",
              "      <td>5457</td>\n",
              "    </tr>\n",
              "    <tr>\n",
              "      <th>20211105</th>\n",
              "      <td>4101</td>\n",
              "    </tr>\n",
              "    <tr>\n",
              "      <th>20211108</th>\n",
              "      <td>3878</td>\n",
              "    </tr>\n",
              "    <tr>\n",
              "      <th>20211111</th>\n",
              "      <td>3947</td>\n",
              "    </tr>\n",
              "    <tr>\n",
              "      <th>20211112</th>\n",
              "      <td>4358</td>\n",
              "    </tr>\n",
              "    <tr>\n",
              "      <th>20211116</th>\n",
              "      <td>4669</td>\n",
              "    </tr>\n",
              "    <tr>\n",
              "      <th>20211118</th>\n",
              "      <td>4525</td>\n",
              "    </tr>\n",
              "    <tr>\n",
              "      <th>20211119</th>\n",
              "      <td>4551</td>\n",
              "    </tr>\n",
              "  </tbody>\n",
              "</table>\n",
              "</div>\n",
              "      <button class=\"colab-df-convert\" onclick=\"convertToInteractive('df-58b69c64-fb74-4fb3-84c3-b394cf52e3e5')\"\n",
              "              title=\"Convert this dataframe to an interactive table.\"\n",
              "              style=\"display:none;\">\n",
              "        \n",
              "  <svg xmlns=\"http://www.w3.org/2000/svg\" height=\"24px\"viewBox=\"0 0 24 24\"\n",
              "       width=\"24px\">\n",
              "    <path d=\"M0 0h24v24H0V0z\" fill=\"none\"/>\n",
              "    <path d=\"M18.56 5.44l.94 2.06.94-2.06 2.06-.94-2.06-.94-.94-2.06-.94 2.06-2.06.94zm-11 1L8.5 8.5l.94-2.06 2.06-.94-2.06-.94L8.5 2.5l-.94 2.06-2.06.94zm10 10l.94 2.06.94-2.06 2.06-.94-2.06-.94-.94-2.06-.94 2.06-2.06.94z\"/><path d=\"M17.41 7.96l-1.37-1.37c-.4-.4-.92-.59-1.43-.59-.52 0-1.04.2-1.43.59L10.3 9.45l-7.72 7.72c-.78.78-.78 2.05 0 2.83L4 21.41c.39.39.9.59 1.41.59.51 0 1.02-.2 1.41-.59l7.78-7.78 2.81-2.81c.8-.78.8-2.07 0-2.86zM5.41 20L4 18.59l7.72-7.72 1.47 1.35L5.41 20z\"/>\n",
              "  </svg>\n",
              "      </button>\n",
              "      \n",
              "  <style>\n",
              "    .colab-df-container {\n",
              "      display:flex;\n",
              "      flex-wrap:wrap;\n",
              "      gap: 12px;\n",
              "    }\n",
              "\n",
              "    .colab-df-convert {\n",
              "      background-color: #E8F0FE;\n",
              "      border: none;\n",
              "      border-radius: 50%;\n",
              "      cursor: pointer;\n",
              "      display: none;\n",
              "      fill: #1967D2;\n",
              "      height: 32px;\n",
              "      padding: 0 0 0 0;\n",
              "      width: 32px;\n",
              "    }\n",
              "\n",
              "    .colab-df-convert:hover {\n",
              "      background-color: #E2EBFA;\n",
              "      box-shadow: 0px 1px 2px rgba(60, 64, 67, 0.3), 0px 1px 3px 1px rgba(60, 64, 67, 0.15);\n",
              "      fill: #174EA6;\n",
              "    }\n",
              "\n",
              "    [theme=dark] .colab-df-convert {\n",
              "      background-color: #3B4455;\n",
              "      fill: #D2E3FC;\n",
              "    }\n",
              "\n",
              "    [theme=dark] .colab-df-convert:hover {\n",
              "      background-color: #434B5C;\n",
              "      box-shadow: 0px 1px 3px 1px rgba(0, 0, 0, 0.15);\n",
              "      filter: drop-shadow(0px 1px 2px rgba(0, 0, 0, 0.3));\n",
              "      fill: #FFFFFF;\n",
              "    }\n",
              "  </style>\n",
              "\n",
              "      <script>\n",
              "        const buttonEl =\n",
              "          document.querySelector('#df-58b69c64-fb74-4fb3-84c3-b394cf52e3e5 button.colab-df-convert');\n",
              "        buttonEl.style.display =\n",
              "          google.colab.kernel.accessAllowed ? 'block' : 'none';\n",
              "\n",
              "        async function convertToInteractive(key) {\n",
              "          const element = document.querySelector('#df-58b69c64-fb74-4fb3-84c3-b394cf52e3e5');\n",
              "          const dataTable =\n",
              "            await google.colab.kernel.invokeFunction('convertToInteractive',\n",
              "                                                     [key], {});\n",
              "          if (!dataTable) return;\n",
              "\n",
              "          const docLinkHtml = 'Like what you see? Visit the ' +\n",
              "            '<a target=\"_blank\" href=https://colab.research.google.com/notebooks/data_table.ipynb>data table notebook</a>'\n",
              "            + ' to learn more about interactive tables.';\n",
              "          element.innerHTML = '';\n",
              "          dataTable['output_type'] = 'display_data';\n",
              "          await google.colab.output.renderOutput(dataTable, element);\n",
              "          const docLink = document.createElement('div');\n",
              "          docLink.innerHTML = docLinkHtml;\n",
              "          element.appendChild(docLink);\n",
              "        }\n",
              "      </script>\n",
              "    </div>\n",
              "  </div>\n",
              "  "
            ]
          },
          "metadata": {},
          "execution_count": 167
        }
      ]
    },
    {
      "cell_type": "code",
      "source": [
        "output = result_df[['weight','Pig']].groupby('weight').count()"
      ],
      "metadata": {
        "id": "ffwnqmGRlbq-"
      },
      "execution_count": null,
      "outputs": []
    },
    {
      "cell_type": "code",
      "source": [
        "print(output.to_markdown())"
      ],
      "metadata": {
        "colab": {
          "base_uri": "https://localhost:8080/"
        },
        "id": "1a_LFBhDrUNQ",
        "outputId": "85c426fc-fdc9-4ef6-b8bb-4f7eae1e6cb0"
      },
      "execution_count": null,
      "outputs": [
        {
          "output_type": "stream",
          "name": "stdout",
          "text": [
            "|   weight |   Pig |\n",
            "|---------:|------:|\n",
            "|     15.5 |   400 |\n",
            "|     16.5 |   613 |\n",
            "|     17.4 |   946 |\n",
            "|     17.5 |  1129 |\n",
            "|     18.2 |  1142 |\n",
            "|     19.1 |  1132 |\n",
            "|     19.3 |  2756 |\n",
            "|     19.5 |  1130 |\n",
            "|     19.9 |  1110 |\n",
            "|     20.4 |  1129 |\n",
            "|     21   |  2757 |\n",
            "|     21.1 |  1621 |\n",
            "|     21.2 |   783 |\n",
            "|     21.6 |  1191 |\n",
            "|     22   |  1138 |\n",
            "|     22.1 |   839 |\n",
            "|     22.2 |  1063 |\n",
            "|     22.7 |  2239 |\n",
            "|     22.8 |  1170 |\n",
            "|     22.9 |  1129 |\n",
            "|     23.2 |  2780 |\n",
            "|     23.5 |   759 |\n",
            "|     23.8 |  1175 |\n",
            "|     23.9 |  1206 |\n",
            "|     24.2 |  1145 |\n",
            "|     24.6 |  1075 |\n",
            "|     24.9 |  3192 |\n",
            "|     25.1 |  3248 |\n",
            "|     25.8 |  1127 |\n",
            "|     26.2 |  1281 |\n",
            "|     26.4 |  2146 |\n",
            "|     27   |  1197 |\n",
            "|     27.1 |   996 |\n",
            "|     27.5 |  1070 |\n",
            "|     28.2 |  3645 |\n",
            "|     28.3 |  2495 |\n",
            "|     28.8 |  1132 |\n",
            "|     28.9 |  1183 |\n",
            "|     29.1 |  1053 |\n",
            "|     29.4 |  1271 |\n",
            "|     29.9 |  1240 |\n",
            "|     30.5 |  2362 |\n",
            "|     30.8 |  1181 |\n",
            "|     30.9 |  1150 |\n",
            "|     31.2 |  1112 |\n",
            "|     31.3 |  1161 |\n",
            "|     31.8 |  1128 |\n",
            "|     31.9 |  1175 |\n",
            "|     34.1 |  1190 |\n",
            "|     34.5 |  1127 |\n",
            "|     35.4 |  1165 |\n",
            "|     36.4 |  1123 |\n",
            "|     37.4 |  1128 |\n",
            "|     37.5 |  1130 |\n",
            "|     39.9 |  1109 |\n",
            "|     40.5 |  1118 |\n",
            "|     41.9 |  1126 |\n",
            "|     42.3 |  1126 |\n",
            "|     43   |  1013 |\n",
            "|     44   |  1190 |\n",
            "|     44.6 |   881 |\n",
            "|     46.4 |   971 |\n",
            "|     46.6 |   978 |\n",
            "|     47.3 |   941 |\n",
            "|     47.4 |   946 |\n",
            "|     47.6 |  1102 |\n",
            "|     49.2 |   957 |\n",
            "|     51.2 |  1150 |\n",
            "|     52.5 |  1210 |\n",
            "|     54.6 |   987 |\n",
            "|     55.5 |  1120 |\n",
            "|     55.7 |  1182 |\n",
            "|     56.6 |  1153 |\n"
          ]
        }
      ]
    },
    {
      "cell_type": "code",
      "source": [
        "result_df.to_csv('final_mapping.csv')"
      ],
      "metadata": {
        "id": "Ha413QiarqcB"
      },
      "execution_count": null,
      "outputs": []
    },
    {
      "cell_type": "code",
      "source": [
        "!mv final_mapping.csv /content/gdrive/MyDrive/Morota-video-data/"
      ],
      "metadata": {
        "id": "UpqjODyrxKUI"
      },
      "execution_count": null,
      "outputs": []
    },
    {
      "cell_type": "code",
      "source": [
        "!mv all_weeks_paths.csv /content/gdrive/MyDrive/Morota-video-data/"
      ],
      "metadata": {
        "id": "mCBzcDKXxRdI"
      },
      "execution_count": null,
      "outputs": []
    }
  ]
}