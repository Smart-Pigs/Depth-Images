{
  "cells": [
    {
      "cell_type": "markdown",
      "metadata": {
        "id": "view-in-github",
        "colab_type": "text"
      },
      "source": [
        "<a href=\"https://colab.research.google.com/github/Smart-Pigs/Depth-Images/blob/main/Weight_Estimation_SimpleCNN_Cropped.ipynb\" target=\"_parent\"><img src=\"https://colab.research.google.com/assets/colab-badge.svg\" alt=\"Open In Colab\"/></a>"
      ]
    },
    {
      "cell_type": "markdown",
      "metadata": {
        "id": "rt1QiZxD_M2H"
      },
      "source": [
        "Make sure you have this folder as shortcut in your drive - /content/gdrive/MyDrive/Morota-video-data/ "
      ]
    },
    {
      "cell_type": "code",
      "execution_count": 1,
      "metadata": {
        "colab": {
          "base_uri": "https://localhost:8080/"
        },
        "id": "wh9Vwean2fOO",
        "outputId": "8efa941b-d1d9-49e7-c3dc-7089ce8b34df"
      },
      "outputs": [
        {
          "output_type": "stream",
          "name": "stdout",
          "text": [
            "Mounted at /content/gdrive\n"
          ]
        }
      ],
      "source": [
        "#Mount Google Drive \n",
        "from google.colab import drive\n",
        "drive.mount('/content/gdrive',force_remount=True)"
      ]
    },
    {
      "cell_type": "markdown",
      "metadata": {
        "id": "iBa7wLZiP464"
      },
      "source": [
        "### Data Loading"
      ]
    },
    {
      "cell_type": "code",
      "source": [
        "#@markdown Select resolution of input dataset and weeks of data\n",
        "\n",
        "Instantiate_New_Dataset = True #@param {type:\"boolean\"}\n",
        "Refresh_Old_Dataset = False #@param {type:\"boolean\"}\n",
        "\n",
        "if Instantiate_New_Dataset == True:\n",
        "  !rm -rf Week*/\n",
        "\n",
        "Resolution = \"256\"  #@param ['720', '512', '256']\n",
        "\n",
        "if Refresh_Old_Dataset == False:\n",
        "  if Resolution == \"720\":\n",
        "    !cp /content/gdrive/MyDrive/Morota-video-data/DEPTH_INDIVIDUAL/CROPPED/CROPPED_WEEK1-10_720.zip .\n",
        "    !unzip -qq CROPPED_WEEK1-10_720.zip -d .\n",
        "    !rm -rf *WEEK*.zip\n",
        "\n",
        "  if Resolution == \"512\":\n",
        "    !cp /content/gdrive/MyDrive/DEPTH_INDIVIDUAL/CROPPED/CROPPED_WEEK1-10_512.zip .\n",
        "    !unzip -qq CROPPED_WEEK1-10_512.zip -d .\n",
        "    !rm -rf *WEEK*.zip\n",
        "\n",
        "  if Resolution == \"256\":\n",
        "    !cp /content/gdrive/MyDrive/Morota-video-data/DEPTH_INDIVIDUAL/CROPPED/CROPPED_WEEK1-10_256.zip .\n",
        "    !unzip -qq CROPPED_WEEK1-10_256.zip -d .\n",
        "    !rm -rf *WEEK*.zip"
      ],
      "metadata": {
        "id": "glNH4ybcYkY8"
      },
      "execution_count": 19,
      "outputs": []
    },
    {
      "cell_type": "markdown",
      "metadata": {
        "id": "qrG6Sd2wPhR9"
      },
      "source": [
        "### Mapping Table Input"
      ]
    },
    {
      "cell_type": "code",
      "execution_count": 20,
      "metadata": {
        "id": "GZJc0qPKSlUe"
      },
      "outputs": [],
      "source": [
        "import pandas as pd"
      ]
    },
    {
      "cell_type": "code",
      "execution_count": 21,
      "metadata": {
        "id": "WuRbcfmGVHWh"
      },
      "outputs": [],
      "source": [
        "final_map = pd.read_csv(\"/content/gdrive/MyDrive/Morota-video-data/final_mapping.csv\")"
      ]
    },
    {
      "cell_type": "code",
      "source": [
        "weeks = final_map"
      ],
      "metadata": {
        "id": "2R3aYue74VW5"
      },
      "execution_count": 22,
      "outputs": []
    },
    {
      "cell_type": "code",
      "execution_count": 23,
      "metadata": {
        "colab": {
          "base_uri": "https://localhost:8080/",
          "height": 423
        },
        "id": "Ya5yII3HPhbr",
        "outputId": "3cf032fa-71ea-427a-a2d4-34d4483f70ce"
      },
      "outputs": [
        {
          "output_type": "execute_result",
          "data": {
            "text/plain": [
              "                                           image_path      Date   Pig  weight  \\\n",
              "0      Week1/20210922/20210922_3330_b/_Depth_4683.jpg  20210922  3330    15.5   \n",
              "1      Week1/20210922/20210922_3330_b/_Depth_4778.jpg  20210922  3330    15.5   \n",
              "2      Week1/20210922/20210922_3330_b/_Depth_4579.jpg  20210922  3330    15.5   \n",
              "3      Week1/20210922/20210922_3330_b/_Depth_4578.jpg  20210922  3330    15.5   \n",
              "4      Week1/20210922/20210922_3330_b/_Depth_4584.jpg  20210922  3330    15.5   \n",
              "...                                               ...       ...   ...     ...   \n",
              "96220   Week10/20211119/20211119_3342/_Depth_3504.jpg  20211119  3342    56.6   \n",
              "96221   Week10/20211119/20211119_3342/_Depth_3318.jpg  20211119  3342    56.6   \n",
              "96222   Week10/20211119/20211119_3342/_Depth_3476.jpg  20211119  3342    56.6   \n",
              "96223   Week10/20211119/20211119_3342/_Depth_3169.jpg  20211119  3342    56.6   \n",
              "96224   Week10/20211119/20211119_3342/_Depth_3022.jpg  20211119  3342    56.6   \n",
              "\n",
              "       Week  \n",
              "0         1  \n",
              "1         1  \n",
              "2         1  \n",
              "3         1  \n",
              "4         1  \n",
              "...     ...  \n",
              "96220    10  \n",
              "96221    10  \n",
              "96222    10  \n",
              "96223    10  \n",
              "96224    10  \n",
              "\n",
              "[96225 rows x 5 columns]"
            ],
            "text/html": [
              "\n",
              "  <div id=\"df-09406101-22e9-4735-8611-71ecea712460\">\n",
              "    <div class=\"colab-df-container\">\n",
              "      <div>\n",
              "<style scoped>\n",
              "    .dataframe tbody tr th:only-of-type {\n",
              "        vertical-align: middle;\n",
              "    }\n",
              "\n",
              "    .dataframe tbody tr th {\n",
              "        vertical-align: top;\n",
              "    }\n",
              "\n",
              "    .dataframe thead th {\n",
              "        text-align: right;\n",
              "    }\n",
              "</style>\n",
              "<table border=\"1\" class=\"dataframe\">\n",
              "  <thead>\n",
              "    <tr style=\"text-align: right;\">\n",
              "      <th></th>\n",
              "      <th>image_path</th>\n",
              "      <th>Date</th>\n",
              "      <th>Pig</th>\n",
              "      <th>weight</th>\n",
              "      <th>Week</th>\n",
              "    </tr>\n",
              "  </thead>\n",
              "  <tbody>\n",
              "    <tr>\n",
              "      <th>0</th>\n",
              "      <td>Week1/20210922/20210922_3330_b/_Depth_4683.jpg</td>\n",
              "      <td>20210922</td>\n",
              "      <td>3330</td>\n",
              "      <td>15.5</td>\n",
              "      <td>1</td>\n",
              "    </tr>\n",
              "    <tr>\n",
              "      <th>1</th>\n",
              "      <td>Week1/20210922/20210922_3330_b/_Depth_4778.jpg</td>\n",
              "      <td>20210922</td>\n",
              "      <td>3330</td>\n",
              "      <td>15.5</td>\n",
              "      <td>1</td>\n",
              "    </tr>\n",
              "    <tr>\n",
              "      <th>2</th>\n",
              "      <td>Week1/20210922/20210922_3330_b/_Depth_4579.jpg</td>\n",
              "      <td>20210922</td>\n",
              "      <td>3330</td>\n",
              "      <td>15.5</td>\n",
              "      <td>1</td>\n",
              "    </tr>\n",
              "    <tr>\n",
              "      <th>3</th>\n",
              "      <td>Week1/20210922/20210922_3330_b/_Depth_4578.jpg</td>\n",
              "      <td>20210922</td>\n",
              "      <td>3330</td>\n",
              "      <td>15.5</td>\n",
              "      <td>1</td>\n",
              "    </tr>\n",
              "    <tr>\n",
              "      <th>4</th>\n",
              "      <td>Week1/20210922/20210922_3330_b/_Depth_4584.jpg</td>\n",
              "      <td>20210922</td>\n",
              "      <td>3330</td>\n",
              "      <td>15.5</td>\n",
              "      <td>1</td>\n",
              "    </tr>\n",
              "    <tr>\n",
              "      <th>...</th>\n",
              "      <td>...</td>\n",
              "      <td>...</td>\n",
              "      <td>...</td>\n",
              "      <td>...</td>\n",
              "      <td>...</td>\n",
              "    </tr>\n",
              "    <tr>\n",
              "      <th>96220</th>\n",
              "      <td>Week10/20211119/20211119_3342/_Depth_3504.jpg</td>\n",
              "      <td>20211119</td>\n",
              "      <td>3342</td>\n",
              "      <td>56.6</td>\n",
              "      <td>10</td>\n",
              "    </tr>\n",
              "    <tr>\n",
              "      <th>96221</th>\n",
              "      <td>Week10/20211119/20211119_3342/_Depth_3318.jpg</td>\n",
              "      <td>20211119</td>\n",
              "      <td>3342</td>\n",
              "      <td>56.6</td>\n",
              "      <td>10</td>\n",
              "    </tr>\n",
              "    <tr>\n",
              "      <th>96222</th>\n",
              "      <td>Week10/20211119/20211119_3342/_Depth_3476.jpg</td>\n",
              "      <td>20211119</td>\n",
              "      <td>3342</td>\n",
              "      <td>56.6</td>\n",
              "      <td>10</td>\n",
              "    </tr>\n",
              "    <tr>\n",
              "      <th>96223</th>\n",
              "      <td>Week10/20211119/20211119_3342/_Depth_3169.jpg</td>\n",
              "      <td>20211119</td>\n",
              "      <td>3342</td>\n",
              "      <td>56.6</td>\n",
              "      <td>10</td>\n",
              "    </tr>\n",
              "    <tr>\n",
              "      <th>96224</th>\n",
              "      <td>Week10/20211119/20211119_3342/_Depth_3022.jpg</td>\n",
              "      <td>20211119</td>\n",
              "      <td>3342</td>\n",
              "      <td>56.6</td>\n",
              "      <td>10</td>\n",
              "    </tr>\n",
              "  </tbody>\n",
              "</table>\n",
              "<p>96225 rows × 5 columns</p>\n",
              "</div>\n",
              "      <button class=\"colab-df-convert\" onclick=\"convertToInteractive('df-09406101-22e9-4735-8611-71ecea712460')\"\n",
              "              title=\"Convert this dataframe to an interactive table.\"\n",
              "              style=\"display:none;\">\n",
              "        \n",
              "  <svg xmlns=\"http://www.w3.org/2000/svg\" height=\"24px\"viewBox=\"0 0 24 24\"\n",
              "       width=\"24px\">\n",
              "    <path d=\"M0 0h24v24H0V0z\" fill=\"none\"/>\n",
              "    <path d=\"M18.56 5.44l.94 2.06.94-2.06 2.06-.94-2.06-.94-.94-2.06-.94 2.06-2.06.94zm-11 1L8.5 8.5l.94-2.06 2.06-.94-2.06-.94L8.5 2.5l-.94 2.06-2.06.94zm10 10l.94 2.06.94-2.06 2.06-.94-2.06-.94-.94-2.06-.94 2.06-2.06.94z\"/><path d=\"M17.41 7.96l-1.37-1.37c-.4-.4-.92-.59-1.43-.59-.52 0-1.04.2-1.43.59L10.3 9.45l-7.72 7.72c-.78.78-.78 2.05 0 2.83L4 21.41c.39.39.9.59 1.41.59.51 0 1.02-.2 1.41-.59l7.78-7.78 2.81-2.81c.8-.78.8-2.07 0-2.86zM5.41 20L4 18.59l7.72-7.72 1.47 1.35L5.41 20z\"/>\n",
              "  </svg>\n",
              "      </button>\n",
              "      \n",
              "  <style>\n",
              "    .colab-df-container {\n",
              "      display:flex;\n",
              "      flex-wrap:wrap;\n",
              "      gap: 12px;\n",
              "    }\n",
              "\n",
              "    .colab-df-convert {\n",
              "      background-color: #E8F0FE;\n",
              "      border: none;\n",
              "      border-radius: 50%;\n",
              "      cursor: pointer;\n",
              "      display: none;\n",
              "      fill: #1967D2;\n",
              "      height: 32px;\n",
              "      padding: 0 0 0 0;\n",
              "      width: 32px;\n",
              "    }\n",
              "\n",
              "    .colab-df-convert:hover {\n",
              "      background-color: #E2EBFA;\n",
              "      box-shadow: 0px 1px 2px rgba(60, 64, 67, 0.3), 0px 1px 3px 1px rgba(60, 64, 67, 0.15);\n",
              "      fill: #174EA6;\n",
              "    }\n",
              "\n",
              "    [theme=dark] .colab-df-convert {\n",
              "      background-color: #3B4455;\n",
              "      fill: #D2E3FC;\n",
              "    }\n",
              "\n",
              "    [theme=dark] .colab-df-convert:hover {\n",
              "      background-color: #434B5C;\n",
              "      box-shadow: 0px 1px 3px 1px rgba(0, 0, 0, 0.15);\n",
              "      filter: drop-shadow(0px 1px 2px rgba(0, 0, 0, 0.3));\n",
              "      fill: #FFFFFF;\n",
              "    }\n",
              "  </style>\n",
              "\n",
              "      <script>\n",
              "        const buttonEl =\n",
              "          document.querySelector('#df-09406101-22e9-4735-8611-71ecea712460 button.colab-df-convert');\n",
              "        buttonEl.style.display =\n",
              "          google.colab.kernel.accessAllowed ? 'block' : 'none';\n",
              "\n",
              "        async function convertToInteractive(key) {\n",
              "          const element = document.querySelector('#df-09406101-22e9-4735-8611-71ecea712460');\n",
              "          const dataTable =\n",
              "            await google.colab.kernel.invokeFunction('convertToInteractive',\n",
              "                                                     [key], {});\n",
              "          if (!dataTable) return;\n",
              "\n",
              "          const docLinkHtml = 'Like what you see? Visit the ' +\n",
              "            '<a target=\"_blank\" href=https://colab.research.google.com/notebooks/data_table.ipynb>data table notebook</a>'\n",
              "            + ' to learn more about interactive tables.';\n",
              "          element.innerHTML = '';\n",
              "          dataTable['output_type'] = 'display_data';\n",
              "          await google.colab.output.renderOutput(dataTable, element);\n",
              "          const docLink = document.createElement('div');\n",
              "          docLink.innerHTML = docLinkHtml;\n",
              "          element.appendChild(docLink);\n",
              "        }\n",
              "      </script>\n",
              "    </div>\n",
              "  </div>\n",
              "  "
            ]
          },
          "metadata": {},
          "execution_count": 23
        }
      ],
      "source": [
        "weeks"
      ]
    },
    {
      "cell_type": "code",
      "execution_count": 24,
      "metadata": {
        "id": "oY-FHnPO1CW8"
      },
      "outputs": [],
      "source": [
        "#weeks_train = weeks[weeks[\"image_path\"] != 3384]\n",
        "weeks_test = weeks[weeks['image_path'].str.contains('Week1|Week2')]"
      ]
    },
    {
      "cell_type": "code",
      "execution_count": 25,
      "metadata": {
        "id": "k-OZqlmN1ID1"
      },
      "outputs": [],
      "source": [
        "#weeks_test = weeks[weeks[\"Pig\"] == 3384]\n",
        "weeks_train = weeks[~weeks['image_path'].str.contains('Week1|Week2')]"
      ]
    },
    {
      "cell_type": "code",
      "execution_count": null,
      "metadata": {
        "id": "_w8TON8mm_Ls"
      },
      "outputs": [],
      "source": [
        "#rd_train=weeks.sample(frac=0.8,random_state=200)\n",
        "#rd_test=weeks.drop(rd_train.index)"
      ]
    },
    {
      "cell_type": "code",
      "execution_count": 26,
      "metadata": {
        "id": "LjVpFQBTOwrI"
      },
      "outputs": [],
      "source": [
        "image_paths_train = weeks_train['image_path'].values\n",
        "labels_train = weeks_train['weight'].values\n",
        "image_paths_test = weeks_test['image_path'].values\n",
        "labels_test = weeks_test['weight'].values"
      ]
    },
    {
      "cell_type": "markdown",
      "metadata": {
        "id": "0qMZ4X2ePp7-"
      },
      "source": [
        "### Dataset"
      ]
    },
    {
      "cell_type": "code",
      "execution_count": 27,
      "metadata": {
        "id": "tGTOXS_mPc68"
      },
      "outputs": [],
      "source": [
        "import tensorflow as tf\n",
        "import pandas as pd\n",
        "import cv2\n",
        "import numpy as np\n",
        "import matplotlib.pyplot as plt"
      ]
    },
    {
      "cell_type": "code",
      "execution_count": 28,
      "metadata": {
        "id": "-RJS1kzIPmeU"
      },
      "outputs": [],
      "source": [
        "train_dataset = tf.data.Dataset.from_tensor_slices((image_paths_train, labels_train))\n",
        "test_dataset = tf.data.Dataset.from_tensor_slices((image_paths_test, labels_test))"
      ]
    },
    {
      "cell_type": "code",
      "execution_count": 29,
      "metadata": {
        "id": "MatpkQ8_PoTY"
      },
      "outputs": [],
      "source": [
        "IMG_SIZE = int(Resolution)\n",
        "channels = 1\n",
        "\n",
        "def preprocess_image(image_path, label):\n",
        "    img = tf.io.read_file(image_path)\n",
        "    img = tf.image.decode_jpeg(img, channels=3)\n",
        "#----------change gray scale and rgb----------------------------\n",
        "    img = tf.image.rgb_to_grayscale(img)\n",
        "#-------------------------------------------------------------------\n",
        "    if int(Resolution) > IMG_SIZE:\n",
        "      img = tf.image.resize(img, [IMG_SIZE, IMG_SIZE])\n",
        "    img = tf.cast(img, tf.float32) / 255.0\n",
        "    return img, label"
      ]
    },
    {
      "cell_type": "code",
      "execution_count": 30,
      "metadata": {
        "colab": {
          "base_uri": "https://localhost:8080/"
        },
        "id": "CZt3CGw6Q_gr",
        "outputId": "c47a92e8-f3eb-4206-ee72-e662fed02c0c"
      },
      "outputs": [
        {
          "output_type": "stream",
          "name": "stdout",
          "text": [
            "Number of elements in the train dataset: 75694\n",
            "Number of elements in the test dataset: 20531\n"
          ]
        }
      ],
      "source": [
        "print(\"Number of elements in the train dataset:\", tf.data.experimental.cardinality(train_dataset).numpy())\n",
        "print(\"Number of elements in the test dataset:\", tf.data.experimental.cardinality(test_dataset).numpy())"
      ]
    },
    {
      "cell_type": "code",
      "execution_count": 31,
      "metadata": {
        "id": "4oGiaV36buU8"
      },
      "outputs": [],
      "source": [
        "#---------------------for size 512, use batch size 64, if smaller, could change to 128--------------------------\n",
        "batch_size = 128\n",
        "#---------------------------------------------------------------------------------------------------------------------------\n",
        "train_dataset = train_dataset.shuffle(len(labels_train))\n",
        "train_dataset = train_dataset.map(preprocess_image)\n",
        "train_dataset = train_dataset.batch(batch_size)\n",
        "train_dataset = train_dataset.prefetch(tf.data.AUTOTUNE)\n",
        "\n",
        "test_dataset = test_dataset.map(preprocess_image)\n",
        "test_dataset = test_dataset.batch(batch_size)\n",
        "test_dataset = test_dataset.prefetch(tf.data.AUTOTUNE)"
      ]
    },
    {
      "cell_type": "markdown",
      "metadata": {
        "id": "eXKjNY9QPuxP"
      },
      "source": [
        "### Model Config and Training"
      ]
    },
    {
      "cell_type": "code",
      "execution_count": 32,
      "metadata": {
        "id": "G7huVLqrbwUY"
      },
      "outputs": [],
      "source": [
        "model = tf.keras.Sequential([\n",
        "#change shape 1/3----------------------------------------------------------------------------------------------\n",
        "    tf.keras.layers.Conv2D(32, (3, 3), activation='relu', input_shape=(IMG_SIZE, IMG_SIZE, 1)),\n",
        "#----------------------------------------------------------------------------------------------------------------\n",
        "    tf.keras.layers.MaxPooling2D((2, 2)),\n",
        "    tf.keras.layers.Conv2D(64, (3, 3), activation='relu'),\n",
        "    tf.keras.layers.MaxPooling2D((2, 2)),\n",
        "#-------------------------------Add 1 conv layer for rgb image------------------\n",
        "    #tf.keras.layers.Conv2D(128, (3, 3), activation='relu'),\n",
        "    #tf.keras.layers.MaxPooling2D((2, 2)),\n",
        "#--------------------------------------------------------------------------------------\n",
        "    tf.keras.layers.Flatten(),\n",
        "    tf.keras.layers.Dense(64, activation='relu'),\n",
        "    tf.keras.layers.Dropout(0.5),\n",
        "    tf.keras.layers.Dense(1)\n",
        "])"
      ]
    },
    {
      "cell_type": "code",
      "execution_count": 33,
      "metadata": {
        "id": "rxcrQtBcbyLZ"
      },
      "outputs": [],
      "source": [
        "model.compile(optimizer='adam', loss='mse', metrics=['mae','mape'])"
      ]
    },
    {
      "cell_type": "code",
      "execution_count": 34,
      "metadata": {
        "colab": {
          "base_uri": "https://localhost:8080/"
        },
        "id": "J61WciyFvmVP",
        "outputId": "3a786e36-4364-4478-c0f5-d7672906ea09"
      },
      "outputs": [
        {
          "output_type": "stream",
          "name": "stdout",
          "text": [
            "Thu Mar 30 19:03:53 2023       \n",
            "+-----------------------------------------------------------------------------+\n",
            "| NVIDIA-SMI 525.85.12    Driver Version: 525.85.12    CUDA Version: 12.0     |\n",
            "|-------------------------------+----------------------+----------------------+\n",
            "| GPU  Name        Persistence-M| Bus-Id        Disp.A | Volatile Uncorr. ECC |\n",
            "| Fan  Temp  Perf  Pwr:Usage/Cap|         Memory-Usage | GPU-Util  Compute M. |\n",
            "|                               |                      |               MIG M. |\n",
            "|===============================+======================+======================|\n",
            "|   0  Tesla T4            Off  | 00000000:00:04.0 Off |                    0 |\n",
            "| N/A   46C    P0    28W /  70W |    887MiB / 15360MiB |      1%      Default |\n",
            "|                               |                      |                  N/A |\n",
            "+-------------------------------+----------------------+----------------------+\n",
            "                                                                               \n",
            "+-----------------------------------------------------------------------------+\n",
            "| Processes:                                                                  |\n",
            "|  GPU   GI   CI        PID   Type   Process name                  GPU Memory |\n",
            "|        ID   ID                                                   Usage      |\n",
            "|=============================================================================|\n",
            "+-----------------------------------------------------------------------------+\n"
          ]
        }
      ],
      "source": [
        "!nvidia-smi"
      ]
    },
    {
      "cell_type": "code",
      "execution_count": 35,
      "metadata": {
        "colab": {
          "base_uri": "https://localhost:8080/"
        },
        "id": "ISZFminJb6iZ",
        "outputId": "21bdc5c7-8b2a-4dcb-c13f-a2c6e77e2115"
      },
      "outputs": [
        {
          "output_type": "stream",
          "name": "stdout",
          "text": [
            "Model: \"sequential_1\"\n",
            "_________________________________________________________________\n",
            " Layer (type)                Output Shape              Param #   \n",
            "=================================================================\n",
            " conv2d_2 (Conv2D)           (None, 254, 254, 32)      320       \n",
            "                                                                 \n",
            " max_pooling2d_2 (MaxPooling  (None, 127, 127, 32)     0         \n",
            " 2D)                                                             \n",
            "                                                                 \n",
            " conv2d_3 (Conv2D)           (None, 125, 125, 64)      18496     \n",
            "                                                                 \n",
            " max_pooling2d_3 (MaxPooling  (None, 62, 62, 64)       0         \n",
            " 2D)                                                             \n",
            "                                                                 \n",
            " flatten_1 (Flatten)         (None, 246016)            0         \n",
            "                                                                 \n",
            " dense_2 (Dense)             (None, 64)                15745088  \n",
            "                                                                 \n",
            " dropout_1 (Dropout)         (None, 64)                0         \n",
            "                                                                 \n",
            " dense_3 (Dense)             (None, 1)                 65        \n",
            "                                                                 \n",
            "=================================================================\n",
            "Total params: 15,763,969\n",
            "Trainable params: 15,763,969\n",
            "Non-trainable params: 0\n",
            "_________________________________________________________________\n",
            "Epoch 1/20\n",
            "592/592 [==============================] - 115s 169ms/step - loss: 73.8247 - mae: 6.6270 - mape: 22.9303 - val_loss: 165.9684 - val_mae: 11.0145 - val_mape: 35.1267\n",
            "Epoch 2/20\n",
            "592/592 [==============================] - 100s 168ms/step - loss: 55.5433 - mae: 5.7659 - mape: 19.9415 - val_loss: 154.6203 - val_mae: 10.6596 - val_mape: 33.7175\n",
            "Epoch 3/20\n",
            "592/592 [==============================] - 100s 169ms/step - loss: 51.1047 - mae: 5.5284 - mape: 19.0770 - val_loss: 145.6400 - val_mae: 10.2827 - val_mape: 35.3727\n",
            "Epoch 4/20\n",
            "592/592 [==============================] - 101s 170ms/step - loss: 48.5125 - mae: 5.3789 - mape: 18.5095 - val_loss: 139.0393 - val_mae: 10.0246 - val_mape: 31.8648\n",
            "Epoch 5/20\n",
            "592/592 [==============================] - 101s 170ms/step - loss: 46.6833 - mae: 5.2728 - mape: 18.1265 - val_loss: 138.1096 - val_mae: 10.0673 - val_mape: 33.2370\n",
            "Epoch 6/20\n",
            "592/592 [==============================] - 100s 169ms/step - loss: 44.4147 - mae: 5.1254 - mape: 17.5918 - val_loss: 128.9601 - val_mae: 9.6105 - val_mape: 31.5819\n",
            "Epoch 7/20\n",
            "592/592 [==============================] - 100s 169ms/step - loss: 43.1870 - mae: 5.0481 - mape: 17.2904 - val_loss: 132.7024 - val_mae: 9.7589 - val_mape: 32.4579\n",
            "Epoch 8/20\n",
            "592/592 [==============================] - 99s 167ms/step - loss: 41.3212 - mae: 4.9280 - mape: 16.8852 - val_loss: 122.6512 - val_mae: 9.3344 - val_mape: 31.0273\n",
            "Epoch 9/20\n",
            "592/592 [==============================] - 99s 168ms/step - loss: 39.7558 - mae: 4.8354 - mape: 16.5249 - val_loss: 128.8701 - val_mae: 9.4821 - val_mape: 29.7523\n",
            "Epoch 10/20\n",
            "592/592 [==============================] - 100s 168ms/step - loss: 38.9085 - mae: 4.7749 - mape: 16.2985 - val_loss: 129.9476 - val_mae: 9.4734 - val_mape: 29.7562\n",
            "Epoch 11/20\n",
            "592/592 [==============================] - 100s 168ms/step - loss: 36.8870 - mae: 4.6546 - mape: 15.8649 - val_loss: 129.3977 - val_mae: 9.5906 - val_mape: 31.6432\n",
            "Epoch 12/20\n",
            "592/592 [==============================] - 100s 168ms/step - loss: 35.7928 - mae: 4.5585 - mape: 15.4793 - val_loss: 124.3772 - val_mae: 9.2994 - val_mape: 30.0695\n",
            "Epoch 13/20\n",
            "592/592 [==============================] - 99s 168ms/step - loss: 34.4580 - mae: 4.4714 - mape: 15.1909 - val_loss: 119.8327 - val_mae: 9.1267 - val_mape: 29.8193\n",
            "Epoch 14/20\n",
            "592/592 [==============================] - 99s 167ms/step - loss: 32.8952 - mae: 4.3670 - mape: 14.8165 - val_loss: 125.1859 - val_mae: 9.2437 - val_mape: 28.4014\n",
            "Epoch 15/20\n",
            "592/592 [==============================] - 99s 167ms/step - loss: 31.9687 - mae: 4.2887 - mape: 14.5294 - val_loss: 121.5825 - val_mae: 9.2286 - val_mape: 29.7738\n",
            "Epoch 16/20\n",
            "592/592 [==============================] - 98s 165ms/step - loss: 30.9900 - mae: 4.2166 - mape: 14.2537 - val_loss: 121.9063 - val_mae: 9.2217 - val_mape: 31.2600\n",
            "Epoch 17/20\n",
            "592/592 [==============================] - 99s 166ms/step - loss: 29.9226 - mae: 4.1355 - mape: 13.9595 - val_loss: 120.3626 - val_mae: 9.1102 - val_mape: 28.8770\n",
            "Epoch 18/20\n",
            "592/592 [==============================] - 99s 167ms/step - loss: 28.7712 - mae: 4.0499 - mape: 13.6494 - val_loss: 123.0449 - val_mae: 9.2606 - val_mape: 30.1419\n",
            "Epoch 19/20\n",
            "592/592 [==============================] - 99s 166ms/step - loss: 27.6574 - mae: 3.9535 - mape: 13.2867 - val_loss: 123.1600 - val_mae: 9.2144 - val_mape: 29.2498\n",
            "Epoch 20/20\n",
            "592/592 [==============================] - 99s 167ms/step - loss: 26.6615 - mae: 3.8750 - mape: 12.9860 - val_loss: 124.8135 - val_mae: 9.3463 - val_mape: 31.1586\n"
          ]
        }
      ],
      "source": [
        "model.summary()\n",
        "history = model.fit(train_dataset, epochs=20, validation_data=test_dataset)"
      ]
    },
    {
      "cell_type": "code",
      "execution_count": 36,
      "metadata": {
        "id": "l0rGvc7vb4bT",
        "colab": {
          "base_uri": "https://localhost:8080/"
        },
        "outputId": "25727b4a-bdb5-4ee6-f6da-3485b1ce382a"
      },
      "outputs": [
        {
          "output_type": "stream",
          "name": "stdout",
          "text": [
            "161/161 [==============================] - 13s 80ms/step - loss: 124.8135 - mae: 9.3463 - mape: 31.1586\n",
            "Test loss: 124.8134765625\n",
            "Test mean absolute error: 9.346305847167969\n",
            "Test mean absolute percentage error: 31.158559799194336\n"
          ]
        }
      ],
      "source": [
        "test_loss, test_mae, test_mape = model.evaluate(test_dataset)\n",
        "print('Test loss:', test_loss)\n",
        "print('Test mean absolute error:', test_mae)\n",
        "print('Test mean absolute percentage error:', test_mape)"
      ]
    }
  ],
  "metadata": {
    "accelerator": "GPU",
    "colab": {
      "machine_shape": "hm",
      "provenance": [],
      "include_colab_link": true
    },
    "gpuClass": "standard",
    "kernelspec": {
      "display_name": "Python 3",
      "name": "python3"
    },
    "language_info": {
      "name": "python"
    }
  },
  "nbformat": 4,
  "nbformat_minor": 0
}