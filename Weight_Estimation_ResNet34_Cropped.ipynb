{
  "cells": [
    {
      "cell_type": "markdown",
      "metadata": {
        "id": "view-in-github",
        "colab_type": "text"
      },
      "source": [
        "<a href=\"https://colab.research.google.com/github/Smart-Pigs/Depth-Images/blob/main/Weight_Estimation_ResNet34_Cropped.ipynb\" target=\"_parent\"><img src=\"https://colab.research.google.com/assets/colab-badge.svg\" alt=\"Open In Colab\"/></a>"
      ]
    },
    {
      "cell_type": "markdown",
      "metadata": {
        "id": "rt1QiZxD_M2H"
      },
      "source": [
        "Make sure you have this folder as shortcut in your drive - /content/gdrive/MyDrive/Morota-video-data/ "
      ]
    },
    {
      "cell_type": "code",
      "execution_count": 1,
      "metadata": {
        "colab": {
          "base_uri": "https://localhost:8080/"
        },
        "id": "wh9Vwean2fOO",
        "outputId": "7d0a54cd-0773-49cd-a22a-9c8e29f3b70b"
      },
      "outputs": [
        {
          "output_type": "stream",
          "name": "stdout",
          "text": [
            "Mounted at /content/gdrive\n"
          ]
        }
      ],
      "source": [
        "#Mount Google Drive \n",
        "from google.colab import drive\n",
        "drive.mount('/content/gdrive',force_remount=True)"
      ]
    },
    {
      "cell_type": "markdown",
      "metadata": {
        "id": "iBa7wLZiP464"
      },
      "source": [
        "### Data Loading"
      ]
    },
    {
      "cell_type": "code",
      "execution_count": 3,
      "metadata": {
        "id": "3_wcT30tQdnm"
      },
      "outputs": [],
      "source": [
        "#@markdown Select resolution of input dataset and weeks of data\n",
        "\n",
        "Instantiate_New_Dataset = True #@param {type:\"boolean\"}\n",
        "Refresh_Old_Dataset = False #@param {type:\"boolean\"}\n",
        "\n",
        "if Instantiate_New_Dataset == True:\n",
        "  !rm -rf Week*/\n",
        "\n",
        "Resolution = \"256\"  #@param ['720', '512', '256']\n",
        "\n",
        "if Refresh_Old_Dataset == False:\n",
        "  if Resolution == \"720\":\n",
        "    !cp /content/gdrive/MyDrive/Morota-video-data/DEPTH_INDIVIDUAL/CROPPED/CROPPED_WEEK1-10_720.zip .\n",
        "    !unzip -qq CROPPED_WEEK1-10_720.zip -d .\n",
        "    !rm -rf *WEEK*.zip\n",
        "\n",
        "  if Resolution == \"512\":\n",
        "    !cp /content/gdrive/MyDrive/Morota-video-data/DEPTH_INDIVIDUAL/CROPPED/CROPPED_WEEK1-10_512.zip .\n",
        "    !unzip -qq CROPPED_WEEK1-10_512.zip -d .\n",
        "    !rm -rf *WEEK*.zip\n",
        "\n",
        "  if Resolution == \"256\":\n",
        "    !cp /content/gdrive/MyDrive/Morota-video-data/DEPTH_INDIVIDUAL/CROPPED/CROPPED_WEEK1-10_256.zip .\n",
        "    !unzip -qq CROPPED_WEEK1-10_256.zip -d .\n",
        "    !rm -rf *WEEK*.zip"
      ]
    },
    {
      "cell_type": "markdown",
      "metadata": {
        "id": "qrG6Sd2wPhR9"
      },
      "source": [
        "### Mapping Table Input"
      ]
    },
    {
      "cell_type": "code",
      "execution_count": 4,
      "metadata": {
        "id": "GZJc0qPKSlUe"
      },
      "outputs": [],
      "source": [
        "import pandas as pd"
      ]
    },
    {
      "cell_type": "code",
      "execution_count": 6,
      "metadata": {
        "id": "WuRbcfmGVHWh"
      },
      "outputs": [],
      "source": [
        "final_map = pd.read_csv(\"/content/gdrive/MyDrive/Morota-video-data/final_mapping.csv\")"
      ]
    },
    {
      "cell_type": "code",
      "execution_count": 7,
      "metadata": {
        "id": "Jk-bYshSK9qz"
      },
      "outputs": [],
      "source": [
        "weeks = final_map"
      ]
    },
    {
      "cell_type": "code",
      "execution_count": 8,
      "metadata": {
        "colab": {
          "base_uri": "https://localhost:8080/",
          "height": 423
        },
        "id": "Ya5yII3HPhbr",
        "outputId": "3c6bbfe3-2d71-4fad-fc66-2e2d8948b5e7"
      },
      "outputs": [
        {
          "output_type": "execute_result",
          "data": {
            "text/plain": [
              "                                           image_path      Date   Pig  weight  \\\n",
              "0      Week1/20210922/20210922_3330_b/_Depth_4683.jpg  20210922  3330    15.5   \n",
              "1      Week1/20210922/20210922_3330_b/_Depth_4778.jpg  20210922  3330    15.5   \n",
              "2      Week1/20210922/20210922_3330_b/_Depth_4579.jpg  20210922  3330    15.5   \n",
              "3      Week1/20210922/20210922_3330_b/_Depth_4578.jpg  20210922  3330    15.5   \n",
              "4      Week1/20210922/20210922_3330_b/_Depth_4584.jpg  20210922  3330    15.5   \n",
              "...                                               ...       ...   ...     ...   \n",
              "96220   Week10/20211119/20211119_3342/_Depth_3504.jpg  20211119  3342    56.6   \n",
              "96221   Week10/20211119/20211119_3342/_Depth_3318.jpg  20211119  3342    56.6   \n",
              "96222   Week10/20211119/20211119_3342/_Depth_3476.jpg  20211119  3342    56.6   \n",
              "96223   Week10/20211119/20211119_3342/_Depth_3169.jpg  20211119  3342    56.6   \n",
              "96224   Week10/20211119/20211119_3342/_Depth_3022.jpg  20211119  3342    56.6   \n",
              "\n",
              "       Week  \n",
              "0         1  \n",
              "1         1  \n",
              "2         1  \n",
              "3         1  \n",
              "4         1  \n",
              "...     ...  \n",
              "96220    10  \n",
              "96221    10  \n",
              "96222    10  \n",
              "96223    10  \n",
              "96224    10  \n",
              "\n",
              "[96225 rows x 5 columns]"
            ],
            "text/html": [
              "\n",
              "  <div id=\"df-9a1cd473-8841-4ec3-a6db-32e87fa21b29\">\n",
              "    <div class=\"colab-df-container\">\n",
              "      <div>\n",
              "<style scoped>\n",
              "    .dataframe tbody tr th:only-of-type {\n",
              "        vertical-align: middle;\n",
              "    }\n",
              "\n",
              "    .dataframe tbody tr th {\n",
              "        vertical-align: top;\n",
              "    }\n",
              "\n",
              "    .dataframe thead th {\n",
              "        text-align: right;\n",
              "    }\n",
              "</style>\n",
              "<table border=\"1\" class=\"dataframe\">\n",
              "  <thead>\n",
              "    <tr style=\"text-align: right;\">\n",
              "      <th></th>\n",
              "      <th>image_path</th>\n",
              "      <th>Date</th>\n",
              "      <th>Pig</th>\n",
              "      <th>weight</th>\n",
              "      <th>Week</th>\n",
              "    </tr>\n",
              "  </thead>\n",
              "  <tbody>\n",
              "    <tr>\n",
              "      <th>0</th>\n",
              "      <td>Week1/20210922/20210922_3330_b/_Depth_4683.jpg</td>\n",
              "      <td>20210922</td>\n",
              "      <td>3330</td>\n",
              "      <td>15.5</td>\n",
              "      <td>1</td>\n",
              "    </tr>\n",
              "    <tr>\n",
              "      <th>1</th>\n",
              "      <td>Week1/20210922/20210922_3330_b/_Depth_4778.jpg</td>\n",
              "      <td>20210922</td>\n",
              "      <td>3330</td>\n",
              "      <td>15.5</td>\n",
              "      <td>1</td>\n",
              "    </tr>\n",
              "    <tr>\n",
              "      <th>2</th>\n",
              "      <td>Week1/20210922/20210922_3330_b/_Depth_4579.jpg</td>\n",
              "      <td>20210922</td>\n",
              "      <td>3330</td>\n",
              "      <td>15.5</td>\n",
              "      <td>1</td>\n",
              "    </tr>\n",
              "    <tr>\n",
              "      <th>3</th>\n",
              "      <td>Week1/20210922/20210922_3330_b/_Depth_4578.jpg</td>\n",
              "      <td>20210922</td>\n",
              "      <td>3330</td>\n",
              "      <td>15.5</td>\n",
              "      <td>1</td>\n",
              "    </tr>\n",
              "    <tr>\n",
              "      <th>4</th>\n",
              "      <td>Week1/20210922/20210922_3330_b/_Depth_4584.jpg</td>\n",
              "      <td>20210922</td>\n",
              "      <td>3330</td>\n",
              "      <td>15.5</td>\n",
              "      <td>1</td>\n",
              "    </tr>\n",
              "    <tr>\n",
              "      <th>...</th>\n",
              "      <td>...</td>\n",
              "      <td>...</td>\n",
              "      <td>...</td>\n",
              "      <td>...</td>\n",
              "      <td>...</td>\n",
              "    </tr>\n",
              "    <tr>\n",
              "      <th>96220</th>\n",
              "      <td>Week10/20211119/20211119_3342/_Depth_3504.jpg</td>\n",
              "      <td>20211119</td>\n",
              "      <td>3342</td>\n",
              "      <td>56.6</td>\n",
              "      <td>10</td>\n",
              "    </tr>\n",
              "    <tr>\n",
              "      <th>96221</th>\n",
              "      <td>Week10/20211119/20211119_3342/_Depth_3318.jpg</td>\n",
              "      <td>20211119</td>\n",
              "      <td>3342</td>\n",
              "      <td>56.6</td>\n",
              "      <td>10</td>\n",
              "    </tr>\n",
              "    <tr>\n",
              "      <th>96222</th>\n",
              "      <td>Week10/20211119/20211119_3342/_Depth_3476.jpg</td>\n",
              "      <td>20211119</td>\n",
              "      <td>3342</td>\n",
              "      <td>56.6</td>\n",
              "      <td>10</td>\n",
              "    </tr>\n",
              "    <tr>\n",
              "      <th>96223</th>\n",
              "      <td>Week10/20211119/20211119_3342/_Depth_3169.jpg</td>\n",
              "      <td>20211119</td>\n",
              "      <td>3342</td>\n",
              "      <td>56.6</td>\n",
              "      <td>10</td>\n",
              "    </tr>\n",
              "    <tr>\n",
              "      <th>96224</th>\n",
              "      <td>Week10/20211119/20211119_3342/_Depth_3022.jpg</td>\n",
              "      <td>20211119</td>\n",
              "      <td>3342</td>\n",
              "      <td>56.6</td>\n",
              "      <td>10</td>\n",
              "    </tr>\n",
              "  </tbody>\n",
              "</table>\n",
              "<p>96225 rows × 5 columns</p>\n",
              "</div>\n",
              "      <button class=\"colab-df-convert\" onclick=\"convertToInteractive('df-9a1cd473-8841-4ec3-a6db-32e87fa21b29')\"\n",
              "              title=\"Convert this dataframe to an interactive table.\"\n",
              "              style=\"display:none;\">\n",
              "        \n",
              "  <svg xmlns=\"http://www.w3.org/2000/svg\" height=\"24px\"viewBox=\"0 0 24 24\"\n",
              "       width=\"24px\">\n",
              "    <path d=\"M0 0h24v24H0V0z\" fill=\"none\"/>\n",
              "    <path d=\"M18.56 5.44l.94 2.06.94-2.06 2.06-.94-2.06-.94-.94-2.06-.94 2.06-2.06.94zm-11 1L8.5 8.5l.94-2.06 2.06-.94-2.06-.94L8.5 2.5l-.94 2.06-2.06.94zm10 10l.94 2.06.94-2.06 2.06-.94-2.06-.94-.94-2.06-.94 2.06-2.06.94z\"/><path d=\"M17.41 7.96l-1.37-1.37c-.4-.4-.92-.59-1.43-.59-.52 0-1.04.2-1.43.59L10.3 9.45l-7.72 7.72c-.78.78-.78 2.05 0 2.83L4 21.41c.39.39.9.59 1.41.59.51 0 1.02-.2 1.41-.59l7.78-7.78 2.81-2.81c.8-.78.8-2.07 0-2.86zM5.41 20L4 18.59l7.72-7.72 1.47 1.35L5.41 20z\"/>\n",
              "  </svg>\n",
              "      </button>\n",
              "      \n",
              "  <style>\n",
              "    .colab-df-container {\n",
              "      display:flex;\n",
              "      flex-wrap:wrap;\n",
              "      gap: 12px;\n",
              "    }\n",
              "\n",
              "    .colab-df-convert {\n",
              "      background-color: #E8F0FE;\n",
              "      border: none;\n",
              "      border-radius: 50%;\n",
              "      cursor: pointer;\n",
              "      display: none;\n",
              "      fill: #1967D2;\n",
              "      height: 32px;\n",
              "      padding: 0 0 0 0;\n",
              "      width: 32px;\n",
              "    }\n",
              "\n",
              "    .colab-df-convert:hover {\n",
              "      background-color: #E2EBFA;\n",
              "      box-shadow: 0px 1px 2px rgba(60, 64, 67, 0.3), 0px 1px 3px 1px rgba(60, 64, 67, 0.15);\n",
              "      fill: #174EA6;\n",
              "    }\n",
              "\n",
              "    [theme=dark] .colab-df-convert {\n",
              "      background-color: #3B4455;\n",
              "      fill: #D2E3FC;\n",
              "    }\n",
              "\n",
              "    [theme=dark] .colab-df-convert:hover {\n",
              "      background-color: #434B5C;\n",
              "      box-shadow: 0px 1px 3px 1px rgba(0, 0, 0, 0.15);\n",
              "      filter: drop-shadow(0px 1px 2px rgba(0, 0, 0, 0.3));\n",
              "      fill: #FFFFFF;\n",
              "    }\n",
              "  </style>\n",
              "\n",
              "      <script>\n",
              "        const buttonEl =\n",
              "          document.querySelector('#df-9a1cd473-8841-4ec3-a6db-32e87fa21b29 button.colab-df-convert');\n",
              "        buttonEl.style.display =\n",
              "          google.colab.kernel.accessAllowed ? 'block' : 'none';\n",
              "\n",
              "        async function convertToInteractive(key) {\n",
              "          const element = document.querySelector('#df-9a1cd473-8841-4ec3-a6db-32e87fa21b29');\n",
              "          const dataTable =\n",
              "            await google.colab.kernel.invokeFunction('convertToInteractive',\n",
              "                                                     [key], {});\n",
              "          if (!dataTable) return;\n",
              "\n",
              "          const docLinkHtml = 'Like what you see? Visit the ' +\n",
              "            '<a target=\"_blank\" href=https://colab.research.google.com/notebooks/data_table.ipynb>data table notebook</a>'\n",
              "            + ' to learn more about interactive tables.';\n",
              "          element.innerHTML = '';\n",
              "          dataTable['output_type'] = 'display_data';\n",
              "          await google.colab.output.renderOutput(dataTable, element);\n",
              "          const docLink = document.createElement('div');\n",
              "          docLink.innerHTML = docLinkHtml;\n",
              "          element.appendChild(docLink);\n",
              "        }\n",
              "      </script>\n",
              "    </div>\n",
              "  </div>\n",
              "  "
            ]
          },
          "metadata": {},
          "execution_count": 8
        }
      ],
      "source": [
        "weeks"
      ]
    },
    {
      "cell_type": "code",
      "execution_count": 9,
      "metadata": {
        "id": "oY-FHnPO1CW8"
      },
      "outputs": [],
      "source": [
        "#weeks_train = weeks[weeks[\"Pig\"] != 3384]\n",
        "weeks_test = weeks[weeks['image_path'].str.contains('Week1/|Week2/')]"
      ]
    },
    {
      "cell_type": "code",
      "execution_count": 11,
      "metadata": {
        "id": "k-OZqlmN1ID1"
      },
      "outputs": [],
      "source": [
        "#weeks_test = weeks[weeks[\"Pig\"] == 3384]\n",
        "weeks_train = weeks[~weeks['image_path'].str.contains('Week1/|Week2/')]"
      ]
    },
    {
      "cell_type": "code",
      "execution_count": 12,
      "metadata": {
        "id": "LjVpFQBTOwrI"
      },
      "outputs": [],
      "source": [
        "image_paths_train = weeks_train['image_path'].values\n",
        "labels_train = weeks_train['weight'].values\n",
        "image_paths_test = weeks_test['image_path'].values\n",
        "labels_test = weeks_test['weight'].values"
      ]
    },
    {
      "cell_type": "markdown",
      "metadata": {
        "id": "0qMZ4X2ePp7-"
      },
      "source": [
        "### Dataset"
      ]
    },
    {
      "cell_type": "code",
      "execution_count": 14,
      "metadata": {
        "id": "tGTOXS_mPc68"
      },
      "outputs": [],
      "source": [
        "import tensorflow as tf\n",
        "import pandas as pd\n",
        "import cv2\n",
        "import numpy as np\n",
        "import matplotlib.pyplot as plt"
      ]
    },
    {
      "cell_type": "code",
      "execution_count": 15,
      "metadata": {
        "id": "-RJS1kzIPmeU"
      },
      "outputs": [],
      "source": [
        "train_dataset = tf.data.Dataset.from_tensor_slices((image_paths_train, labels_train))\n",
        "test_dataset = tf.data.Dataset.from_tensor_slices((image_paths_test, labels_test))"
      ]
    },
    {
      "cell_type": "code",
      "execution_count": 16,
      "metadata": {
        "id": "MatpkQ8_PoTY"
      },
      "outputs": [],
      "source": [
        "IMG_SIZE = int(Resolution)\n",
        "channels = 1\n",
        "\n",
        "def preprocess_image(image_path, label):\n",
        "    img = tf.io.read_file(image_path)\n",
        "    #img = tf.image.decode_jpeg(img, channels=1)\n",
        "    img = tf.image.decode_jpeg(img, channels=3)\n",
        "    img = tf.image.rgb_to_grayscale(img)\n",
        "    if int(Resolution) > IMG_SIZE:\n",
        "      img = tf.image.resize(img, [IMG_SIZE, IMG_SIZE])\n",
        "    img = tf.cast(img, tf.float32) / 255.0\n",
        "    return img, label"
      ]
    },
    {
      "cell_type": "code",
      "execution_count": 17,
      "metadata": {
        "colab": {
          "base_uri": "https://localhost:8080/"
        },
        "id": "CZt3CGw6Q_gr",
        "outputId": "b3961355-2f09-4c4e-d072-1a5c81810f11"
      },
      "outputs": [
        {
          "output_type": "stream",
          "name": "stdout",
          "text": [
            "Number of elements in the train dataset: 89439\n",
            "Number of elements in the test dataset: 6786\n"
          ]
        }
      ],
      "source": [
        "print(\"Number of elements in the train dataset:\", tf.data.experimental.cardinality(train_dataset).numpy())\n",
        "print(\"Number of elements in the test dataset:\", tf.data.experimental.cardinality(test_dataset).numpy())"
      ]
    },
    {
      "cell_type": "code",
      "execution_count": 18,
      "metadata": {
        "id": "4oGiaV36buU8"
      },
      "outputs": [],
      "source": [
        "batch_size = 128\n",
        "\n",
        "train_dataset = train_dataset.shuffle(len(labels_train))\n",
        "train_dataset = train_dataset.map(preprocess_image)\n",
        "train_dataset = train_dataset.batch(batch_size)\n",
        "train_dataset = train_dataset.prefetch(tf.data.AUTOTUNE)\n",
        "\n",
        "test_dataset = test_dataset.map(preprocess_image)\n",
        "test_dataset = test_dataset.batch(batch_size)\n",
        "test_dataset = test_dataset.prefetch(tf.data.AUTOTUNE)"
      ]
    },
    {
      "cell_type": "markdown",
      "metadata": {
        "id": "eXKjNY9QPuxP"
      },
      "source": [
        "### Model Config and Training"
      ]
    },
    {
      "cell_type": "code",
      "execution_count": 19,
      "metadata": {
        "id": "Gdst0PrL61mZ"
      },
      "outputs": [],
      "source": [
        "# Modified Resnet model\n",
        "def identity_block(x, filter):\n",
        "    # copy tensor to variable called x_skip\n",
        "    x_skip = x\n",
        "    # Layer 1\n",
        "    x = tf.keras.layers.Conv2D(filter, (3,3), padding = 'same')(x)\n",
        "    x = tf.keras.layers.BatchNormalization(axis=3)(x)\n",
        "    x = tf.keras.layers.Activation('relu')(x)\n",
        "    # Layer 2\n",
        "    x = tf.keras.layers.Conv2D(filter, (3,3), padding = 'same')(x)\n",
        "    x = tf.keras.layers.BatchNormalization(axis=3)(x)\n",
        "    # Add Residue\n",
        "    x = tf.keras.layers.Add()([x, x_skip])     \n",
        "    x = tf.keras.layers.Activation('relu')(x)\n",
        "    return x"
      ]
    },
    {
      "cell_type": "code",
      "execution_count": 20,
      "metadata": {
        "id": "7OeGIDxr62Nk"
      },
      "outputs": [],
      "source": [
        "def convolutional_block(x, filter):\n",
        "    # copy tensor to variable called x_skip\n",
        "    x_skip = x\n",
        "    # Layer 1\n",
        "    x = tf.keras.layers.Conv2D(filter, (3,3), padding = 'same', strides = (2,2))(x)\n",
        "    x = tf.keras.layers.BatchNormalization(axis=3)(x)\n",
        "    x = tf.keras.layers.Activation('relu')(x)    \n",
        "    # Layer 2\n",
        "    x = tf.keras.layers.Conv2D(filter, (3,3), padding = 'same')(x)\n",
        "    x = tf.keras.layers.BatchNormalization(axis=3)(x)\n",
        "    # Processing Residue with conv(1,1)\n",
        "    x_skip = tf.keras.layers.Conv2D(filter, (1,1), strides = (2,2))(x_skip)\n",
        "    # Add Residue\n",
        "    x = tf.keras.layers.Add()([x, x_skip])     \n",
        "    x = tf.keras.layers.Activation('relu')(x)\n",
        "    return x"
      ]
    },
    {
      "cell_type": "code",
      "execution_count": 30,
      "metadata": {
        "id": "G7huVLqrbwUY"
      },
      "outputs": [],
      "source": [
        "def ResNet34(shape = (IMG_SIZE, IMG_SIZE, 1)):\n",
        "    # Step 1 (Setup Input Layer)\n",
        "    x_input = tf.keras.layers.Input(shape)\n",
        "    x = tf.keras.layers.ZeroPadding2D((3, 3))(x_input)\n",
        "    # Step 2 (Initial Conv layer along with maxPool)\n",
        "    x = tf.keras.layers.Conv2D(64, kernel_size=7, strides=2, padding='same')(x)\n",
        "    x = tf.keras.layers.BatchNormalization()(x)\n",
        "    x = tf.keras.layers.Activation('relu')(x)\n",
        "    x = tf.keras.layers.MaxPool2D(pool_size=3, strides=2, padding='same')(x)\n",
        "    x = tf.keras.layers.Dropout(0.2)(x)\n",
        "    # Define size of sub-blocks and initial filter size\n",
        "    block_layers = [3, 4, 6, 3]\n",
        "    filter_size = 64\n",
        "    # Step 3 Add the Resnet Blocks\n",
        "    for i in range(4):\n",
        "        if i == 0:\n",
        "            # For sub-block 1 Residual/Convolutional block not needed\n",
        "            for j in range(block_layers[i]):\n",
        "                x = identity_block(x, filter_size)\n",
        "        else:\n",
        "            # One Residual/Convolutional Block followed by Identity blocks\n",
        "            # The filter size will go on increasing by a factor of 2\n",
        "            filter_size = filter_size*2\n",
        "            x = convolutional_block(x, filter_size)\n",
        "            for j in range(block_layers[i] - 1):\n",
        "                x = identity_block(x, filter_size)\n",
        "    # Step 4 End Dense Network\n",
        "    x = tf.keras.layers.AveragePooling2D((2,2), padding = 'same')(x)\n",
        "    x = tf.keras.layers.Dropout(0.2)(x)\n",
        "    x = tf.keras.layers.Flatten()(x)\n",
        "    x = tf.keras.layers.Dense(64, activation = 'relu')(x)\n",
        "    # x = tf.keras.layers.Dense(classes, activation = 'softmax')(x)\n",
        "    x = tf.keras.layers.Dense(1)(x);\n",
        "    model = tf.keras.models.Model(inputs = x_input, outputs = x, name = \"ResNet34\")\n",
        "    # model_plot(model);\n",
        "    return model"
      ]
    },
    {
      "cell_type": "code",
      "execution_count": 31,
      "metadata": {
        "id": "abFAGA256-C9"
      },
      "outputs": [],
      "source": [
        "model = ResNet34();"
      ]
    },
    {
      "cell_type": "code",
      "execution_count": 32,
      "metadata": {
        "id": "rxcrQtBcbyLZ"
      },
      "outputs": [],
      "source": [
        "model.compile(optimizer='adam', loss='mse', metrics=['mae','mape'])"
      ]
    },
    {
      "cell_type": "code",
      "execution_count": null,
      "metadata": {
        "colab": {
          "base_uri": "https://localhost:8080/"
        },
        "id": "ISZFminJb6iZ",
        "outputId": "5ab23218-e2c1-43fd-dcb8-1f8d4cd01187"
      },
      "outputs": [
        {
          "output_type": "stream",
          "name": "stdout",
          "text": [
            "Model: \"ResNet34\"\n",
            "__________________________________________________________________________________________________\n",
            " Layer (type)                   Output Shape         Param #     Connected to                     \n",
            "==================================================================================================\n",
            " input_5 (InputLayer)           [(None, 256, 256, 1  0           []                               \n",
            "                                )]                                                                \n",
            "                                                                                                  \n",
            " zero_padding2d_2 (ZeroPadding2  (None, 262, 262, 1)  0          ['input_5[0][0]']                \n",
            " D)                                                                                               \n",
            "                                                                                                  \n",
            " conv2d_38 (Conv2D)             (None, 131, 131, 64  3200        ['zero_padding2d_2[0][0]']       \n",
            "                                )                                                                 \n",
            "                                                                                                  \n",
            " batch_normalization_33 (BatchN  (None, 131, 131, 64  256        ['conv2d_38[0][0]']              \n",
            " ormalization)                  )                                                                 \n",
            "                                                                                                  \n",
            " activation_33 (Activation)     (None, 131, 131, 64  0           ['batch_normalization_33[0][0]'] \n",
            "                                )                                                                 \n",
            "                                                                                                  \n",
            " max_pooling2d_1 (MaxPooling2D)  (None, 66, 66, 64)  0           ['activation_33[0][0]']          \n",
            "                                                                                                  \n",
            " dropout_2 (Dropout)            (None, 66, 66, 64)   0           ['max_pooling2d_1[0][0]']        \n",
            "                                                                                                  \n",
            " conv2d_39 (Conv2D)             (None, 66, 66, 64)   36928       ['dropout_2[0][0]']              \n",
            "                                                                                                  \n",
            " batch_normalization_34 (BatchN  (None, 66, 66, 64)  256         ['conv2d_39[0][0]']              \n",
            " ormalization)                                                                                    \n",
            "                                                                                                  \n",
            " activation_34 (Activation)     (None, 66, 66, 64)   0           ['batch_normalization_34[0][0]'] \n",
            "                                                                                                  \n",
            " conv2d_40 (Conv2D)             (None, 66, 66, 64)   36928       ['activation_34[0][0]']          \n",
            "                                                                                                  \n",
            " batch_normalization_35 (BatchN  (None, 66, 66, 64)  256         ['conv2d_40[0][0]']              \n",
            " ormalization)                                                                                    \n",
            "                                                                                                  \n",
            " add_16 (Add)                   (None, 66, 66, 64)   0           ['batch_normalization_35[0][0]', \n",
            "                                                                  'dropout_2[0][0]']              \n",
            "                                                                                                  \n",
            " activation_35 (Activation)     (None, 66, 66, 64)   0           ['add_16[0][0]']                 \n",
            "                                                                                                  \n",
            " conv2d_41 (Conv2D)             (None, 66, 66, 64)   36928       ['activation_35[0][0]']          \n",
            "                                                                                                  \n",
            " batch_normalization_36 (BatchN  (None, 66, 66, 64)  256         ['conv2d_41[0][0]']              \n",
            " ormalization)                                                                                    \n",
            "                                                                                                  \n",
            " activation_36 (Activation)     (None, 66, 66, 64)   0           ['batch_normalization_36[0][0]'] \n",
            "                                                                                                  \n",
            " conv2d_42 (Conv2D)             (None, 66, 66, 64)   36928       ['activation_36[0][0]']          \n",
            "                                                                                                  \n",
            " batch_normalization_37 (BatchN  (None, 66, 66, 64)  256         ['conv2d_42[0][0]']              \n",
            " ormalization)                                                                                    \n",
            "                                                                                                  \n",
            " add_17 (Add)                   (None, 66, 66, 64)   0           ['batch_normalization_37[0][0]', \n",
            "                                                                  'activation_35[0][0]']          \n",
            "                                                                                                  \n",
            " activation_37 (Activation)     (None, 66, 66, 64)   0           ['add_17[0][0]']                 \n",
            "                                                                                                  \n",
            " conv2d_43 (Conv2D)             (None, 66, 66, 64)   36928       ['activation_37[0][0]']          \n",
            "                                                                                                  \n",
            " batch_normalization_38 (BatchN  (None, 66, 66, 64)  256         ['conv2d_43[0][0]']              \n",
            " ormalization)                                                                                    \n",
            "                                                                                                  \n",
            " activation_38 (Activation)     (None, 66, 66, 64)   0           ['batch_normalization_38[0][0]'] \n",
            "                                                                                                  \n",
            " conv2d_44 (Conv2D)             (None, 66, 66, 64)   36928       ['activation_38[0][0]']          \n",
            "                                                                                                  \n",
            " batch_normalization_39 (BatchN  (None, 66, 66, 64)  256         ['conv2d_44[0][0]']              \n",
            " ormalization)                                                                                    \n",
            "                                                                                                  \n",
            " add_18 (Add)                   (None, 66, 66, 64)   0           ['batch_normalization_39[0][0]', \n",
            "                                                                  'activation_37[0][0]']          \n",
            "                                                                                                  \n",
            " activation_39 (Activation)     (None, 66, 66, 64)   0           ['add_18[0][0]']                 \n",
            "                                                                                                  \n",
            " conv2d_45 (Conv2D)             (None, 33, 33, 128)  73856       ['activation_39[0][0]']          \n",
            "                                                                                                  \n",
            " batch_normalization_40 (BatchN  (None, 33, 33, 128)  512        ['conv2d_45[0][0]']              \n",
            " ormalization)                                                                                    \n",
            "                                                                                                  \n",
            " activation_40 (Activation)     (None, 33, 33, 128)  0           ['batch_normalization_40[0][0]'] \n",
            "                                                                                                  \n",
            " conv2d_46 (Conv2D)             (None, 33, 33, 128)  147584      ['activation_40[0][0]']          \n",
            "                                                                                                  \n",
            " batch_normalization_41 (BatchN  (None, 33, 33, 128)  512        ['conv2d_46[0][0]']              \n",
            " ormalization)                                                                                    \n",
            "                                                                                                  \n",
            " conv2d_47 (Conv2D)             (None, 33, 33, 128)  8320        ['activation_39[0][0]']          \n",
            "                                                                                                  \n",
            " add_19 (Add)                   (None, 33, 33, 128)  0           ['batch_normalization_41[0][0]', \n",
            "                                                                  'conv2d_47[0][0]']              \n",
            "                                                                                                  \n",
            " activation_41 (Activation)     (None, 33, 33, 128)  0           ['add_19[0][0]']                 \n",
            "                                                                                                  \n",
            " conv2d_48 (Conv2D)             (None, 33, 33, 128)  147584      ['activation_41[0][0]']          \n",
            "                                                                                                  \n",
            " batch_normalization_42 (BatchN  (None, 33, 33, 128)  512        ['conv2d_48[0][0]']              \n",
            " ormalization)                                                                                    \n",
            "                                                                                                  \n",
            " activation_42 (Activation)     (None, 33, 33, 128)  0           ['batch_normalization_42[0][0]'] \n",
            "                                                                                                  \n",
            " conv2d_49 (Conv2D)             (None, 33, 33, 128)  147584      ['activation_42[0][0]']          \n",
            "                                                                                                  \n",
            " batch_normalization_43 (BatchN  (None, 33, 33, 128)  512        ['conv2d_49[0][0]']              \n",
            " ormalization)                                                                                    \n",
            "                                                                                                  \n",
            " add_20 (Add)                   (None, 33, 33, 128)  0           ['batch_normalization_43[0][0]', \n",
            "                                                                  'activation_41[0][0]']          \n",
            "                                                                                                  \n",
            " activation_43 (Activation)     (None, 33, 33, 128)  0           ['add_20[0][0]']                 \n",
            "                                                                                                  \n",
            " conv2d_50 (Conv2D)             (None, 33, 33, 128)  147584      ['activation_43[0][0]']          \n",
            "                                                                                                  \n",
            " batch_normalization_44 (BatchN  (None, 33, 33, 128)  512        ['conv2d_50[0][0]']              \n",
            " ormalization)                                                                                    \n",
            "                                                                                                  \n",
            " activation_44 (Activation)     (None, 33, 33, 128)  0           ['batch_normalization_44[0][0]'] \n",
            "                                                                                                  \n",
            " conv2d_51 (Conv2D)             (None, 33, 33, 128)  147584      ['activation_44[0][0]']          \n",
            "                                                                                                  \n",
            " batch_normalization_45 (BatchN  (None, 33, 33, 128)  512        ['conv2d_51[0][0]']              \n",
            " ormalization)                                                                                    \n",
            "                                                                                                  \n",
            " add_21 (Add)                   (None, 33, 33, 128)  0           ['batch_normalization_45[0][0]', \n",
            "                                                                  'activation_43[0][0]']          \n",
            "                                                                                                  \n",
            " activation_45 (Activation)     (None, 33, 33, 128)  0           ['add_21[0][0]']                 \n",
            "                                                                                                  \n",
            " conv2d_52 (Conv2D)             (None, 33, 33, 128)  147584      ['activation_45[0][0]']          \n",
            "                                                                                                  \n",
            " batch_normalization_46 (BatchN  (None, 33, 33, 128)  512        ['conv2d_52[0][0]']              \n",
            " ormalization)                                                                                    \n",
            "                                                                                                  \n",
            " activation_46 (Activation)     (None, 33, 33, 128)  0           ['batch_normalization_46[0][0]'] \n",
            "                                                                                                  \n",
            " conv2d_53 (Conv2D)             (None, 33, 33, 128)  147584      ['activation_46[0][0]']          \n",
            "                                                                                                  \n",
            " batch_normalization_47 (BatchN  (None, 33, 33, 128)  512        ['conv2d_53[0][0]']              \n",
            " ormalization)                                                                                    \n",
            "                                                                                                  \n",
            " add_22 (Add)                   (None, 33, 33, 128)  0           ['batch_normalization_47[0][0]', \n",
            "                                                                  'activation_45[0][0]']          \n",
            "                                                                                                  \n",
            " activation_47 (Activation)     (None, 33, 33, 128)  0           ['add_22[0][0]']                 \n",
            "                                                                                                  \n",
            " conv2d_54 (Conv2D)             (None, 17, 17, 256)  295168      ['activation_47[0][0]']          \n",
            "                                                                                                  \n",
            " batch_normalization_48 (BatchN  (None, 17, 17, 256)  1024       ['conv2d_54[0][0]']              \n",
            " ormalization)                                                                                    \n",
            "                                                                                                  \n",
            " activation_48 (Activation)     (None, 17, 17, 256)  0           ['batch_normalization_48[0][0]'] \n",
            "                                                                                                  \n",
            " conv2d_55 (Conv2D)             (None, 17, 17, 256)  590080      ['activation_48[0][0]']          \n",
            "                                                                                                  \n",
            " batch_normalization_49 (BatchN  (None, 17, 17, 256)  1024       ['conv2d_55[0][0]']              \n",
            " ormalization)                                                                                    \n",
            "                                                                                                  \n",
            " conv2d_56 (Conv2D)             (None, 17, 17, 256)  33024       ['activation_47[0][0]']          \n",
            "                                                                                                  \n",
            " add_23 (Add)                   (None, 17, 17, 256)  0           ['batch_normalization_49[0][0]', \n",
            "                                                                  'conv2d_56[0][0]']              \n",
            "                                                                                                  \n",
            " activation_49 (Activation)     (None, 17, 17, 256)  0           ['add_23[0][0]']                 \n",
            "                                                                                                  \n",
            " conv2d_57 (Conv2D)             (None, 17, 17, 256)  590080      ['activation_49[0][0]']          \n",
            "                                                                                                  \n",
            " batch_normalization_50 (BatchN  (None, 17, 17, 256)  1024       ['conv2d_57[0][0]']              \n",
            " ormalization)                                                                                    \n",
            "                                                                                                  \n",
            " activation_50 (Activation)     (None, 17, 17, 256)  0           ['batch_normalization_50[0][0]'] \n",
            "                                                                                                  \n",
            " conv2d_58 (Conv2D)             (None, 17, 17, 256)  590080      ['activation_50[0][0]']          \n",
            "                                                                                                  \n",
            " batch_normalization_51 (BatchN  (None, 17, 17, 256)  1024       ['conv2d_58[0][0]']              \n",
            " ormalization)                                                                                    \n",
            "                                                                                                  \n",
            " add_24 (Add)                   (None, 17, 17, 256)  0           ['batch_normalization_51[0][0]', \n",
            "                                                                  'activation_49[0][0]']          \n",
            "                                                                                                  \n",
            " activation_51 (Activation)     (None, 17, 17, 256)  0           ['add_24[0][0]']                 \n",
            "                                                                                                  \n",
            " conv2d_59 (Conv2D)             (None, 17, 17, 256)  590080      ['activation_51[0][0]']          \n",
            "                                                                                                  \n",
            " batch_normalization_52 (BatchN  (None, 17, 17, 256)  1024       ['conv2d_59[0][0]']              \n",
            " ormalization)                                                                                    \n",
            "                                                                                                  \n",
            " activation_52 (Activation)     (None, 17, 17, 256)  0           ['batch_normalization_52[0][0]'] \n",
            "                                                                                                  \n",
            " conv2d_60 (Conv2D)             (None, 17, 17, 256)  590080      ['activation_52[0][0]']          \n",
            "                                                                                                  \n",
            " batch_normalization_53 (BatchN  (None, 17, 17, 256)  1024       ['conv2d_60[0][0]']              \n",
            " ormalization)                                                                                    \n",
            "                                                                                                  \n",
            " add_25 (Add)                   (None, 17, 17, 256)  0           ['batch_normalization_53[0][0]', \n",
            "                                                                  'activation_51[0][0]']          \n",
            "                                                                                                  \n",
            " activation_53 (Activation)     (None, 17, 17, 256)  0           ['add_25[0][0]']                 \n",
            "                                                                                                  \n",
            " conv2d_61 (Conv2D)             (None, 17, 17, 256)  590080      ['activation_53[0][0]']          \n",
            "                                                                                                  \n",
            " batch_normalization_54 (BatchN  (None, 17, 17, 256)  1024       ['conv2d_61[0][0]']              \n",
            " ormalization)                                                                                    \n",
            "                                                                                                  \n",
            " activation_54 (Activation)     (None, 17, 17, 256)  0           ['batch_normalization_54[0][0]'] \n",
            "                                                                                                  \n",
            " conv2d_62 (Conv2D)             (None, 17, 17, 256)  590080      ['activation_54[0][0]']          \n",
            "                                                                                                  \n",
            " batch_normalization_55 (BatchN  (None, 17, 17, 256)  1024       ['conv2d_62[0][0]']              \n",
            " ormalization)                                                                                    \n",
            "                                                                                                  \n",
            " add_26 (Add)                   (None, 17, 17, 256)  0           ['batch_normalization_55[0][0]', \n",
            "                                                                  'activation_53[0][0]']          \n",
            "                                                                                                  \n",
            " activation_55 (Activation)     (None, 17, 17, 256)  0           ['add_26[0][0]']                 \n",
            "                                                                                                  \n",
            " conv2d_63 (Conv2D)             (None, 17, 17, 256)  590080      ['activation_55[0][0]']          \n",
            "                                                                                                  \n",
            " batch_normalization_56 (BatchN  (None, 17, 17, 256)  1024       ['conv2d_63[0][0]']              \n",
            " ormalization)                                                                                    \n",
            "                                                                                                  \n",
            " activation_56 (Activation)     (None, 17, 17, 256)  0           ['batch_normalization_56[0][0]'] \n",
            "                                                                                                  \n",
            " conv2d_64 (Conv2D)             (None, 17, 17, 256)  590080      ['activation_56[0][0]']          \n",
            "                                                                                                  \n",
            " batch_normalization_57 (BatchN  (None, 17, 17, 256)  1024       ['conv2d_64[0][0]']              \n",
            " ormalization)                                                                                    \n",
            "                                                                                                  \n",
            " add_27 (Add)                   (None, 17, 17, 256)  0           ['batch_normalization_57[0][0]', \n",
            "                                                                  'activation_55[0][0]']          \n",
            "                                                                                                  \n",
            " activation_57 (Activation)     (None, 17, 17, 256)  0           ['add_27[0][0]']                 \n",
            "                                                                                                  \n",
            " conv2d_65 (Conv2D)             (None, 17, 17, 256)  590080      ['activation_57[0][0]']          \n",
            "                                                                                                  \n",
            " batch_normalization_58 (BatchN  (None, 17, 17, 256)  1024       ['conv2d_65[0][0]']              \n",
            " ormalization)                                                                                    \n",
            "                                                                                                  \n",
            " activation_58 (Activation)     (None, 17, 17, 256)  0           ['batch_normalization_58[0][0]'] \n",
            "                                                                                                  \n",
            " conv2d_66 (Conv2D)             (None, 17, 17, 256)  590080      ['activation_58[0][0]']          \n",
            "                                                                                                  \n",
            " batch_normalization_59 (BatchN  (None, 17, 17, 256)  1024       ['conv2d_66[0][0]']              \n",
            " ormalization)                                                                                    \n",
            "                                                                                                  \n",
            " add_28 (Add)                   (None, 17, 17, 256)  0           ['batch_normalization_59[0][0]', \n",
            "                                                                  'activation_57[0][0]']          \n",
            "                                                                                                  \n",
            " activation_59 (Activation)     (None, 17, 17, 256)  0           ['add_28[0][0]']                 \n",
            "                                                                                                  \n",
            " conv2d_67 (Conv2D)             (None, 9, 9, 512)    1180160     ['activation_59[0][0]']          \n",
            "                                                                                                  \n",
            " batch_normalization_60 (BatchN  (None, 9, 9, 512)   2048        ['conv2d_67[0][0]']              \n",
            " ormalization)                                                                                    \n",
            "                                                                                                  \n",
            " activation_60 (Activation)     (None, 9, 9, 512)    0           ['batch_normalization_60[0][0]'] \n",
            "                                                                                                  \n",
            " conv2d_68 (Conv2D)             (None, 9, 9, 512)    2359808     ['activation_60[0][0]']          \n",
            "                                                                                                  \n",
            " batch_normalization_61 (BatchN  (None, 9, 9, 512)   2048        ['conv2d_68[0][0]']              \n",
            " ormalization)                                                                                    \n",
            "                                                                                                  \n",
            " conv2d_69 (Conv2D)             (None, 9, 9, 512)    131584      ['activation_59[0][0]']          \n",
            "                                                                                                  \n",
            " add_29 (Add)                   (None, 9, 9, 512)    0           ['batch_normalization_61[0][0]', \n",
            "                                                                  'conv2d_69[0][0]']              \n",
            "                                                                                                  \n",
            " activation_61 (Activation)     (None, 9, 9, 512)    0           ['add_29[0][0]']                 \n",
            "                                                                                                  \n",
            " conv2d_70 (Conv2D)             (None, 9, 9, 512)    2359808     ['activation_61[0][0]']          \n",
            "                                                                                                  \n",
            " batch_normalization_62 (BatchN  (None, 9, 9, 512)   2048        ['conv2d_70[0][0]']              \n",
            " ormalization)                                                                                    \n",
            "                                                                                                  \n",
            " activation_62 (Activation)     (None, 9, 9, 512)    0           ['batch_normalization_62[0][0]'] \n",
            "                                                                                                  \n",
            " conv2d_71 (Conv2D)             (None, 9, 9, 512)    2359808     ['activation_62[0][0]']          \n",
            "                                                                                                  \n",
            " batch_normalization_63 (BatchN  (None, 9, 9, 512)   2048        ['conv2d_71[0][0]']              \n",
            " ormalization)                                                                                    \n",
            "                                                                                                  \n",
            " add_30 (Add)                   (None, 9, 9, 512)    0           ['batch_normalization_63[0][0]', \n",
            "                                                                  'activation_61[0][0]']          \n",
            "                                                                                                  \n",
            " activation_63 (Activation)     (None, 9, 9, 512)    0           ['add_30[0][0]']                 \n",
            "                                                                                                  \n",
            " conv2d_72 (Conv2D)             (None, 9, 9, 512)    2359808     ['activation_63[0][0]']          \n",
            "                                                                                                  \n",
            " batch_normalization_64 (BatchN  (None, 9, 9, 512)   2048        ['conv2d_72[0][0]']              \n",
            " ormalization)                                                                                    \n",
            "                                                                                                  \n",
            " activation_64 (Activation)     (None, 9, 9, 512)    0           ['batch_normalization_64[0][0]'] \n",
            "                                                                                                  \n",
            " conv2d_73 (Conv2D)             (None, 9, 9, 512)    2359808     ['activation_64[0][0]']          \n",
            "                                                                                                  \n",
            " batch_normalization_65 (BatchN  (None, 9, 9, 512)   2048        ['conv2d_73[0][0]']              \n",
            " ormalization)                                                                                    \n",
            "                                                                                                  \n",
            " add_31 (Add)                   (None, 9, 9, 512)    0           ['batch_normalization_65[0][0]', \n",
            "                                                                  'activation_63[0][0]']          \n",
            "                                                                                                  \n",
            " activation_65 (Activation)     (None, 9, 9, 512)    0           ['add_31[0][0]']                 \n",
            "                                                                                                  \n",
            " average_pooling2d_1 (AveragePo  (None, 5, 5, 512)   0           ['activation_65[0][0]']          \n",
            " oling2D)                                                                                         \n",
            "                                                                                                  \n",
            " dropout_3 (Dropout)            (None, 5, 5, 512)    0           ['average_pooling2d_1[0][0]']    \n",
            "                                                                                                  \n",
            " flatten_1 (Flatten)            (None, 12800)        0           ['dropout_3[0][0]']              \n",
            "                                                                                                  \n",
            " dense_2 (Dense)                (None, 64)           819264      ['flatten_1[0][0]']              \n",
            "                                                                                                  \n",
            " dense_3 (Dense)                (None, 1)            65          ['dense_2[0][0]']                \n",
            "                                                                                                  \n",
            "==================================================================================================\n",
            "Total params: 22,119,681\n",
            "Trainable params: 22,104,449\n",
            "Non-trainable params: 15,232\n",
            "__________________________________________________________________________________________________\n",
            "Epoch 1/20\n",
            "225/699 [========>.....................] - ETA: 11:03 - loss: 63.5428 - mae: 4.8270 - mape: 16.0455"
          ]
        }
      ],
      "source": [
        "model.summary()\n",
        "history = model.fit(train_dataset, epochs=20, validation_data=test_dataset)"
      ]
    },
    {
      "cell_type": "code",
      "execution_count": null,
      "metadata": {
        "colab": {
          "background_save": true,
          "base_uri": "https://localhost:8080/"
        },
        "id": "l0rGvc7vb4bT",
        "outputId": "2911b4bf-72ff-441f-f99c-8c8a4db4d98d"
      },
      "outputs": [
        {
          "name": "stdout",
          "output_type": "stream",
          "text": [
            "144/144 [==============================] - 44s 303ms/step - loss: 36.2253 - mae: 4.7119 - mape: 18.8093\n",
            "Test loss: 36.22525405883789\n",
            "Test mean absolute error: 4.711947441101074\n",
            "Test mean absolute percentage error: 18.809282302856445\n"
          ]
        }
      ],
      "source": [
        "test_loss, test_mae, test_mape = model.evaluate(test_dataset)\n",
        "print('Test loss:', test_loss)\n",
        "print('Test mean absolute error:', test_mae)\n",
        "print('Test mean absolute percentage error:', test_mape)"
      ]
    }
  ],
  "metadata": {
    "accelerator": "GPU",
    "colab": {
      "provenance": [],
      "include_colab_link": true
    },
    "gpuClass": "standard",
    "kernelspec": {
      "display_name": "Python 3",
      "name": "python3"
    },
    "language_info": {
      "name": "python"
    }
  },
  "nbformat": 4,
  "nbformat_minor": 0
}